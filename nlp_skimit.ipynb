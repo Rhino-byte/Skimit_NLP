{
  "nbformat": 4,
  "nbformat_minor": 0,
  "metadata": {
    "colab": {
      "provenance": [],
      "gpuType": "T4",
      "authorship_tag": "ABX9TyP10CzR3EVSLXD58CIz+utt",
      "include_colab_link": true
    },
    "kernelspec": {
      "name": "python3",
      "display_name": "Python 3"
    },
    "language_info": {
      "name": "python"
    },
    "accelerator": "GPU"
  },
  "cells": [
    {
      "cell_type": "markdown",
      "metadata": {
        "id": "view-in-github",
        "colab_type": "text"
      },
      "source": [
        "<a href=\"https://colab.research.google.com/github/Rhino-byte/Skimit_NLP/blob/main/nlp_skimit.ipynb\" target=\"_parent\"><img src=\"https://colab.research.google.com/assets/colab-badge.svg\" alt=\"Open In Colab\"/></a>"
      ]
    },
    {
      "cell_type": "markdown",
      "source": [
        "# Milestone Project : SkimLit 📄🔥\n",
        "\n",
        "The purpose of this notebook is to build an NLP model to make reading medical abstracts easier.\n",
        "\n",
        "The paper we're replicating (the source of the dataset that we'll be using) is available here: https://arxiv.org/abs/1710.06071\n",
        "\n",
        "And reading through the paper above, we see that the model architecture that they use to achieve their best results is available here: https://arxiv.org/abs/1612.05251"
      ],
      "metadata": {
        "id": "ezsQfar1JHkx"
      }
    },
    {
      "cell_type": "markdown",
      "source": [
        "## Confirm access to GPU\n"
      ],
      "metadata": {
        "id": "GOI-FDOsMuA4"
      }
    },
    {
      "cell_type": "code",
      "source": [
        "!nvidia -smi -L"
      ],
      "metadata": {
        "colab": {
          "base_uri": "https://localhost:8080/"
        },
        "id": "YbLZWnwF1NJd",
        "outputId": "fc32e06c-66a0-4d36-c2a3-060656957afe"
      },
      "execution_count": 1,
      "outputs": [
        {
          "output_type": "stream",
          "name": "stdout",
          "text": [
            "/bin/bash: line 1: nvidia: command not found\n"
          ]
        }
      ]
    },
    {
      "cell_type": "markdown",
      "source": [
        "## Get the data\n",
        "\n",
        "Since we'll be replicating the paper above (Published 200k RCT), Let's download the dataset they used.\n",
        "\n",
        "We cando so from the authors GitHub: https://github.com/Franck-Dernoncourt/pubmed-rct"
      ],
      "metadata": {
        "id": "G8bKb1sf1QKA"
      }
    },
    {
      "cell_type": "code",
      "source": [
        "!git clone https://github.com/Franck-Dernoncourt/pubmed-rct\n",
        "!ls pubmed-rct"
      ],
      "metadata": {
        "colab": {
          "base_uri": "https://localhost:8080/"
        },
        "id": "mA3yb3Tc1-Sb",
        "outputId": "7b3fc458-6fc4-49ff-89e1-fd587ac85d75"
      },
      "execution_count": 2,
      "outputs": [
        {
          "output_type": "stream",
          "name": "stdout",
          "text": [
            "Cloning into 'pubmed-rct'...\n",
            "remote: Enumerating objects: 39, done.\u001b[K\n",
            "remote: Counting objects: 100% (14/14), done.\u001b[K\n",
            "remote: Compressing objects: 100% (9/9), done.\u001b[K\n",
            "remote: Total 39 (delta 8), reused 5 (delta 5), pack-reused 25 (from 1)\u001b[K\n",
            "Receiving objects: 100% (39/39), 177.08 MiB | 30.52 MiB/s, done.\n",
            "Resolving deltas: 100% (15/15), done.\n",
            "PubMed_200k_RCT\n",
            "PubMed_200k_RCT_numbers_replaced_with_at_sign\n",
            "PubMed_20k_RCT\n",
            "PubMed_20k_RCT_numbers_replaced_with_at_sign\n",
            "README.md\n"
          ]
        }
      ]
    },
    {
      "cell_type": "code",
      "source": [
        "# Check what files are in the PubMed 20K dataset\n",
        "!ls pubmed-rct/PubMed_20k_RCT_numbers_replaced_with_at_sign/"
      ],
      "metadata": {
        "colab": {
          "base_uri": "https://localhost:8080/"
        },
        "id": "ohWgcaoP3HGo",
        "outputId": "6436d8f9-c93d-4cea-b2cd-2f4ddef722e5"
      },
      "execution_count": 3,
      "outputs": [
        {
          "output_type": "stream",
          "name": "stdout",
          "text": [
            "dev.txt  test.txt  train.txt\n"
          ]
        }
      ]
    },
    {
      "cell_type": "code",
      "source": [
        "# Start our expperiments using 20k dataset with numbers replaced by @ sign\n",
        "data_dir = \"/content/pubmed-rct/PubMed_20k_RCT_numbers_replaced_with_at_sign\""
      ],
      "metadata": {
        "id": "74vZe0Ix3bIq"
      },
      "execution_count": 4,
      "outputs": []
    },
    {
      "cell_type": "code",
      "source": [
        "# Check all of the file names in the target directory\n",
        "import os\n",
        "filenames = [data_dir + filename for filename in os.listdir(data_dir)]\n",
        "filenames"
      ],
      "metadata": {
        "colab": {
          "base_uri": "https://localhost:8080/"
        },
        "id": "ZQ0YLWFV5GAR",
        "outputId": "ede84d11-cf1e-4c50-ff00-c170eff5204d"
      },
      "execution_count": 5,
      "outputs": [
        {
          "output_type": "execute_result",
          "data": {
            "text/plain": [
              "['/content/pubmed-rct/PubMed_20k_RCT_numbers_replaced_with_at_signdev.txt',\n",
              " '/content/pubmed-rct/PubMed_20k_RCT_numbers_replaced_with_at_signtest.txt',\n",
              " '/content/pubmed-rct/PubMed_20k_RCT_numbers_replaced_with_at_signtrain.txt']"
            ]
          },
          "metadata": {},
          "execution_count": 5
        }
      ]
    },
    {
      "cell_type": "code",
      "source": [
        "'/content/pubmed-rct/PubMed_20k_RCT_numbers_replaced_with_at_signtrain.txt'== '/content/pubmed-rct/PubMed_20k_RCT_numbers_replaced_with_at_sign/train.txt'\n"
      ],
      "metadata": {
        "colab": {
          "base_uri": "https://localhost:8080/"
        },
        "id": "-Y1pWaDg9K9U",
        "outputId": "ffa7da4f-454d-45e9-d571-4e045ad334b3"
      },
      "execution_count": 6,
      "outputs": [
        {
          "output_type": "execute_result",
          "data": {
            "text/plain": [
              "False"
            ]
          },
          "metadata": {},
          "execution_count": 6
        }
      ]
    },
    {
      "cell_type": "markdown",
      "source": [
        "## Preprocess data\n",
        "\n",
        "Now we've got some text data, it's time to become one with it and one of the best ways to become one with the data is to ...\n",
        "\n",
        "`Visualize, visualize, visualize`\n",
        "\n",
        "So with that in mind, let's write a function to read in all of the lines of a target text file\n",
        "\n"
      ],
      "metadata": {
        "id": "oSc1GHew56Q8"
      }
    },
    {
      "cell_type": "code",
      "source": [
        " # Create a function to read the lines of a document\n",
        "def get_lines(filename):\n",
        "  \"\"\"\n",
        "  Reads filename (a text filename) and returns the lines of a text as a list\n",
        "\n",
        "  Args:\n",
        "    filename: a string containing the target filepath.\n",
        "\n",
        "  Returns:\n",
        "    A list of strings with one string per line from the target filename.\n",
        "  \"\"\"\n",
        "  with open(filename,\"r\") as f:\n",
        "    return f.readlines()\n",
        "\n"
      ],
      "metadata": {
        "id": "_7tOdI7U6r1Z"
      },
      "execution_count": 7,
      "outputs": []
    },
    {
      "cell_type": "code",
      "source": [
        "# Let's read in the training lines\n",
        "train_lines = get_lines(data_dir+\"/train.txt\")# read lines with the training files\n",
        "train_lines[:27]"
      ],
      "metadata": {
        "colab": {
          "base_uri": "https://localhost:8080/"
        },
        "id": "MlNB5tX68fD6",
        "outputId": "b66260da-af00-4f46-bd87-c4621dda7417"
      },
      "execution_count": 8,
      "outputs": [
        {
          "output_type": "execute_result",
          "data": {
            "text/plain": [
              "['###24293578\\n',\n",
              " 'OBJECTIVE\\tTo investigate the efficacy of @ weeks of daily low-dose oral prednisolone in improving pain , mobility , and systemic low-grade inflammation in the short term and whether the effect would be sustained at @ weeks in older adults with moderate to severe knee osteoarthritis ( OA ) .\\n',\n",
              " 'METHODS\\tA total of @ patients with primary knee OA were randomized @:@ ; @ received @ mg/day of prednisolone and @ received placebo for @ weeks .\\n',\n",
              " 'METHODS\\tOutcome measures included pain reduction and improvement in function scores and systemic inflammation markers .\\n',\n",
              " 'METHODS\\tPain was assessed using the visual analog pain scale ( @-@ mm ) .\\n',\n",
              " 'METHODS\\tSecondary outcome measures included the Western Ontario and McMaster Universities Osteoarthritis Index scores , patient global assessment ( PGA ) of the severity of knee OA , and @-min walk distance ( @MWD ) .\\n',\n",
              " 'METHODS\\tSerum levels of interleukin @ ( IL-@ ) , IL-@ , tumor necrosis factor ( TNF ) - , and high-sensitivity C-reactive protein ( hsCRP ) were measured .\\n',\n",
              " 'RESULTS\\tThere was a clinically relevant reduction in the intervention group compared to the placebo group for knee pain , physical function , PGA , and @MWD at @ weeks .\\n',\n",
              " 'RESULTS\\tThe mean difference between treatment arms ( @ % CI ) was @ ( @-@ @ ) , p < @ ; @ ( @-@ @ ) , p < @ ; @ ( @-@ @ ) , p < @ ; and @ ( @-@ @ ) , p < @ , respectively .\\n',\n",
              " 'RESULTS\\tFurther , there was a clinically relevant reduction in the serum levels of IL-@ , IL-@ , TNF - , and hsCRP at @ weeks in the intervention group when compared to the placebo group .\\n',\n",
              " 'RESULTS\\tThese differences remained significant at @ weeks .\\n',\n",
              " 'RESULTS\\tThe Outcome Measures in Rheumatology Clinical Trials-Osteoarthritis Research Society International responder rate was @ % in the intervention group and @ % in the placebo group ( p < @ ) .\\n',\n",
              " 'CONCLUSIONS\\tLow-dose oral prednisolone had both a short-term and a longer sustained effect resulting in less knee pain , better physical function , and attenuation of systemic inflammation in older patients with knee OA ( ClinicalTrials.gov identifier NCT@ ) .\\n',\n",
              " '\\n',\n",
              " '###24854809\\n',\n",
              " 'BACKGROUND\\tEmotional eating is associated with overeating and the development of obesity .\\n',\n",
              " 'BACKGROUND\\tYet , empirical evidence for individual ( trait ) differences in emotional eating and cognitive mechanisms that contribute to eating during sad mood remain equivocal .\\n',\n",
              " 'OBJECTIVE\\tThe aim of this study was to test if attention bias for food moderates the effect of self-reported emotional eating during sad mood ( vs neutral mood ) on actual food intake .\\n',\n",
              " 'OBJECTIVE\\tIt was expected that emotional eating is predictive of elevated attention for food and higher food intake after an experimentally induced sad mood and that attentional maintenance on food predicts food intake during a sad versus a neutral mood .\\n',\n",
              " 'METHODS\\tParticipants ( N = @ ) were randomly assigned to one of the two experimental mood induction conditions ( sad/neutral ) .\\n',\n",
              " 'METHODS\\tAttentional biases for high caloric foods were measured by eye tracking during a visual probe task with pictorial food and neutral stimuli .\\n',\n",
              " 'METHODS\\tSelf-reported emotional eating was assessed with the Dutch Eating Behavior Questionnaire ( DEBQ ) and ad libitum food intake was tested by a disguised food offer .\\n',\n",
              " 'RESULTS\\tHierarchical multivariate regression modeling showed that self-reported emotional eating did not account for changes in attention allocation for food or food intake in either condition .\\n',\n",
              " 'RESULTS\\tYet , attention maintenance on food cues was significantly related to increased intake specifically in the neutral condition , but not in the sad mood condition .\\n',\n",
              " 'CONCLUSIONS\\tThe current findings show that self-reported emotional eating ( based on the DEBQ ) might not validly predict who overeats when sad , at least not in a laboratory setting with healthy women .\\n',\n",
              " 'CONCLUSIONS\\tResults further suggest that attention maintenance on food relates to eating motivation when in a neutral affective state , and might therefore be a cognitive mechanism contributing to increased food intake in general , but maybe not during sad mood .\\n',\n",
              " '\\n']"
            ]
          },
          "metadata": {},
          "execution_count": 8
        }
      ]
    },
    {
      "cell_type": "code",
      "source": [
        "len(train_lines)"
      ],
      "metadata": {
        "colab": {
          "base_uri": "https://localhost:8080/"
        },
        "id": "SY4JqTN_-RXj",
        "outputId": "32e40097-07c2-419f-9899-6a4c710f12bc"
      },
      "execution_count": 9,
      "outputs": [
        {
          "output_type": "execute_result",
          "data": {
            "text/plain": [
              "210040"
            ]
          },
          "metadata": {},
          "execution_count": 9
        }
      ]
    },
    {
      "cell_type": "markdown",
      "source": [
        "Let's think about how we want our data to look...\n",
        "\n",
        "How I think our data would be best reprsented as a list of dictionaries...\n",
        "\n",
        "```\n",
        "[{ 'line_number': 0\n",
        "   'target': 'BACKGROUND',\n",
        "   'text': ' Emotional eating is associated with overeating and the development of obesity .\\n'\n",
        "   'total_lines': 11},\n",
        "   ......]"
      ],
      "metadata": {
        "id": "oh853BNm-Apj"
      }
    },
    {
      "cell_type": "code",
      "source": [
        "def preprocess_text_with_line_numbers(filename):\n",
        "  \"\"\"\n",
        "  Returns a list of dictionaries of abstract line data.\n",
        "\n",
        "  Takes in filename, reads it content and sorts through each line,\n",
        "  extracting things like the target label, the text of the sentence,\n",
        "  how many sentences are in the current abstract and what sentence\n",
        "  number the target line is.\n",
        "  \"\"\"\n",
        "  input_lines = get_lines(filename) # get all line from filename\n",
        "  abstract_lines = \"\" # Create an empty abstract\n",
        "  abstract_sample = [] # Create an empty list of abstracts\n",
        "\n",
        "  # Loop through each line in the target file\n",
        "  for line in input_lines:\n",
        "    if line.startswith(\"###\"): # Check to see if their is an ID line\n",
        "      abstract_id =line\n",
        "      abstract_lines = \"\" # reset the abstract string if line is a new line\n",
        "    elif line.isspace(): # Check to see if it is a new line\n",
        "      abstract_line_split = abstract_lines.splitlines() # split abstract into separate lines(\\n)\n",
        "\n",
        "      # Iterate through each line in a single abstract and count them at the same time\n",
        "      for abstract_line_number, abstract_line in enumerate(abstract_line_split):\n",
        "        line_data = {} # Create an empty dictionary for each line\n",
        "        target_text_split = abstract_line.split(\"\\t\") # split target label from text\n",
        "        line_data[\"line_number\"] = abstract_line_number # what no line does the line appear in the abstract?\n",
        "        line_data[\"target\"] = target_text_split[0] # get target label\n",
        "        line_data[\"text\"] = target_text_split[1].lower() # get target text and lower it\n",
        "        line_data[\"total_lines\"] = len(abstract_line_split)-1 # How many total lines are there in the target abstracts\n",
        "        abstract_sample.append(line_data) # Add line data to abstract sample list\n",
        "\n",
        "    else: # If the above condition aren't fullfilled, the line contains a labelled sentence\n",
        "      abstract_lines += line\n",
        "  return abstract_sample\n",
        "\n",
        "\n",
        "\n",
        "\n"
      ],
      "metadata": {
        "id": "5JvJbzY7BPrS"
      },
      "execution_count": 10,
      "outputs": []
    },
    {
      "cell_type": "code",
      "source": [
        "# @title How `isspace()` works\n",
        "\n",
        "# @markdown In Python, whitespace refers to any character that represents horizontal or vertical space, including spaces, tabs, newlines, and carriage returns. Unlike many other languages where it is mostly ignored, whitespace is syntactically significant in Python, especially for indicating code structure through indentation.\n",
        "\n",
        "text_list =[ \"\\n\", '\\t', ' ']\n",
        "\n",
        "x = [txt.isspace() for txt in text_list]\n",
        "print(x)"
      ],
      "metadata": {
        "cellView": "form",
        "colab": {
          "base_uri": "https://localhost:8080/"
        },
        "id": "T5ZM1LAnAPyz",
        "outputId": "468ed991-2f41-4267-eda8-8379863c7955"
      },
      "execution_count": 11,
      "outputs": [
        {
          "output_type": "stream",
          "name": "stdout",
          "text": [
            "[True, True, True]\n"
          ]
        }
      ]
    },
    {
      "cell_type": "code",
      "source": [
        "# @title How `splitlines()` works\n",
        "\n",
        "# @markdown The `splitlines()` method splits a string into a list. The splitting is done at line breaks.\n",
        "txt = \"Thank you for the music\\nWelcome to the jungle\"\n",
        "\n",
        "x = txt.splitlines()\n",
        "\n",
        "print(x)"
      ],
      "metadata": {
        "cellView": "form",
        "colab": {
          "base_uri": "https://localhost:8080/"
        },
        "id": "OOKrBTN-jSbn",
        "outputId": "985f4816-876a-4cdc-9f73-c310ddfc8a6b"
      },
      "execution_count": 12,
      "outputs": [
        {
          "output_type": "stream",
          "name": "stdout",
          "text": [
            "['Thank you for the music', 'Welcome to the jungle']\n"
          ]
        }
      ]
    },
    {
      "cell_type": "code",
      "source": [
        "# Get data from file and preprocess it\n",
        "\n",
        "%%time\n",
        "train_samples = preprocess_text_with_line_numbers(data_dir+'/train.txt')\n",
        "val_samples = preprocess_text_with_line_numbers(data_dir+'/dev.txt')\n",
        "test_samples = preprocess_text_with_line_numbers(data_dir+'/test.txt')\n",
        "print(len(train_samples),len(val_samples),len(test_samples))\n"
      ],
      "metadata": {
        "colab": {
          "base_uri": "https://localhost:8080/"
        },
        "id": "Vny2_aVHjV-h",
        "outputId": "975b3150-2e6d-452a-ca36-3220f4c9a9f3"
      },
      "execution_count": 13,
      "outputs": [
        {
          "output_type": "stream",
          "name": "stdout",
          "text": [
            "180040 30212 30135\n",
            "CPU times: user 294 ms, sys: 75.7 ms, total: 370 ms\n",
            "Wall time: 370 ms\n"
          ]
        }
      ]
    },
    {
      "cell_type": "code",
      "source": [
        "# Check the first abstract of our training data\n",
        "train_samples[:10]"
      ],
      "metadata": {
        "colab": {
          "base_uri": "https://localhost:8080/"
        },
        "id": "n8qWGyoYsIMT",
        "outputId": "3320f7d9-6e75-4632-da94-ee3a9ea5f128"
      },
      "execution_count": 14,
      "outputs": [
        {
          "output_type": "execute_result",
          "data": {
            "text/plain": [
              "[{'line_number': 0,\n",
              "  'target': 'OBJECTIVE',\n",
              "  'text': 'to investigate the efficacy of @ weeks of daily low-dose oral prednisolone in improving pain , mobility , and systemic low-grade inflammation in the short term and whether the effect would be sustained at @ weeks in older adults with moderate to severe knee osteoarthritis ( oa ) .',\n",
              "  'total_lines': 11},\n",
              " {'line_number': 1,\n",
              "  'target': 'METHODS',\n",
              "  'text': 'a total of @ patients with primary knee oa were randomized @:@ ; @ received @ mg/day of prednisolone and @ received placebo for @ weeks .',\n",
              "  'total_lines': 11},\n",
              " {'line_number': 2,\n",
              "  'target': 'METHODS',\n",
              "  'text': 'outcome measures included pain reduction and improvement in function scores and systemic inflammation markers .',\n",
              "  'total_lines': 11},\n",
              " {'line_number': 3,\n",
              "  'target': 'METHODS',\n",
              "  'text': 'pain was assessed using the visual analog pain scale ( @-@ mm ) .',\n",
              "  'total_lines': 11},\n",
              " {'line_number': 4,\n",
              "  'target': 'METHODS',\n",
              "  'text': 'secondary outcome measures included the western ontario and mcmaster universities osteoarthritis index scores , patient global assessment ( pga ) of the severity of knee oa , and @-min walk distance ( @mwd ) .',\n",
              "  'total_lines': 11},\n",
              " {'line_number': 5,\n",
              "  'target': 'METHODS',\n",
              "  'text': 'serum levels of interleukin @ ( il-@ ) , il-@ , tumor necrosis factor ( tnf ) - , and high-sensitivity c-reactive protein ( hscrp ) were measured .',\n",
              "  'total_lines': 11},\n",
              " {'line_number': 6,\n",
              "  'target': 'RESULTS',\n",
              "  'text': 'there was a clinically relevant reduction in the intervention group compared to the placebo group for knee pain , physical function , pga , and @mwd at @ weeks .',\n",
              "  'total_lines': 11},\n",
              " {'line_number': 7,\n",
              "  'target': 'RESULTS',\n",
              "  'text': 'the mean difference between treatment arms ( @ % ci ) was @ ( @-@ @ ) , p < @ ; @ ( @-@ @ ) , p < @ ; @ ( @-@ @ ) , p < @ ; and @ ( @-@ @ ) , p < @ , respectively .',\n",
              "  'total_lines': 11},\n",
              " {'line_number': 8,\n",
              "  'target': 'RESULTS',\n",
              "  'text': 'further , there was a clinically relevant reduction in the serum levels of il-@ , il-@ , tnf - , and hscrp at @ weeks in the intervention group when compared to the placebo group .',\n",
              "  'total_lines': 11},\n",
              " {'line_number': 9,\n",
              "  'target': 'RESULTS',\n",
              "  'text': 'these differences remained significant at @ weeks .',\n",
              "  'total_lines': 11}]"
            ]
          },
          "metadata": {},
          "execution_count": 14
        }
      ]
    },
    {
      "cell_type": "markdown",
      "source": [
        "## Explolatory Data Analysis"
      ],
      "metadata": {
        "id": "waSnPG2d0cTt"
      }
    },
    {
      "cell_type": "markdown",
      "source": [
        "The `preprocess_text_with_line_numbers()` function worked great\n",
        "How about we turn our list of dictionaries into pandas Dataframe's so we visualize them better?"
      ],
      "metadata": {
        "id": "kDYtsCabzcOn"
      }
    },
    {
      "cell_type": "code",
      "source": [
        "import pandas as pd\n",
        "train_df =pd.DataFrame(train_samples)\n",
        "val_df =pd.DataFrame(val_samples)\n",
        "test_df =pd.DataFrame(test_samples)\n",
        "train_df.head(14)"
      ],
      "metadata": {
        "colab": {
          "base_uri": "https://localhost:8080/",
          "height": 731
        },
        "id": "F5vEH86hz17A",
        "outputId": "0f1e5e5a-2ae4-42c1-e39b-7ca90b61466f"
      },
      "execution_count": 15,
      "outputs": [
        {
          "output_type": "execute_result",
          "data": {
            "text/plain": [
              "    line_number       target  \\\n",
              "0             0    OBJECTIVE   \n",
              "1             1      METHODS   \n",
              "2             2      METHODS   \n",
              "3             3      METHODS   \n",
              "4             4      METHODS   \n",
              "5             5      METHODS   \n",
              "6             6      RESULTS   \n",
              "7             7      RESULTS   \n",
              "8             8      RESULTS   \n",
              "9             9      RESULTS   \n",
              "10           10      RESULTS   \n",
              "11           11  CONCLUSIONS   \n",
              "12            0   BACKGROUND   \n",
              "13            1   BACKGROUND   \n",
              "\n",
              "                                                 text  total_lines  \n",
              "0   to investigate the efficacy of @ weeks of dail...           11  \n",
              "1   a total of @ patients with primary knee oa wer...           11  \n",
              "2   outcome measures included pain reduction and i...           11  \n",
              "3   pain was assessed using the visual analog pain...           11  \n",
              "4   secondary outcome measures included the wester...           11  \n",
              "5   serum levels of interleukin @ ( il-@ ) , il-@ ...           11  \n",
              "6   there was a clinically relevant reduction in t...           11  \n",
              "7   the mean difference between treatment arms ( @...           11  \n",
              "8   further , there was a clinically relevant redu...           11  \n",
              "9   these differences remained significant at @ we...           11  \n",
              "10  the outcome measures in rheumatology clinical ...           11  \n",
              "11  low-dose oral prednisolone had both a short-te...           11  \n",
              "12  emotional eating is associated with overeating...           10  \n",
              "13  yet , empirical evidence for individual ( trai...           10  "
            ],
            "text/html": [
              "\n",
              "  <div id=\"df-5d3dbbcc-34f7-4151-a648-ddc537ba6160\" class=\"colab-df-container\">\n",
              "    <div>\n",
              "<style scoped>\n",
              "    .dataframe tbody tr th:only-of-type {\n",
              "        vertical-align: middle;\n",
              "    }\n",
              "\n",
              "    .dataframe tbody tr th {\n",
              "        vertical-align: top;\n",
              "    }\n",
              "\n",
              "    .dataframe thead th {\n",
              "        text-align: right;\n",
              "    }\n",
              "</style>\n",
              "<table border=\"1\" class=\"dataframe\">\n",
              "  <thead>\n",
              "    <tr style=\"text-align: right;\">\n",
              "      <th></th>\n",
              "      <th>line_number</th>\n",
              "      <th>target</th>\n",
              "      <th>text</th>\n",
              "      <th>total_lines</th>\n",
              "    </tr>\n",
              "  </thead>\n",
              "  <tbody>\n",
              "    <tr>\n",
              "      <th>0</th>\n",
              "      <td>0</td>\n",
              "      <td>OBJECTIVE</td>\n",
              "      <td>to investigate the efficacy of @ weeks of dail...</td>\n",
              "      <td>11</td>\n",
              "    </tr>\n",
              "    <tr>\n",
              "      <th>1</th>\n",
              "      <td>1</td>\n",
              "      <td>METHODS</td>\n",
              "      <td>a total of @ patients with primary knee oa wer...</td>\n",
              "      <td>11</td>\n",
              "    </tr>\n",
              "    <tr>\n",
              "      <th>2</th>\n",
              "      <td>2</td>\n",
              "      <td>METHODS</td>\n",
              "      <td>outcome measures included pain reduction and i...</td>\n",
              "      <td>11</td>\n",
              "    </tr>\n",
              "    <tr>\n",
              "      <th>3</th>\n",
              "      <td>3</td>\n",
              "      <td>METHODS</td>\n",
              "      <td>pain was assessed using the visual analog pain...</td>\n",
              "      <td>11</td>\n",
              "    </tr>\n",
              "    <tr>\n",
              "      <th>4</th>\n",
              "      <td>4</td>\n",
              "      <td>METHODS</td>\n",
              "      <td>secondary outcome measures included the wester...</td>\n",
              "      <td>11</td>\n",
              "    </tr>\n",
              "    <tr>\n",
              "      <th>5</th>\n",
              "      <td>5</td>\n",
              "      <td>METHODS</td>\n",
              "      <td>serum levels of interleukin @ ( il-@ ) , il-@ ...</td>\n",
              "      <td>11</td>\n",
              "    </tr>\n",
              "    <tr>\n",
              "      <th>6</th>\n",
              "      <td>6</td>\n",
              "      <td>RESULTS</td>\n",
              "      <td>there was a clinically relevant reduction in t...</td>\n",
              "      <td>11</td>\n",
              "    </tr>\n",
              "    <tr>\n",
              "      <th>7</th>\n",
              "      <td>7</td>\n",
              "      <td>RESULTS</td>\n",
              "      <td>the mean difference between treatment arms ( @...</td>\n",
              "      <td>11</td>\n",
              "    </tr>\n",
              "    <tr>\n",
              "      <th>8</th>\n",
              "      <td>8</td>\n",
              "      <td>RESULTS</td>\n",
              "      <td>further , there was a clinically relevant redu...</td>\n",
              "      <td>11</td>\n",
              "    </tr>\n",
              "    <tr>\n",
              "      <th>9</th>\n",
              "      <td>9</td>\n",
              "      <td>RESULTS</td>\n",
              "      <td>these differences remained significant at @ we...</td>\n",
              "      <td>11</td>\n",
              "    </tr>\n",
              "    <tr>\n",
              "      <th>10</th>\n",
              "      <td>10</td>\n",
              "      <td>RESULTS</td>\n",
              "      <td>the outcome measures in rheumatology clinical ...</td>\n",
              "      <td>11</td>\n",
              "    </tr>\n",
              "    <tr>\n",
              "      <th>11</th>\n",
              "      <td>11</td>\n",
              "      <td>CONCLUSIONS</td>\n",
              "      <td>low-dose oral prednisolone had both a short-te...</td>\n",
              "      <td>11</td>\n",
              "    </tr>\n",
              "    <tr>\n",
              "      <th>12</th>\n",
              "      <td>0</td>\n",
              "      <td>BACKGROUND</td>\n",
              "      <td>emotional eating is associated with overeating...</td>\n",
              "      <td>10</td>\n",
              "    </tr>\n",
              "    <tr>\n",
              "      <th>13</th>\n",
              "      <td>1</td>\n",
              "      <td>BACKGROUND</td>\n",
              "      <td>yet , empirical evidence for individual ( trai...</td>\n",
              "      <td>10</td>\n",
              "    </tr>\n",
              "  </tbody>\n",
              "</table>\n",
              "</div>\n",
              "    <div class=\"colab-df-buttons\">\n",
              "\n",
              "  <div class=\"colab-df-container\">\n",
              "    <button class=\"colab-df-convert\" onclick=\"convertToInteractive('df-5d3dbbcc-34f7-4151-a648-ddc537ba6160')\"\n",
              "            title=\"Convert this dataframe to an interactive table.\"\n",
              "            style=\"display:none;\">\n",
              "\n",
              "  <svg xmlns=\"http://www.w3.org/2000/svg\" height=\"24px\" viewBox=\"0 -960 960 960\">\n",
              "    <path d=\"M120-120v-720h720v720H120Zm60-500h600v-160H180v160Zm220 220h160v-160H400v160Zm0 220h160v-160H400v160ZM180-400h160v-160H180v160Zm440 0h160v-160H620v160ZM180-180h160v-160H180v160Zm440 0h160v-160H620v160Z\"/>\n",
              "  </svg>\n",
              "    </button>\n",
              "\n",
              "  <style>\n",
              "    .colab-df-container {\n",
              "      display:flex;\n",
              "      gap: 12px;\n",
              "    }\n",
              "\n",
              "    .colab-df-convert {\n",
              "      background-color: #E8F0FE;\n",
              "      border: none;\n",
              "      border-radius: 50%;\n",
              "      cursor: pointer;\n",
              "      display: none;\n",
              "      fill: #1967D2;\n",
              "      height: 32px;\n",
              "      padding: 0 0 0 0;\n",
              "      width: 32px;\n",
              "    }\n",
              "\n",
              "    .colab-df-convert:hover {\n",
              "      background-color: #E2EBFA;\n",
              "      box-shadow: 0px 1px 2px rgba(60, 64, 67, 0.3), 0px 1px 3px 1px rgba(60, 64, 67, 0.15);\n",
              "      fill: #174EA6;\n",
              "    }\n",
              "\n",
              "    .colab-df-buttons div {\n",
              "      margin-bottom: 4px;\n",
              "    }\n",
              "\n",
              "    [theme=dark] .colab-df-convert {\n",
              "      background-color: #3B4455;\n",
              "      fill: #D2E3FC;\n",
              "    }\n",
              "\n",
              "    [theme=dark] .colab-df-convert:hover {\n",
              "      background-color: #434B5C;\n",
              "      box-shadow: 0px 1px 3px 1px rgba(0, 0, 0, 0.15);\n",
              "      filter: drop-shadow(0px 1px 2px rgba(0, 0, 0, 0.3));\n",
              "      fill: #FFFFFF;\n",
              "    }\n",
              "  </style>\n",
              "\n",
              "    <script>\n",
              "      const buttonEl =\n",
              "        document.querySelector('#df-5d3dbbcc-34f7-4151-a648-ddc537ba6160 button.colab-df-convert');\n",
              "      buttonEl.style.display =\n",
              "        google.colab.kernel.accessAllowed ? 'block' : 'none';\n",
              "\n",
              "      async function convertToInteractive(key) {\n",
              "        const element = document.querySelector('#df-5d3dbbcc-34f7-4151-a648-ddc537ba6160');\n",
              "        const dataTable =\n",
              "          await google.colab.kernel.invokeFunction('convertToInteractive',\n",
              "                                                    [key], {});\n",
              "        if (!dataTable) return;\n",
              "\n",
              "        const docLinkHtml = 'Like what you see? Visit the ' +\n",
              "          '<a target=\"_blank\" href=https://colab.research.google.com/notebooks/data_table.ipynb>data table notebook</a>'\n",
              "          + ' to learn more about interactive tables.';\n",
              "        element.innerHTML = '';\n",
              "        dataTable['output_type'] = 'display_data';\n",
              "        await google.colab.output.renderOutput(dataTable, element);\n",
              "        const docLink = document.createElement('div');\n",
              "        docLink.innerHTML = docLinkHtml;\n",
              "        element.appendChild(docLink);\n",
              "      }\n",
              "    </script>\n",
              "  </div>\n",
              "\n",
              "\n",
              "    <div id=\"df-b9808516-82de-46ab-ba8d-2b5030b9308f\">\n",
              "      <button class=\"colab-df-quickchart\" onclick=\"quickchart('df-b9808516-82de-46ab-ba8d-2b5030b9308f')\"\n",
              "                title=\"Suggest charts\"\n",
              "                style=\"display:none;\">\n",
              "\n",
              "<svg xmlns=\"http://www.w3.org/2000/svg\" height=\"24px\"viewBox=\"0 0 24 24\"\n",
              "     width=\"24px\">\n",
              "    <g>\n",
              "        <path d=\"M19 3H5c-1.1 0-2 .9-2 2v14c0 1.1.9 2 2 2h14c1.1 0 2-.9 2-2V5c0-1.1-.9-2-2-2zM9 17H7v-7h2v7zm4 0h-2V7h2v10zm4 0h-2v-4h2v4z\"/>\n",
              "    </g>\n",
              "</svg>\n",
              "      </button>\n",
              "\n",
              "<style>\n",
              "  .colab-df-quickchart {\n",
              "      --bg-color: #E8F0FE;\n",
              "      --fill-color: #1967D2;\n",
              "      --hover-bg-color: #E2EBFA;\n",
              "      --hover-fill-color: #174EA6;\n",
              "      --disabled-fill-color: #AAA;\n",
              "      --disabled-bg-color: #DDD;\n",
              "  }\n",
              "\n",
              "  [theme=dark] .colab-df-quickchart {\n",
              "      --bg-color: #3B4455;\n",
              "      --fill-color: #D2E3FC;\n",
              "      --hover-bg-color: #434B5C;\n",
              "      --hover-fill-color: #FFFFFF;\n",
              "      --disabled-bg-color: #3B4455;\n",
              "      --disabled-fill-color: #666;\n",
              "  }\n",
              "\n",
              "  .colab-df-quickchart {\n",
              "    background-color: var(--bg-color);\n",
              "    border: none;\n",
              "    border-radius: 50%;\n",
              "    cursor: pointer;\n",
              "    display: none;\n",
              "    fill: var(--fill-color);\n",
              "    height: 32px;\n",
              "    padding: 0;\n",
              "    width: 32px;\n",
              "  }\n",
              "\n",
              "  .colab-df-quickchart:hover {\n",
              "    background-color: var(--hover-bg-color);\n",
              "    box-shadow: 0 1px 2px rgba(60, 64, 67, 0.3), 0 1px 3px 1px rgba(60, 64, 67, 0.15);\n",
              "    fill: var(--button-hover-fill-color);\n",
              "  }\n",
              "\n",
              "  .colab-df-quickchart-complete:disabled,\n",
              "  .colab-df-quickchart-complete:disabled:hover {\n",
              "    background-color: var(--disabled-bg-color);\n",
              "    fill: var(--disabled-fill-color);\n",
              "    box-shadow: none;\n",
              "  }\n",
              "\n",
              "  .colab-df-spinner {\n",
              "    border: 2px solid var(--fill-color);\n",
              "    border-color: transparent;\n",
              "    border-bottom-color: var(--fill-color);\n",
              "    animation:\n",
              "      spin 1s steps(1) infinite;\n",
              "  }\n",
              "\n",
              "  @keyframes spin {\n",
              "    0% {\n",
              "      border-color: transparent;\n",
              "      border-bottom-color: var(--fill-color);\n",
              "      border-left-color: var(--fill-color);\n",
              "    }\n",
              "    20% {\n",
              "      border-color: transparent;\n",
              "      border-left-color: var(--fill-color);\n",
              "      border-top-color: var(--fill-color);\n",
              "    }\n",
              "    30% {\n",
              "      border-color: transparent;\n",
              "      border-left-color: var(--fill-color);\n",
              "      border-top-color: var(--fill-color);\n",
              "      border-right-color: var(--fill-color);\n",
              "    }\n",
              "    40% {\n",
              "      border-color: transparent;\n",
              "      border-right-color: var(--fill-color);\n",
              "      border-top-color: var(--fill-color);\n",
              "    }\n",
              "    60% {\n",
              "      border-color: transparent;\n",
              "      border-right-color: var(--fill-color);\n",
              "    }\n",
              "    80% {\n",
              "      border-color: transparent;\n",
              "      border-right-color: var(--fill-color);\n",
              "      border-bottom-color: var(--fill-color);\n",
              "    }\n",
              "    90% {\n",
              "      border-color: transparent;\n",
              "      border-bottom-color: var(--fill-color);\n",
              "    }\n",
              "  }\n",
              "</style>\n",
              "\n",
              "      <script>\n",
              "        async function quickchart(key) {\n",
              "          const quickchartButtonEl =\n",
              "            document.querySelector('#' + key + ' button');\n",
              "          quickchartButtonEl.disabled = true;  // To prevent multiple clicks.\n",
              "          quickchartButtonEl.classList.add('colab-df-spinner');\n",
              "          try {\n",
              "            const charts = await google.colab.kernel.invokeFunction(\n",
              "                'suggestCharts', [key], {});\n",
              "          } catch (error) {\n",
              "            console.error('Error during call to suggestCharts:', error);\n",
              "          }\n",
              "          quickchartButtonEl.classList.remove('colab-df-spinner');\n",
              "          quickchartButtonEl.classList.add('colab-df-quickchart-complete');\n",
              "        }\n",
              "        (() => {\n",
              "          let quickchartButtonEl =\n",
              "            document.querySelector('#df-b9808516-82de-46ab-ba8d-2b5030b9308f button');\n",
              "          quickchartButtonEl.style.display =\n",
              "            google.colab.kernel.accessAllowed ? 'block' : 'none';\n",
              "        })();\n",
              "      </script>\n",
              "    </div>\n",
              "\n",
              "    </div>\n",
              "  </div>\n"
            ],
            "application/vnd.google.colaboratory.intrinsic+json": {
              "type": "dataframe",
              "variable_name": "train_df"
            }
          },
          "metadata": {},
          "execution_count": 15
        }
      ]
    },
    {
      "cell_type": "code",
      "source": [
        "# Distribution of labels in training data\n",
        "train_df.target.value_counts()"
      ],
      "metadata": {
        "colab": {
          "base_uri": "https://localhost:8080/",
          "height": 272
        },
        "id": "qYHKeIxN0aW-",
        "outputId": "6d7a30b5-2c0d-4197-de01-b32ed6ab9e89"
      },
      "execution_count": 16,
      "outputs": [
        {
          "output_type": "execute_result",
          "data": {
            "text/plain": [
              "target\n",
              "METHODS        59353\n",
              "RESULTS        57953\n",
              "CONCLUSIONS    27168\n",
              "BACKGROUND     21727\n",
              "OBJECTIVE      13839\n",
              "Name: count, dtype: int64"
            ],
            "text/html": [
              "<div>\n",
              "<style scoped>\n",
              "    .dataframe tbody tr th:only-of-type {\n",
              "        vertical-align: middle;\n",
              "    }\n",
              "\n",
              "    .dataframe tbody tr th {\n",
              "        vertical-align: top;\n",
              "    }\n",
              "\n",
              "    .dataframe thead th {\n",
              "        text-align: right;\n",
              "    }\n",
              "</style>\n",
              "<table border=\"1\" class=\"dataframe\">\n",
              "  <thead>\n",
              "    <tr style=\"text-align: right;\">\n",
              "      <th></th>\n",
              "      <th>count</th>\n",
              "    </tr>\n",
              "    <tr>\n",
              "      <th>target</th>\n",
              "      <th></th>\n",
              "    </tr>\n",
              "  </thead>\n",
              "  <tbody>\n",
              "    <tr>\n",
              "      <th>METHODS</th>\n",
              "      <td>59353</td>\n",
              "    </tr>\n",
              "    <tr>\n",
              "      <th>RESULTS</th>\n",
              "      <td>57953</td>\n",
              "    </tr>\n",
              "    <tr>\n",
              "      <th>CONCLUSIONS</th>\n",
              "      <td>27168</td>\n",
              "    </tr>\n",
              "    <tr>\n",
              "      <th>BACKGROUND</th>\n",
              "      <td>21727</td>\n",
              "    </tr>\n",
              "    <tr>\n",
              "      <th>OBJECTIVE</th>\n",
              "      <td>13839</td>\n",
              "    </tr>\n",
              "  </tbody>\n",
              "</table>\n",
              "</div><br><label><b>dtype:</b> int64</label>"
            ]
          },
          "metadata": {},
          "execution_count": 16
        }
      ]
    },
    {
      "cell_type": "markdown",
      "source": [
        "looks like sentences with the `OBJECTIVE` label are the least common.\n",
        "\n"
      ],
      "metadata": {
        "id": "lV9vaZTB1CCI"
      }
    },
    {
      "cell_type": "code",
      "source": [
        "# How about we check the distribution of our abstract lengths?\n",
        "train_df.total_lines.plot.hist();"
      ],
      "metadata": {
        "colab": {
          "base_uri": "https://localhost:8080/",
          "height": 431
        },
        "id": "v-Xv3vYF1Su3",
        "outputId": "973663bb-d307-441d-b44c-36fcd3eda740"
      },
      "execution_count": 17,
      "outputs": [
        {
          "output_type": "display_data",
          "data": {
            "text/plain": [
              "<Figure size 640x480 with 1 Axes>"
            ],
            "image/png": "[encoded data removed]"
          },
          "metadata": {}
        }
      ]
    },
    {
      "cell_type": "markdown",
      "source": [
        "Most of the abstracts are around 7 to 15 sentences in length.\n"
      ],
      "metadata": {
        "id": "Za_60ItF15cU"
      }
    },
    {
      "cell_type": "markdown",
      "source": [
        "### Get list of sentences\n",
        "\n",
        "When we build our deep learning model, one of its main inputs will be a list of strings (the lines of an abstract).\n",
        "\n",
        "We can get these easily from our DataFrames by calling the `tolist()` method on our  `\"text\"`"
      ],
      "metadata": {
        "id": "zy1Ja27b2HgX"
      }
    },
    {
      "cell_type": "code",
      "source": [
        "train_sentences =train_df[\"text\"].tolist()\n",
        "val_sentences =val_df[\"text\"].tolist()\n",
        "test_sentences =test_df[\"text\"].tolist()\n",
        "len(train_sentences), len(val_sentences), len(test_sentences)"
      ],
      "metadata": {
        "colab": {
          "base_uri": "https://localhost:8080/"
        },
        "id": "4PNkTrSM3OGC",
        "outputId": "391be6be-c816-44ac-ea32-fc346b30e251"
      },
      "execution_count": 18,
      "outputs": [
        {
          "output_type": "execute_result",
          "data": {
            "text/plain": [
              "(180040, 30212, 30135)"
            ]
          },
          "metadata": {},
          "execution_count": 18
        }
      ]
    },
    {
      "cell_type": "code",
      "source": [
        "# View first 10 lines of training sentences\n",
        "train_sentences[:10]"
      ],
      "metadata": {
        "colab": {
          "base_uri": "https://localhost:8080/"
        },
        "id": "kUWEee9n3sJl",
        "outputId": "892748b8-f026-4b3a-cc1d-51c2472eba10"
      },
      "execution_count": 19,
      "outputs": [
        {
          "output_type": "execute_result",
          "data": {
            "text/plain": [
              "['to investigate the efficacy of @ weeks of daily low-dose oral prednisolone in improving pain , mobility , and systemic low-grade inflammation in the short term and whether the effect would be sustained at @ weeks in older adults with moderate to severe knee osteoarthritis ( oa ) .',\n",
              " 'a total of @ patients with primary knee oa were randomized @:@ ; @ received @ mg/day of prednisolone and @ received placebo for @ weeks .',\n",
              " 'outcome measures included pain reduction and improvement in function scores and systemic inflammation markers .',\n",
              " 'pain was assessed using the visual analog pain scale ( @-@ mm ) .',\n",
              " 'secondary outcome measures included the western ontario and mcmaster universities osteoarthritis index scores , patient global assessment ( pga ) of the severity of knee oa , and @-min walk distance ( @mwd ) .',\n",
              " 'serum levels of interleukin @ ( il-@ ) , il-@ , tumor necrosis factor ( tnf ) - , and high-sensitivity c-reactive protein ( hscrp ) were measured .',\n",
              " 'there was a clinically relevant reduction in the intervention group compared to the placebo group for knee pain , physical function , pga , and @mwd at @ weeks .',\n",
              " 'the mean difference between treatment arms ( @ % ci ) was @ ( @-@ @ ) , p < @ ; @ ( @-@ @ ) , p < @ ; @ ( @-@ @ ) , p < @ ; and @ ( @-@ @ ) , p < @ , respectively .',\n",
              " 'further , there was a clinically relevant reduction in the serum levels of il-@ , il-@ , tnf - , and hscrp at @ weeks in the intervention group when compared to the placebo group .',\n",
              " 'these differences remained significant at @ weeks .']"
            ]
          },
          "metadata": {},
          "execution_count": 19
        }
      ]
    },
    {
      "cell_type": "markdown",
      "source": [
        "### Make numeric labels (ML models require numeric labels)"
      ],
      "metadata": {
        "id": "4PeSDBNnw_-M"
      }
    },
    {
      "cell_type": "code",
      "source": [
        "import tensorflow as tf\n"
      ],
      "metadata": {
        "id": "MBLaw6jA5YOJ"
      },
      "execution_count": 20,
      "outputs": []
    },
    {
      "cell_type": "code",
      "source": [
        "# One hot encode labels\n",
        "from sklearn.preprocessing import OneHotEncoder\n",
        "one_hot_encoder = OneHotEncoder(sparse_output=False)\n",
        "train_labels_one_hot = one_hot_encoder.fit_transform(train_df[\"target\"].to_numpy().reshape(-1,1))\n",
        "val_labels_one_hot = one_hot_encoder.transform(val_df['target'].to_numpy().reshape(-1,1))\n",
        "test_labels_one_hot = one_hot_encoder.transform(test_df['target'].to_numpy().reshape(-1,1))\n",
        "# Check how the one hot encoded labels look like\n",
        "train_labels_one_hot"
      ],
      "metadata": {
        "colab": {
          "base_uri": "https://localhost:8080/"
        },
        "id": "IDZdR3cU4lhu",
        "outputId": "d38a74b9-62c4-4522-cefc-efbdfe94de91"
      },
      "execution_count": 21,
      "outputs": [
        {
          "output_type": "execute_result",
          "data": {
            "text/plain": [
              "array([[0., 0., 0., 1., 0.],\n",
              "       [0., 0., 1., 0., 0.],\n",
              "       [0., 0., 1., 0., 0.],\n",
              "       ...,\n",
              "       [0., 0., 0., 0., 1.],\n",
              "       [0., 1., 0., 0., 0.],\n",
              "       [0., 1., 0., 0., 0.]])"
            ]
          },
          "metadata": {},
          "execution_count": 21
        }
      ]
    },
    {
      "cell_type": "markdown",
      "source": [
        "### Label encode labels"
      ],
      "metadata": {
        "id": "M0YZmT2j6yha"
      }
    },
    {
      "cell_type": "code",
      "source": [
        "# Extract labels (\"target\" columns) and encode them into integers\n",
        "from sklearn.preprocessing import LabelEncoder\n",
        "\n",
        "label_encoder = LabelEncoder()\n",
        "train_labels_encoded =label_encoder.fit_transform(train_df['target'].to_numpy())\n",
        "val_labels_encoded =label_encoder.transform(val_df['target'].to_numpy())\n",
        "test_labels_encoded =label_encoder.transform(test_df['target'].to_numpy())\n",
        "\n",
        "# Check what training labels look like\n",
        "train_labels_encoded\n"
      ],
      "metadata": {
        "colab": {
          "base_uri": "https://localhost:8080/"
        },
        "id": "-_yxm4ac64Kb",
        "outputId": "2025a002-1108-47fa-af21-941ba6829129"
      },
      "execution_count": 22,
      "outputs": [
        {
          "output_type": "execute_result",
          "data": {
            "text/plain": [
              "array([3, 2, 2, ..., 4, 1, 1])"
            ]
          },
          "metadata": {},
          "execution_count": 22
        }
      ]
    },
    {
      "cell_type": "code",
      "source": [
        "# Get class names and number of classes from labelEncoder instance\n",
        "num_classes = len(label_encoder.classes_)\n",
        "class_names = label_encoder.classes_\n",
        "class_names,num_classes"
      ],
      "metadata": {
        "colab": {
          "base_uri": "https://localhost:8080/"
        },
        "id": "-bOppyKr7zid",
        "outputId": "53f5ffe6-56e7-4312-d1aa-1088215029a7"
      },
      "execution_count": 23,
      "outputs": [
        {
          "output_type": "execute_result",
          "data": {
            "text/plain": [
              "(array(['BACKGROUND', 'CONCLUSIONS', 'METHODS', 'OBJECTIVE', 'RESULTS'],\n",
              "       dtype=object),\n",
              " 5)"
            ]
          },
          "metadata": {},
          "execution_count": 23
        }
      ]
    },
    {
      "cell_type": "markdown",
      "source": [
        "## Model 0: Getting a baseline model\n",
        "\n",
        "We will be using a bayesian model to try and classify the abstracts"
      ],
      "metadata": {
        "id": "MSqqv4LaGI7g"
      }
    },
    {
      "cell_type": "code",
      "source": [
        "from sklearn.feature_extraction.text import TfidfVectorizer\n",
        "from sklearn.naive_bayes import MultinomialNB\n",
        "from sklearn.pipeline import Pipeline\n",
        "\n",
        "# Create tokenization and modelling pipeline\n",
        "model_0 = Pipeline([\n",
        "    ('tfidf',TfidfVectorizer()), # Convert words to numbers using tfidf\n",
        "    ('clf',MultinomialNB()) # Model the text\n",
        "])\n",
        "\n",
        "model_0.fit(train_sentences,train_labels_encoded)"
      ],
      "metadata": {
        "colab": {
          "base_uri": "https://localhost:8080/",
          "height": 155
        },
        "id": "3xzKqzhTGa-4",
        "outputId": "3bb19e61-0946-4bc8-902f-b5a0eab0e113"
      },
      "execution_count": 24,
      "outputs": [
        {
          "output_type": "execute_result",
          "data": {
            "text/plain": [
              "Pipeline(steps=[('tfidf', TfidfVectorizer()), ('clf', MultinomialNB())])"
            ],
            "text/html": [
              "<style>#sk-container-id-1 {\n",
              "  /* Definition of color scheme common for light and dark mode */\n",
              "  --sklearn-color-text: #000;\n",
              "  --sklearn-color-text-muted: #666;\n",
              "  --sklearn-color-line: gray;\n",
              "  /* Definition of color scheme for unfitted estimators */\n",
              "  --sklearn-color-unfitted-level-0: #fff5e6;\n",
              "  --sklearn-color-unfitted-level-1: #f6e4d2;\n",
              "  --sklearn-color-unfitted-level-2: #ffe0b3;\n",
              "  --sklearn-color-unfitted-level-3: chocolate;\n",
              "  /* Definition of color scheme for fitted estimators */\n",
              "  --sklearn-color-fitted-level-0: #f0f8ff;\n",
              "  --sklearn-color-fitted-level-1: #d4ebff;\n",
              "  --sklearn-color-fitted-level-2: #b3dbfd;\n",
              "  --sklearn-color-fitted-level-3: cornflowerblue;\n",
              "\n",
              "  /* Specific color for light theme */\n",
              "  --sklearn-color-text-on-default-background: var(--sg-text-color, var(--theme-code-foreground, var(--jp-content-font-color1, black)));\n",
              "  --sklearn-color-background: var(--sg-background-color, var(--theme-background, var(--jp-layout-color0, white)));\n",
              "  --sklearn-color-border-box: var(--sg-text-color, var(--theme-code-foreground, var(--jp-content-font-color1, black)));\n",
              "  --sklearn-color-icon: #696969;\n",
              "\n",
              "  @media (prefers-color-scheme: dark) {\n",
              "    /* Redefinition of color scheme for dark theme */\n",
              "    --sklearn-color-text-on-default-background: var(--sg-text-color, var(--theme-code-foreground, var(--jp-content-font-color1, white)));\n",
              "    --sklearn-color-background: var(--sg-background-color, var(--theme-background, var(--jp-layout-color0, #111)));\n",
              "    --sklearn-color-border-box: var(--sg-text-color, var(--theme-code-foreground, var(--jp-content-font-color1, white)));\n",
              "    --sklearn-color-icon: #878787;\n",
              "  }\n",
              "}\n",
              "\n",
              "#sk-container-id-1 {\n",
              "  color: var(--sklearn-color-text);\n",
              "}\n",
              "\n",
              "#sk-container-id-1 pre {\n",
              "  padding: 0;\n",
              "}\n",
              "\n",
              "#sk-container-id-1 input.sk-hidden--visually {\n",
              "  border: 0;\n",
              "  clip: rect(1px 1px 1px 1px);\n",
              "  clip: rect(1px, 1px, 1px, 1px);\n",
              "  height: 1px;\n",
              "  margin: -1px;\n",
              "  overflow: hidden;\n",
              "  padding: 0;\n",
              "  position: absolute;\n",
              "  width: 1px;\n",
              "}\n",
              "\n",
              "#sk-container-id-1 div.sk-dashed-wrapped {\n",
              "  border: 1px dashed var(--sklearn-color-line);\n",
              "  margin: 0 0.4em 0.5em 0.4em;\n",
              "  box-sizing: border-box;\n",
              "  padding-bottom: 0.4em;\n",
              "  background-color: var(--sklearn-color-background);\n",
              "}\n",
              "\n",
              "#sk-container-id-1 div.sk-container {\n",
              "  /* jupyter's `normalize.less` sets `[hidden] { display: none; }`\n",
              "     but bootstrap.min.css set `[hidden] { display: none !important; }`\n",
              "     so we also need the `!important` here to be able to override the\n",
              "     default hidden behavior on the sphinx rendered scikit-learn.org.\n",
              "     See: https://github.com/scikit-learn/scikit-learn/issues/21755 */\n",
              "  display: inline-block !important;\n",
              "  position: relative;\n",
              "}\n",
              "\n",
              "#sk-container-id-1 div.sk-text-repr-fallback {\n",
              "  display: none;\n",
              "}\n",
              "\n",
              "div.sk-parallel-item,\n",
              "div.sk-serial,\n",
              "div.sk-item {\n",
              "  /* draw centered vertical line to link estimators */\n",
              "  background-image: linear-gradient(var(--sklearn-color-text-on-default-background), var(--sklearn-color-text-on-default-background));\n",
              "  background-size: 2px 100%;\n",
              "  background-repeat: no-repeat;\n",
              "  background-position: center center;\n",
              "}\n",
              "\n",
              "/* Parallel-specific style estimator block */\n",
              "\n",
              "#sk-container-id-1 div.sk-parallel-item::after {\n",
              "  content: \"\";\n",
              "  width: 100%;\n",
              "  border-bottom: 2px solid var(--sklearn-color-text-on-default-background);\n",
              "  flex-grow: 1;\n",
              "}\n",
              "\n",
              "#sk-container-id-1 div.sk-parallel {\n",
              "  display: flex;\n",
              "  align-items: stretch;\n",
              "  justify-content: center;\n",
              "  background-color: var(--sklearn-color-background);\n",
              "  position: relative;\n",
              "}\n",
              "\n",
              "#sk-container-id-1 div.sk-parallel-item {\n",
              "  display: flex;\n",
              "  flex-direction: column;\n",
              "}\n",
              "\n",
              "#sk-container-id-1 div.sk-parallel-item:first-child::after {\n",
              "  align-self: flex-end;\n",
              "  width: 50%;\n",
              "}\n",
              "\n",
              "#sk-container-id-1 div.sk-parallel-item:last-child::after {\n",
              "  align-self: flex-start;\n",
              "  width: 50%;\n",
              "}\n",
              "\n",
              "#sk-container-id-1 div.sk-parallel-item:only-child::after {\n",
              "  width: 0;\n",
              "}\n",
              "\n",
              "/* Serial-specific style estimator block */\n",
              "\n",
              "#sk-container-id-1 div.sk-serial {\n",
              "  display: flex;\n",
              "  flex-direction: column;\n",
              "  align-items: center;\n",
              "  background-color: var(--sklearn-color-background);\n",
              "  padding-right: 1em;\n",
              "  padding-left: 1em;\n",
              "}\n",
              "\n",
              "\n",
              "/* Toggleable style: style used for estimator/Pipeline/ColumnTransformer box that is\n",
              "clickable and can be expanded/collapsed.\n",
              "- Pipeline and ColumnTransformer use this feature and define the default style\n",
              "- Estimators will overwrite some part of the style using the `sk-estimator` class\n",
              "*/\n",
              "\n",
              "/* Pipeline and ColumnTransformer style (default) */\n",
              "\n",
              "#sk-container-id-1 div.sk-toggleable {\n",
              "  /* Default theme specific background. It is overwritten whether we have a\n",
              "  specific estimator or a Pipeline/ColumnTransformer */\n",
              "  background-color: var(--sklearn-color-background);\n",
              "}\n",
              "\n",
              "/* Toggleable label */\n",
              "#sk-container-id-1 label.sk-toggleable__label {\n",
              "  cursor: pointer;\n",
              "  display: flex;\n",
              "  width: 100%;\n",
              "  margin-bottom: 0;\n",
              "  padding: 0.5em;\n",
              "  box-sizing: border-box;\n",
              "  text-align: center;\n",
              "  align-items: start;\n",
              "  justify-content: space-between;\n",
              "  gap: 0.5em;\n",
              "}\n",
              "\n",
              "#sk-container-id-1 label.sk-toggleable__label .caption {\n",
              "  font-size: 0.6rem;\n",
              "  font-weight: lighter;\n",
              "  color: var(--sklearn-color-text-muted);\n",
              "}\n",
              "\n",
              "#sk-container-id-1 label.sk-toggleable__label-arrow:before {\n",
              "  /* Arrow on the left of the label */\n",
              "  content: \"▸\";\n",
              "  float: left;\n",
              "  margin-right: 0.25em;\n",
              "  color: var(--sklearn-color-icon);\n",
              "}\n",
              "\n",
              "#sk-container-id-1 label.sk-toggleable__label-arrow:hover:before {\n",
              "  color: var(--sklearn-color-text);\n",
              "}\n",
              "\n",
              "/* Toggleable content - dropdown */\n",
              "\n",
              "#sk-container-id-1 div.sk-toggleable__content {\n",
              "  max-height: 0;\n",
              "  max-width: 0;\n",
              "  overflow: hidden;\n",
              "  text-align: left;\n",
              "  /* unfitted */\n",
              "  background-color: var(--sklearn-color-unfitted-level-0);\n",
              "}\n",
              "\n",
              "#sk-container-id-1 div.sk-toggleable__content.fitted {\n",
              "  /* fitted */\n",
              "  background-color: var(--sklearn-color-fitted-level-0);\n",
              "}\n",
              "\n",
              "#sk-container-id-1 div.sk-toggleable__content pre {\n",
              "  margin: 0.2em;\n",
              "  border-radius: 0.25em;\n",
              "  color: var(--sklearn-color-text);\n",
              "  /* unfitted */\n",
              "  background-color: var(--sklearn-color-unfitted-level-0);\n",
              "}\n",
              "\n",
              "#sk-container-id-1 div.sk-toggleable__content.fitted pre {\n",
              "  /* unfitted */\n",
              "  background-color: var(--sklearn-color-fitted-level-0);\n",
              "}\n",
              "\n",
              "#sk-container-id-1 input.sk-toggleable__control:checked~div.sk-toggleable__content {\n",
              "  /* Expand drop-down */\n",
              "  max-height: 200px;\n",
              "  max-width: 100%;\n",
              "  overflow: auto;\n",
              "}\n",
              "\n",
              "#sk-container-id-1 input.sk-toggleable__control:checked~label.sk-toggleable__label-arrow:before {\n",
              "  content: \"▾\";\n",
              "}\n",
              "\n",
              "/* Pipeline/ColumnTransformer-specific style */\n",
              "\n",
              "#sk-container-id-1 div.sk-label input.sk-toggleable__control:checked~label.sk-toggleable__label {\n",
              "  color: var(--sklearn-color-text);\n",
              "  background-color: var(--sklearn-color-unfitted-level-2);\n",
              "}\n",
              "\n",
              "#sk-container-id-1 div.sk-label.fitted input.sk-toggleable__control:checked~label.sk-toggleable__label {\n",
              "  background-color: var(--sklearn-color-fitted-level-2);\n",
              "}\n",
              "\n",
              "/* Estimator-specific style */\n",
              "\n",
              "/* Colorize estimator box */\n",
              "#sk-container-id-1 div.sk-estimator input.sk-toggleable__control:checked~label.sk-toggleable__label {\n",
              "  /* unfitted */\n",
              "  background-color: var(--sklearn-color-unfitted-level-2);\n",
              "}\n",
              "\n",
              "#sk-container-id-1 div.sk-estimator.fitted input.sk-toggleable__control:checked~label.sk-toggleable__label {\n",
              "  /* fitted */\n",
              "  background-color: var(--sklearn-color-fitted-level-2);\n",
              "}\n",
              "\n",
              "#sk-container-id-1 div.sk-label label.sk-toggleable__label,\n",
              "#sk-container-id-1 div.sk-label label {\n",
              "  /* The background is the default theme color */\n",
              "  color: var(--sklearn-color-text-on-default-background);\n",
              "}\n",
              "\n",
              "/* On hover, darken the color of the background */\n",
              "#sk-container-id-1 div.sk-label:hover label.sk-toggleable__label {\n",
              "  color: var(--sklearn-color-text);\n",
              "  background-color: var(--sklearn-color-unfitted-level-2);\n",
              "}\n",
              "\n",
              "/* Label box, darken color on hover, fitted */\n",
              "#sk-container-id-1 div.sk-label.fitted:hover label.sk-toggleable__label.fitted {\n",
              "  color: var(--sklearn-color-text);\n",
              "  background-color: var(--sklearn-color-fitted-level-2);\n",
              "}\n",
              "\n",
              "/* Estimator label */\n",
              "\n",
              "#sk-container-id-1 div.sk-label label {\n",
              "  font-family: monospace;\n",
              "  font-weight: bold;\n",
              "  display: inline-block;\n",
              "  line-height: 1.2em;\n",
              "}\n",
              "\n",
              "#sk-container-id-1 div.sk-label-container {\n",
              "  text-align: center;\n",
              "}\n",
              "\n",
              "/* Estimator-specific */\n",
              "#sk-container-id-1 div.sk-estimator {\n",
              "  font-family: monospace;\n",
              "  border: 1px dotted var(--sklearn-color-border-box);\n",
              "  border-radius: 0.25em;\n",
              "  box-sizing: border-box;\n",
              "  margin-bottom: 0.5em;\n",
              "  /* unfitted */\n",
              "  background-color: var(--sklearn-color-unfitted-level-0);\n",
              "}\n",
              "\n",
              "#sk-container-id-1 div.sk-estimator.fitted {\n",
              "  /* fitted */\n",
              "  background-color: var(--sklearn-color-fitted-level-0);\n",
              "}\n",
              "\n",
              "/* on hover */\n",
              "#sk-container-id-1 div.sk-estimator:hover {\n",
              "  /* unfitted */\n",
              "  background-color: var(--sklearn-color-unfitted-level-2);\n",
              "}\n",
              "\n",
              "#sk-container-id-1 div.sk-estimator.fitted:hover {\n",
              "  /* fitted */\n",
              "  background-color: var(--sklearn-color-fitted-level-2);\n",
              "}\n",
              "\n",
              "/* Specification for estimator info (e.g. \"i\" and \"?\") */\n",
              "\n",
              "/* Common style for \"i\" and \"?\" */\n",
              "\n",
              ".sk-estimator-doc-link,\n",
              "a:link.sk-estimator-doc-link,\n",
              "a:visited.sk-estimator-doc-link {\n",
              "  float: right;\n",
              "  font-size: smaller;\n",
              "  line-height: 1em;\n",
              "  font-family: monospace;\n",
              "  background-color: var(--sklearn-color-background);\n",
              "  border-radius: 1em;\n",
              "  height: 1em;\n",
              "  width: 1em;\n",
              "  text-decoration: none !important;\n",
              "  margin-left: 0.5em;\n",
              "  text-align: center;\n",
              "  /* unfitted */\n",
              "  border: var(--sklearn-color-unfitted-level-1) 1pt solid;\n",
              "  color: var(--sklearn-color-unfitted-level-1);\n",
              "}\n",
              "\n",
              ".sk-estimator-doc-link.fitted,\n",
              "a:link.sk-estimator-doc-link.fitted,\n",
              "a:visited.sk-estimator-doc-link.fitted {\n",
              "  /* fitted */\n",
              "  border: var(--sklearn-color-fitted-level-1) 1pt solid;\n",
              "  color: var(--sklearn-color-fitted-level-1);\n",
              "}\n",
              "\n",
              "/* On hover */\n",
              "div.sk-estimator:hover .sk-estimator-doc-link:hover,\n",
              ".sk-estimator-doc-link:hover,\n",
              "div.sk-label-container:hover .sk-estimator-doc-link:hover,\n",
              ".sk-estimator-doc-link:hover {\n",
              "  /* unfitted */\n",
              "  background-color: var(--sklearn-color-unfitted-level-3);\n",
              "  color: var(--sklearn-color-background);\n",
              "  text-decoration: none;\n",
              "}\n",
              "\n",
              "div.sk-estimator.fitted:hover .sk-estimator-doc-link.fitted:hover,\n",
              ".sk-estimator-doc-link.fitted:hover,\n",
              "div.sk-label-container:hover .sk-estimator-doc-link.fitted:hover,\n",
              ".sk-estimator-doc-link.fitted:hover {\n",
              "  /* fitted */\n",
              "  background-color: var(--sklearn-color-fitted-level-3);\n",
              "  color: var(--sklearn-color-background);\n",
              "  text-decoration: none;\n",
              "}\n",
              "\n",
              "/* Span, style for the box shown on hovering the info icon */\n",
              ".sk-estimator-doc-link span {\n",
              "  display: none;\n",
              "  z-index: 9999;\n",
              "  position: relative;\n",
              "  font-weight: normal;\n",
              "  right: .2ex;\n",
              "  padding: .5ex;\n",
              "  margin: .5ex;\n",
              "  width: min-content;\n",
              "  min-width: 20ex;\n",
              "  max-width: 50ex;\n",
              "  color: var(--sklearn-color-text);\n",
              "  box-shadow: 2pt 2pt 4pt #999;\n",
              "  /* unfitted */\n",
              "  background: var(--sklearn-color-unfitted-level-0);\n",
              "  border: .5pt solid var(--sklearn-color-unfitted-level-3);\n",
              "}\n",
              "\n",
              ".sk-estimator-doc-link.fitted span {\n",
              "  /* fitted */\n",
              "  background: var(--sklearn-color-fitted-level-0);\n",
              "  border: var(--sklearn-color-fitted-level-3);\n",
              "}\n",
              "\n",
              ".sk-estimator-doc-link:hover span {\n",
              "  display: block;\n",
              "}\n",
              "\n",
              "/* \"?\"-specific style due to the `<a>` HTML tag */\n",
              "\n",
              "#sk-container-id-1 a.estimator_doc_link {\n",
              "  float: right;\n",
              "  font-size: 1rem;\n",
              "  line-height: 1em;\n",
              "  font-family: monospace;\n",
              "  background-color: var(--sklearn-color-background);\n",
              "  border-radius: 1rem;\n",
              "  height: 1rem;\n",
              "  width: 1rem;\n",
              "  text-decoration: none;\n",
              "  /* unfitted */\n",
              "  color: var(--sklearn-color-unfitted-level-1);\n",
              "  border: var(--sklearn-color-unfitted-level-1) 1pt solid;\n",
              "}\n",
              "\n",
              "#sk-container-id-1 a.estimator_doc_link.fitted {\n",
              "  /* fitted */\n",
              "  border: var(--sklearn-color-fitted-level-1) 1pt solid;\n",
              "  color: var(--sklearn-color-fitted-level-1);\n",
              "}\n",
              "\n",
              "/* On hover */\n",
              "#sk-container-id-1 a.estimator_doc_link:hover {\n",
              "  /* unfitted */\n",
              "  background-color: var(--sklearn-color-unfitted-level-3);\n",
              "  color: var(--sklearn-color-background);\n",
              "  text-decoration: none;\n",
              "}\n",
              "\n",
              "#sk-container-id-1 a.estimator_doc_link.fitted:hover {\n",
              "  /* fitted */\n",
              "  background-color: var(--sklearn-color-fitted-level-3);\n",
              "}\n",
              "</style><div id=\"sk-container-id-1\" class=\"sk-top-container\"><div class=\"sk-text-repr-fallback\"><pre>Pipeline(steps=[(&#x27;tfidf&#x27;, TfidfVectorizer()), (&#x27;clf&#x27;, MultinomialNB())])</pre><b>In a Jupyter environment, please rerun this cell to show the HTML representation or trust the notebook. <br />On GitHub, the HTML representation is unable to render, please try loading this page with nbviewer.org.</b></div><div class=\"sk-container\" hidden><div class=\"sk-item sk-dashed-wrapped\"><div class=\"sk-label-container\"><div class=\"sk-label fitted sk-toggleable\"><input class=\"sk-toggleable__control sk-hidden--visually\" id=\"sk-estimator-id-1\" type=\"checkbox\" ><label for=\"sk-estimator-id-1\" class=\"sk-toggleable__label fitted sk-toggleable__label-arrow\"><div><div>Pipeline</div></div><div><a class=\"sk-estimator-doc-link fitted\" rel=\"noreferrer\" target=\"_blank\" href=\"https://scikit-learn.org/1.6/modules/generated/sklearn.pipeline.Pipeline.html\">?<span>Documentation for Pipeline</span></a><span class=\"sk-estimator-doc-link fitted\">i<span>Fitted</span></span></div></label><div class=\"sk-toggleable__content fitted\"><pre>Pipeline(steps=[(&#x27;tfidf&#x27;, TfidfVectorizer()), (&#x27;clf&#x27;, MultinomialNB())])</pre></div> </div></div><div class=\"sk-serial\"><div class=\"sk-item\"><div class=\"sk-estimator fitted sk-toggleable\"><input class=\"sk-toggleable__control sk-hidden--visually\" id=\"sk-estimator-id-2\" type=\"checkbox\" ><label for=\"sk-estimator-id-2\" class=\"sk-toggleable__label fitted sk-toggleable__label-arrow\"><div><div>TfidfVectorizer</div></div><div><a class=\"sk-estimator-doc-link fitted\" rel=\"noreferrer\" target=\"_blank\" href=\"https://scikit-learn.org/1.6/modules/generated/sklearn.feature_extraction.text.TfidfVectorizer.html\">?<span>Documentation for TfidfVectorizer</span></a></div></label><div class=\"sk-toggleable__content fitted\"><pre>TfidfVectorizer()</pre></div> </div></div><div class=\"sk-item\"><div class=\"sk-estimator fitted sk-toggleable\"><input class=\"sk-toggleable__control sk-hidden--visually\" id=\"sk-estimator-id-3\" type=\"checkbox\" ><label for=\"sk-estimator-id-3\" class=\"sk-toggleable__label fitted sk-toggleable__label-arrow\"><div><div>MultinomialNB</div></div><div><a class=\"sk-estimator-doc-link fitted\" rel=\"noreferrer\" target=\"_blank\" href=\"https://scikit-learn.org/1.6/modules/generated/sklearn.naive_bayes.MultinomialNB.html\">?<span>Documentation for MultinomialNB</span></a></div></label><div class=\"sk-toggleable__content fitted\"><pre>MultinomialNB()</pre></div> </div></div></div></div></div></div>"
            ]
          },
          "metadata": {},
          "execution_count": 24
        }
      ]
    },
    {
      "cell_type": "code",
      "source": [
        "# Evaluate our baseline model\n",
        "baseline_score =model_0.score(val_sentences,val_labels_encoded)\n",
        "print(f\"Our baseline model achieves an accuracy of: {baseline_score*100:.2f}%\")"
      ],
      "metadata": {
        "colab": {
          "base_uri": "https://localhost:8080/"
        },
        "id": "-0G8rjwCKWf3",
        "outputId": "a6fd7d77-6157-4561-835c-6cc2aaed39e4"
      },
      "execution_count": 25,
      "outputs": [
        {
          "output_type": "stream",
          "name": "stdout",
          "text": [
            "Our baseline model achieves an accuracy of: 72.18%\n"
          ]
        }
      ]
    },
    {
      "cell_type": "markdown",
      "source": [
        "Our base_line model has an accuracy of 72.1% accuracy this will be the number to beat with our deeper models."
      ],
      "metadata": {
        "id": "lUwlVcrBNAU0"
      }
    },
    {
      "cell_type": "code",
      "source": [
        "# Make predictions\n",
        "baseline_preds = model_0.predict(val_sentences)\n",
        "baseline_preds"
      ],
      "metadata": {
        "colab": {
          "base_uri": "https://localhost:8080/"
        },
        "id": "Hz4X1SCoM-zs",
        "outputId": "efee5549-c571-4471-c12b-5f1c1efad3a1"
      },
      "execution_count": 26,
      "outputs": [
        {
          "output_type": "execute_result",
          "data": {
            "text/plain": [
              "array([4, 1, 3, ..., 4, 4, 1])"
            ]
          },
          "metadata": {},
          "execution_count": 26
        }
      ]
    },
    {
      "cell_type": "code",
      "source": [
        "# We will implement the use of sklearn\n",
        "from sklearn.metrics import accuracy_score,precision_recall_fscore_support\n",
        "\n",
        "def score_function(y_true,y_pred):\n",
        "  \"\"\"\n",
        "  Calculates model accuracy, precision, recall and f1 score of a binary classification model.\n",
        "  \"\"\"\n",
        "  # Calculate model precision recall and f1-score\n",
        "  pre,rec,f1,_= list(precision_recall_fscore_support(y_true=y_true,y_pred= y_pred,average='weighted'))\n",
        "  # Calculate model accuracy\n",
        "  acc= accuracy_score(y_true=y_true,y_pred= y_pred)\n",
        "\n",
        "  data= {'Accuracy_score': acc , 'F1-Score': f1,'Recall_Score':rec, 'Precision_Score': pre }\n",
        "  return(data)"
      ],
      "metadata": {
        "id": "tvRRhy_RPUGY"
      },
      "execution_count": 27,
      "outputs": []
    },
    {
      "cell_type": "code",
      "source": [
        "bayesian_model_score = score_function(y_pred=baseline_preds,y_true=val_labels_encoded)\n",
        "bayesian_model_score"
      ],
      "metadata": {
        "id": "bduVKUddPVo0",
        "outputId": "f04f92d1-8420-4a81-aff9-cdcb843d90a8",
        "colab": {
          "base_uri": "https://localhost:8080/"
        }
      },
      "execution_count": 28,
      "outputs": [
        {
          "output_type": "execute_result",
          "data": {
            "text/plain": [
              "{'Accuracy_score': 0.7218323844829869,\n",
              " 'F1-Score': 0.6989250353450294,\n",
              " 'Recall_Score': 0.7218323844829869,\n",
              " 'Precision_Score': 0.7186466952323352}"
            ]
          },
          "metadata": {},
          "execution_count": 28
        }
      ]
    },
    {
      "cell_type": "markdown",
      "source": [
        "## Prepairing our data (the text) for deep sequence models\n",
        "\n",
        "Before we start building deeper models, we've got to create vectorization and embedding layers."
      ],
      "metadata": {
        "id": "YaVWAS-7UPo2"
      }
    },
    {
      "cell_type": "code",
      "source": [
        "import numpy as np\n",
        "from tensorflow.keras import layers\n",
        "from tensorflow.keras.layers import TextVectorization\n"
      ],
      "metadata": {
        "id": "1PVQymidVKAz"
      },
      "execution_count": 29,
      "outputs": []
    },
    {
      "cell_type": "code",
      "source": [
        "# How long is each sentences on average\n",
        "sent_lens =[len(sentence.split()) for sentence in train_sentences]\n",
        "avg_sent_len =np.mean(sent_lens)\n",
        "avg_sent_len"
      ],
      "metadata": {
        "id": "h0qWZK4EVVF3",
        "outputId": "c761769c-2658-4582-b039-9d8a08c229ad",
        "colab": {
          "base_uri": "https://localhost:8080/"
        }
      },
      "execution_count": 30,
      "outputs": [
        {
          "output_type": "execute_result",
          "data": {
            "text/plain": [
              "np.float64(26.338269273494777)"
            ]
          },
          "metadata": {},
          "execution_count": 30
        }
      ]
    },
    {
      "cell_type": "code",
      "source": [
        "# What's the distribution look like for the length of sentences\n",
        "import matplotlib.pyplot as plt\n",
        "plt.hist(sent_lens,bins=20);"
      ],
      "metadata": {
        "id": "n50d2QhIWLyd",
        "outputId": "332188e0-02d1-42b1-c5bd-318b6572e681",
        "colab": {
          "base_uri": "https://localhost:8080/",
          "height": 430
        }
      },
      "execution_count": 31,
      "outputs": [
        {
          "output_type": "display_data",
          "data": {
            "text/plain": [
              "<Figure size 640x480 with 1 Axes>"
            ],
            "image/png": "[encoded data removed]"
          },
          "metadata": {}
        }
      ]
    },
    {
      "cell_type": "code",
      "source": [
        "# How long of a sentence length covers 95% of the data example\n",
        "\n",
        "output_seq_len = int(np.percentile(sent_lens,95))\n",
        "output_seq_len"
      ],
      "metadata": {
        "id": "gtibQKLRWphk",
        "outputId": "692b871d-4798-44a5-cfe9-d31266403111",
        "colab": {
          "base_uri": "https://localhost:8080/"
        }
      },
      "execution_count": 32,
      "outputs": [
        {
          "output_type": "execute_result",
          "data": {
            "text/plain": [
              "55"
            ]
          },
          "metadata": {},
          "execution_count": 32
        }
      ]
    },
    {
      "cell_type": "code",
      "source": [
        "# Maximum sequence length in training set\n",
        "max(sent_lens)\n"
      ],
      "metadata": {
        "id": "UDW6E_m_XH1B",
        "outputId": "5eeb3ef0-d3ee-4967-eac2-83dad08852f6",
        "colab": {
          "base_uri": "https://localhost:8080/"
        }
      },
      "execution_count": 33,
      "outputs": [
        {
          "output_type": "execute_result",
          "data": {
            "text/plain": [
              "296"
            ]
          },
          "metadata": {},
          "execution_count": 33
        }
      ]
    },
    {
      "cell_type": "markdown",
      "source": [
        "### Create text Vectorizarion layer"
      ],
      "metadata": {
        "id": "J2P7_p-MZV2t"
      }
    },
    {
      "cell_type": "markdown",
      "source": [
        "![image.png](data:image/png;base64,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)"
      ],
      "metadata": {
        "id": "h6hmpOPMavFz"
      }
    },
    {
      "cell_type": "code",
      "source": [
        "max_vocab_length = 68000 # Based on the paper\n",
        "max_length = 55 # Covers 95% of the sentences length\n",
        "text_vectorizer = TextVectorization(max_tokens=max_vocab_length,\n",
        "                                    output_mode = 'int',\n",
        "                                    output_sequence_length =max_length\n",
        "                                    )"
      ],
      "metadata": {
        "id": "-4qnDfu2XONB"
      },
      "execution_count": 34,
      "outputs": []
    },
    {
      "cell_type": "code",
      "source": [
        "# Adapt the textVectorizer to training sentences\n",
        "text_vectorizer.adapt(train_sentences)"
      ],
      "metadata": {
        "id": "7WhhWLy7YpMx"
      },
      "execution_count": 35,
      "outputs": []
    },
    {
      "cell_type": "code",
      "source": [
        "# How many words are in our training vocabulary\n",
        "rct_20k_text_vocab = text_vectorizer.get_vocabulary()\n",
        "len(rct_20k_text_vocab)"
      ],
      "metadata": {
        "id": "SCyO0nP6jU2c",
        "outputId": "f87d2183-ecc2-4bd5-c7c4-b268bfa5911e",
        "colab": {
          "base_uri": "https://localhost:8080/"
        }
      },
      "execution_count": 36,
      "outputs": [
        {
          "output_type": "execute_result",
          "data": {
            "text/plain": [
              "64841"
            ]
          },
          "metadata": {},
          "execution_count": 36
        }
      ]
    },
    {
      "cell_type": "code",
      "source": [
        "# Test our text vectorizer on random sentences\n",
        "import random\n",
        "target_sentence =random.choice(train_sentences)\n",
        "print(f\"Text:\\n{target_sentence}\")\n",
        "print(f\"\\nLength of text:{len(target_sentence.split())}\")\n",
        "print(f\"\\nVectorized text:{text_vectorizer(target_sentence)}\")\n"
      ],
      "metadata": {
        "id": "aQtmQcFxbNuM",
        "outputId": "3e005195-6d1c-48b1-a7d1-0ae1bd84bfff",
        "colab": {
          "base_uri": "https://localhost:8080/"
        }
      },
      "execution_count": 37,
      "outputs": [
        {
          "output_type": "stream",
          "name": "stdout",
          "text": [
            "Text:\n",
            "hr , ci and do@ i were significantly higher with mbmk after both iv and im administration .\n",
            "\n",
            "Length of text:18\n",
            "\n",
            "Vectorized text:[  273    50     3  1017   389     9    39    82     7 30202    21    54\n",
            "   651     3  2376   288     0     0     0     0     0     0     0     0\n",
            "     0     0     0     0     0     0     0     0     0     0     0     0\n",
            "     0     0     0     0     0     0     0     0     0     0     0     0\n",
            "     0     0     0     0     0     0     0]\n"
          ]
        }
      ]
    },
    {
      "cell_type": "code",
      "source": [
        "# Create an embedding layer\n",
        "embedding = layers.Embedding(input_dim=len(rct_20k_text_vocab),\n",
        "                             output_dim = 128,\n",
        "                             mask_zero =True, #\n",
        "                             name = \"Embedding_layer\"\n",
        "                              )\n",
        "\n"
      ],
      "metadata": {
        "id": "XWlek33ObfPM"
      },
      "execution_count": 38,
      "outputs": []
    },
    {
      "cell_type": "code",
      "source": [
        "# embedding.input_dim\n",
        "len(rct_20k_text_vocab)"
      ],
      "metadata": {
        "id": "9xSLNzyV97N3",
        "outputId": "333159d6-309f-491a-9150-a33530137d8b",
        "colab": {
          "base_uri": "https://localhost:8080/"
        }
      },
      "execution_count": 39,
      "outputs": [
        {
          "output_type": "execute_result",
          "data": {
            "text/plain": [
              "64841"
            ]
          },
          "metadata": {},
          "execution_count": 39
        }
      ]
    },
    {
      "cell_type": "code",
      "source": [
        "\n",
        "# Embed the random sentence on our text vectorizer\n",
        "target_sentence =random.choice(train_sentences)\n",
        "target_vectorize = text_vectorizer(target_sentence)\n",
        "print(f'Text_vectorized:\\n{target_vectorize}')\n",
        "print(f'\\nShape:{target_vectorize.shape}')\n",
        "sample_embed = embedding(target_vectorize)\n",
        "sample_embed"
      ],
      "metadata": {
        "id": "j9FeTgBBj6X9",
        "outputId": "d049c359-667d-414e-df4e-e283d6152dc4",
        "colab": {
          "base_uri": "https://localhost:8080/"
        }
      },
      "execution_count": 40,
      "outputs": [
        {
          "output_type": "stream",
          "name": "stdout",
          "text": [
            "Text_vectorized:\n",
            "[ 1969     4   220  1051    65    52 17381  2951     3  3617    20     8\n",
            "  1998  3813   205    22   619   220  1051    65  2750    12     0     0\n",
            "     0     0     0     0     0     0     0     0     0     0     0     0\n",
            "     0     0     0     0     0     0     0     0     0     0     0     0\n",
            "     0     0     0     0     0     0     0]\n",
            "\n",
            "Shape:(55,)\n"
          ]
        },
        {
          "output_type": "execute_result",
          "data": {
            "text/plain": [
              "<tf.Tensor: shape=(55, 128), dtype=float32, numpy=\n",
              "array([[ 0.01495017,  0.04931866, -0.04370719, ...,  0.04045088,\n",
              "         0.04285519,  0.02787891],\n",
              "       [-0.04994135,  0.04630889, -0.00660312, ...,  0.04168633,\n",
              "         0.01085775, -0.02678491],\n",
              "       [ 0.02731857,  0.01046845,  0.04454832, ..., -0.01250101,\n",
              "        -0.01708597,  0.01758363],\n",
              "       ...,\n",
              "       [-0.01167849,  0.03656268, -0.00756234, ..., -0.04626063,\n",
              "         0.00494993,  0.04868245],\n",
              "       [-0.01167849,  0.03656268, -0.00756234, ..., -0.04626063,\n",
              "         0.00494993,  0.04868245],\n",
              "       [-0.01167849,  0.03656268, -0.00756234, ..., -0.04626063,\n",
              "         0.00494993,  0.04868245]], dtype=float32)>"
            ]
          },
          "metadata": {},
          "execution_count": 40
        }
      ]
    },
    {
      "cell_type": "markdown",
      "source": [
        "### Create datasets\n",
        "\n",
        "We're going to create our dataset with `tf.data` API which provides methods which enable faster data loading.\n",
        "\n",
        "> 📖**Resources:** For best practises on data loading in Tensorflow, check out the following:\n",
        "\n",
        "* [tf.data.Build Tesnorflow input pipelines](https://www.tensorflow.org/guide/data)\n",
        "* [Better perfomance with the tf.data API](https://www.tensorflow.org/guide/data_performance)\n",
        "\n",
        "We need to create a batched `PrefetchDataset` we can use the methods `batch()` and `prefetch()`, the parameter `tf.data.AUTOTONE` will also Tensorflow to determine the optimal amount of compute to use to prepare datasets.\n"
      ],
      "metadata": {
        "id": "M9sIY-lytXrL"
      }
    },
    {
      "cell_type": "code",
      "source": [
        "# Turns our data into Tensorflow  Datasets\n",
        "train_dataset = tf.data.Dataset.from_tensor_slices((train_sentences,train_labels_one_hot))\n",
        "valid_dataset = tf.data.Dataset.from_tensor_slices((val_sentences,val_labels_one_hot))\n",
        "test_dataset = tf.data.Dataset.from_tensor_slices((test_sentences,test_labels_one_hot))\n",
        "train_dataset\n"
      ],
      "metadata": {
        "id": "OlfZSpCcvBDW",
        "outputId": "ee1b7664-1999-45ba-cb14-a861f85d7af1",
        "colab": {
          "base_uri": "https://localhost:8080/"
        }
      },
      "execution_count": 41,
      "outputs": [
        {
          "output_type": "execute_result",
          "data": {
            "text/plain": [
              "<_TensorSliceDataset element_spec=(TensorSpec(shape=(), dtype=tf.string, name=None), TensorSpec(shape=(5,), dtype=tf.float64, name=None))>"
            ]
          },
          "metadata": {},
          "execution_count": 41
        }
      ]
    },
    {
      "cell_type": "code",
      "source": [
        "# Take the Tensorslices  Dataset's and turn them into prefetched batches\n",
        "train_dataset = train_dataset.batch(32).prefetch(tf.data.AUTOTUNE)\n",
        "valid_dataset = valid_dataset.batch(32).prefetch(tf.data.AUTOTUNE)\n",
        "test_dataset = test_dataset.batch(32).prefetch(tf.data.AUTOTUNE)\n",
        "\n",
        "train_dataset\n"
      ],
      "metadata": {
        "id": "2Up0gnlZ3Jjj",
        "outputId": "7f54cf1d-daaf-4805-8a26-41f0bdd65387",
        "colab": {
          "base_uri": "https://localhost:8080/"
        }
      },
      "execution_count": 42,
      "outputs": [
        {
          "output_type": "execute_result",
          "data": {
            "text/plain": [
              "<_PrefetchDataset element_spec=(TensorSpec(shape=(None,), dtype=tf.string, name=None), TensorSpec(shape=(None, 5), dtype=tf.float64, name=None))>"
            ]
          },
          "metadata": {},
          "execution_count": 42
        }
      ]
    },
    {
      "cell_type": "markdown",
      "source": [
        "## Model 1: Conv1D with token embeddings\n",
        "All of our deep learning models will follow a similar structure\n",
        "\n",
        "```\n",
        "Input (text) -> Tokenize -> Embedding -> Layers -> Output (label probability)\n",
        "\n",
        "```\n",
        "\n",
        "The first model we're going to build is a 1-dimensional Convolutional Neural Network.\n",
        "\n",
        "We're also going to be following the standard machine learning workflow of:\n",
        "\n",
        "* Build model\n",
        "* Train model\n",
        "* Evaluate model (make predictions and compare to ground truth)"
      ],
      "metadata": {
        "id": "WBMZIzb237Ms"
      }
    },
    {
      "cell_type": "code",
      "source": [
        "# Create ID convolutional model to process sequences\n",
        "inputs = layers.Input(shape=(1,),dtype= tf.string)\n",
        "text_vectors = text_vectorizer(inputs) # vectorize text inputs\n",
        "token_embedding = embedding(text_vectors) # Create embeddings\n",
        "x = layers.Conv1D(64,kernel_size=5,padding='same',activation=\"relu\")(token_embedding)\n",
        "x = layers.GlobalAveragePooling1D()(x) # Condense the output of our feature vector\n",
        "outputs = layers.Dense(num_classes,activation='softmax')(x)\n",
        "model_1 = tf.keras.Model(inputs,outputs)\n",
        "\n",
        "# Compile model\n",
        "model_1.compile(loss = 'categorical_crossentropy', # If your labels are interger form (not one hot) use sparse_categorical_crossentropy\n",
        "                optimizer = tf.keras.optimizers.Adam(),\n",
        "                metrics = ['accuracy']\n",
        "                )\n"
      ],
      "metadata": {
        "id": "c9YrAvLq3wPA",
        "outputId": "265e1726-5a19-4de4-fa82-665726225e93",
        "colab": {
          "base_uri": "https://localhost:8080/"
        }
      },
      "execution_count": 43,
      "outputs": [
        {
          "output_type": "stream",
          "name": "stderr",
          "text": [
            "/usr/local/lib/python3.12/dist-packages/keras/src/layers/layer.py:965: UserWarning: Layer 'conv1d' (of type Conv1D) was passed an input with a mask attached to it. However, this layer does not support masking and will therefore destroy the mask information. Downstream layers will not see the mask.\n",
            "  warnings.warn(\n"
          ]
        }
      ]
    },
    {
      "cell_type": "code",
      "source": [
        "model_1.summary()"
      ],
      "metadata": {
        "id": "ob8HRd5HAARk",
        "outputId": "81f95cd2-e9d7-42a1-b2c3-c490effe257a",
        "colab": {
          "base_uri": "https://localhost:8080/",
          "height": 353
        }
      },
      "execution_count": 44,
      "outputs": [
        {
          "output_type": "display_data",
          "data": {
            "text/plain": [
              "\u001b[1mModel: \"functional\"\u001b[0m\n"
            ],
            "text/html": [
              "<pre style=\"white-space:pre;overflow-x:auto;line-height:normal;font-family:Menlo,'DejaVu Sans Mono',consolas,'Courier New',monospace\"><span style=\"font-weight: bold\">Model: \"functional\"</span>\n",
              "</pre>\n"
            ]
          },
          "metadata": {}
        },
        {
          "output_type": "display_data",
          "data": {
            "text/plain": [
              "┏━━━━━━━━━━━━━━━━━━━━━━━━━━━━━━━━━┳━━━━━━━━━━━━━━━━━━━━━━━━┳━━━━━━━━━━━━━━━┓\n",
              "┃\u001b[1m \u001b[0m\u001b[1mLayer (type)                   \u001b[0m\u001b[1m \u001b[0m┃\u001b[1m \u001b[0m\u001b[1mOutput Shape          \u001b[0m\u001b[1m \u001b[0m┃\u001b[1m \u001b[0m\u001b[1m      Param #\u001b[0m\u001b[1m \u001b[0m┃\n",
              "┡━━━━━━━━━━━━━━━━━━━━━━━━━━━━━━━━━╇━━━━━━━━━━━━━━━━━━━━━━━━╇━━━━━━━━━━━━━━━┩\n",
              "│ input_layer (\u001b[38;5;33mInputLayer\u001b[0m)        │ (\u001b[38;5;45mNone\u001b[0m, \u001b[38;5;34m1\u001b[0m)              │             \u001b[38;5;34m0\u001b[0m │\n",
              "├─────────────────────────────────┼────────────────────────┼───────────────┤\n",
              "│ text_vectorization              │ (\u001b[38;5;45mNone\u001b[0m, \u001b[38;5;34m55\u001b[0m)             │             \u001b[38;5;34m0\u001b[0m │\n",
              "│ (\u001b[38;5;33mTextVectorization\u001b[0m)             │                        │               │\n",
              "├─────────────────────────────────┼────────────────────────┼───────────────┤\n",
              "│ Embedding_layer (\u001b[38;5;33mEmbedding\u001b[0m)     │ (\u001b[38;5;45mNone\u001b[0m, \u001b[38;5;34m55\u001b[0m, \u001b[38;5;34m128\u001b[0m)        │     \u001b[38;5;34m8,299,648\u001b[0m │\n",
              "├─────────────────────────────────┼────────────────────────┼───────────────┤\n",
              "│ conv1d (\u001b[38;5;33mConv1D\u001b[0m)                 │ (\u001b[38;5;45mNone\u001b[0m, \u001b[38;5;34m55\u001b[0m, \u001b[38;5;34m64\u001b[0m)         │        \u001b[38;5;34m41,024\u001b[0m │\n",
              "├─────────────────────────────────┼────────────────────────┼───────────────┤\n",
              "│ global_average_pooling1d        │ (\u001b[38;5;45mNone\u001b[0m, \u001b[38;5;34m64\u001b[0m)             │             \u001b[38;5;34m0\u001b[0m │\n",
              "│ (\u001b[38;5;33mGlobalAveragePooling1D\u001b[0m)        │                        │               │\n",
              "├─────────────────────────────────┼────────────────────────┼───────────────┤\n",
              "│ dense (\u001b[38;5;33mDense\u001b[0m)                   │ (\u001b[38;5;45mNone\u001b[0m, \u001b[38;5;34m5\u001b[0m)              │           \u001b[38;5;34m325\u001b[0m │\n",
              "└─────────────────────────────────┴────────────────────────┴───────────────┘\n"
            ],
            "text/html": [
              "<pre style=\"white-space:pre;overflow-x:auto;line-height:normal;font-family:Menlo,'DejaVu Sans Mono',consolas,'Courier New',monospace\">┏━━━━━━━━━━━━━━━━━━━━━━━━━━━━━━━━━┳━━━━━━━━━━━━━━━━━━━━━━━━┳━━━━━━━━━━━━━━━┓\n",
              "┃<span style=\"font-weight: bold\"> Layer (type)                    </span>┃<span style=\"font-weight: bold\"> Output Shape           </span>┃<span style=\"font-weight: bold\">       Param # </span>┃\n",
              "┡━━━━━━━━━━━━━━━━━━━━━━━━━━━━━━━━━╇━━━━━━━━━━━━━━━━━━━━━━━━╇━━━━━━━━━━━━━━━┩\n",
              "│ input_layer (<span style=\"color: #0087ff; text-decoration-color: #0087ff\">InputLayer</span>)        │ (<span style=\"color: #00d7ff; text-decoration-color: #00d7ff\">None</span>, <span style=\"color: #00af00; text-decoration-color: #00af00\">1</span>)              │             <span style=\"color: #00af00; text-decoration-color: #00af00\">0</span> │\n",
              "├─────────────────────────────────┼────────────────────────┼───────────────┤\n",
              "│ text_vectorization              │ (<span style=\"color: #00d7ff; text-decoration-color: #00d7ff\">None</span>, <span style=\"color: #00af00; text-decoration-color: #00af00\">55</span>)             │             <span style=\"color: #00af00; text-decoration-color: #00af00\">0</span> │\n",
              "│ (<span style=\"color: #0087ff; text-decoration-color: #0087ff\">TextVectorization</span>)             │                        │               │\n",
              "├─────────────────────────────────┼────────────────────────┼───────────────┤\n",
              "│ Embedding_layer (<span style=\"color: #0087ff; text-decoration-color: #0087ff\">Embedding</span>)     │ (<span style=\"color: #00d7ff; text-decoration-color: #00d7ff\">None</span>, <span style=\"color: #00af00; text-decoration-color: #00af00\">55</span>, <span style=\"color: #00af00; text-decoration-color: #00af00\">128</span>)        │     <span style=\"color: #00af00; text-decoration-color: #00af00\">8,299,648</span> │\n",
              "├─────────────────────────────────┼────────────────────────┼───────────────┤\n",
              "│ conv1d (<span style=\"color: #0087ff; text-decoration-color: #0087ff\">Conv1D</span>)                 │ (<span style=\"color: #00d7ff; text-decoration-color: #00d7ff\">None</span>, <span style=\"color: #00af00; text-decoration-color: #00af00\">55</span>, <span style=\"color: #00af00; text-decoration-color: #00af00\">64</span>)         │        <span style=\"color: #00af00; text-decoration-color: #00af00\">41,024</span> │\n",
              "├─────────────────────────────────┼────────────────────────┼───────────────┤\n",
              "│ global_average_pooling1d        │ (<span style=\"color: #00d7ff; text-decoration-color: #00d7ff\">None</span>, <span style=\"color: #00af00; text-decoration-color: #00af00\">64</span>)             │             <span style=\"color: #00af00; text-decoration-color: #00af00\">0</span> │\n",
              "│ (<span style=\"color: #0087ff; text-decoration-color: #0087ff\">GlobalAveragePooling1D</span>)        │                        │               │\n",
              "├─────────────────────────────────┼────────────────────────┼───────────────┤\n",
              "│ dense (<span style=\"color: #0087ff; text-decoration-color: #0087ff\">Dense</span>)                   │ (<span style=\"color: #00d7ff; text-decoration-color: #00d7ff\">None</span>, <span style=\"color: #00af00; text-decoration-color: #00af00\">5</span>)              │           <span style=\"color: #00af00; text-decoration-color: #00af00\">325</span> │\n",
              "└─────────────────────────────────┴────────────────────────┴───────────────┘\n",
              "</pre>\n"
            ]
          },
          "metadata": {}
        },
        {
          "output_type": "display_data",
          "data": {
            "text/plain": [
              "\u001b[1m Total params: \u001b[0m\u001b[38;5;34m8,340,997\u001b[0m (31.82 MB)\n"
            ],
            "text/html": [
              "<pre style=\"white-space:pre;overflow-x:auto;line-height:normal;font-family:Menlo,'DejaVu Sans Mono',consolas,'Courier New',monospace\"><span style=\"font-weight: bold\"> Total params: </span><span style=\"color: #00af00; text-decoration-color: #00af00\">8,340,997</span> (31.82 MB)\n",
              "</pre>\n"
            ]
          },
          "metadata": {}
        },
        {
          "output_type": "display_data",
          "data": {
            "text/plain": [
              "\u001b[1m Trainable params: \u001b[0m\u001b[38;5;34m8,340,997\u001b[0m (31.82 MB)\n"
            ],
            "text/html": [
              "<pre style=\"white-space:pre;overflow-x:auto;line-height:normal;font-family:Menlo,'DejaVu Sans Mono',consolas,'Courier New',monospace\"><span style=\"font-weight: bold\"> Trainable params: </span><span style=\"color: #00af00; text-decoration-color: #00af00\">8,340,997</span> (31.82 MB)\n",
              "</pre>\n"
            ]
          },
          "metadata": {}
        },
        {
          "output_type": "display_data",
          "data": {
            "text/plain": [
              "\u001b[1m Non-trainable params: \u001b[0m\u001b[38;5;34m0\u001b[0m (0.00 B)\n"
            ],
            "text/html": [
              "<pre style=\"white-space:pre;overflow-x:auto;line-height:normal;font-family:Menlo,'DejaVu Sans Mono',consolas,'Courier New',monospace\"><span style=\"font-weight: bold\"> Non-trainable params: </span><span style=\"color: #00af00; text-decoration-color: #00af00\">0</span> (0.00 B)\n",
              "</pre>\n"
            ]
          },
          "metadata": {}
        }
      ]
    },
    {
      "cell_type": "code",
      "source": [
        "# Fit the model on the data\n",
        "model_1_history = model_1.fit(train_dataset,\n",
        "            steps_per_epoch=int(0.1 * len(train_dataset)), # only fit on 10% of batches for faster training time\n",
        "            epochs=3,\n",
        "            validation_data=valid_dataset,\n",
        "            validation_steps=int(0.1 * len(valid_dataset)))"
      ],
      "metadata": {
        "id": "IL4S-3fv8yKJ",
        "outputId": "3f1918fa-1814-4ec7-8181-f1df5ea80058",
        "colab": {
          "base_uri": "https://localhost:8080/"
        }
      },
      "execution_count": 45,
      "outputs": [
        {
          "output_type": "stream",
          "name": "stdout",
          "text": [
            "Epoch 1/3\n",
            "\u001b[1m562/562\u001b[0m \u001b[32m━━━━━━━━━━━━━━━━━━━━\u001b[0m\u001b[37m\u001b[0m \u001b[1m11s\u001b[0m 9ms/step - accuracy: 0.5264 - loss: 1.1626 - val_accuracy: 0.7420 - val_loss: 0.6906\n",
            "Epoch 2/3\n",
            "\u001b[1m562/562\u001b[0m \u001b[32m━━━━━━━━━━━━━━━━━━━━\u001b[0m\u001b[37m\u001b[0m \u001b[1m6s\u001b[0m 10ms/step - accuracy: 0.7464 - loss: 0.6810 - val_accuracy: 0.7746 - val_loss: 0.6265\n",
            "Epoch 3/3\n",
            "\u001b[1m562/562\u001b[0m \u001b[32m━━━━━━━━━━━━━━━━━━━━\u001b[0m\u001b[37m\u001b[0m \u001b[1m6s\u001b[0m 11ms/step - accuracy: 0.7705 - loss: 0.6233 - val_accuracy: 0.7846 - val_loss: 0.5968\n"
          ]
        }
      ]
    },
    {
      "cell_type": "code",
      "source": [
        "# Evaluate on whole validation dataset\n",
        "model_1.evaluate(valid_dataset)"
      ],
      "metadata": {
        "id": "9fTRBQoEKJ0s",
        "outputId": "be74dc9d-6ae0-47dd-b233-180c7feabf17",
        "colab": {
          "base_uri": "https://localhost:8080/"
        }
      },
      "execution_count": 46,
      "outputs": [
        {
          "output_type": "stream",
          "name": "stdout",
          "text": [
            "\u001b[1m945/945\u001b[0m \u001b[32m━━━━━━━━━━━━━━━━━━━━\u001b[0m\u001b[37m\u001b[0m \u001b[1m4s\u001b[0m 5ms/step - accuracy: 0.7860 - loss: 0.5961\n"
          ]
        },
        {
          "output_type": "execute_result",
          "data": {
            "text/plain": [
              "[0.5986469984054565, 0.7866741418838501]"
            ]
          },
          "metadata": {},
          "execution_count": 46
        }
      ]
    },
    {
      "cell_type": "code",
      "source": [
        "# Make predictions (our model predicts prediction probabilities for each class)\n",
        "model_1_pred_probs = model_1.predict(valid_dataset)\n",
        "model_1_pred_probs"
      ],
      "metadata": {
        "id": "4b-ZKwQIKRut",
        "outputId": "2ec7b70f-2d2e-4633-bb75-cd01d2036ce5",
        "colab": {
          "base_uri": "https://localhost:8080/"
        }
      },
      "execution_count": 47,
      "outputs": [
        {
          "output_type": "stream",
          "name": "stdout",
          "text": [
            "\u001b[1m945/945\u001b[0m \u001b[32m━━━━━━━━━━━━━━━━━━━━\u001b[0m\u001b[37m\u001b[0m \u001b[1m3s\u001b[0m 2ms/step\n"
          ]
        },
        {
          "output_type": "execute_result",
          "data": {
            "text/plain": [
              "array([[3.91357154e-01, 1.62888601e-01, 1.28347114e-01, 2.70098060e-01,\n",
              "        4.73091006e-02],\n",
              "       [4.63880867e-01, 2.65075833e-01, 9.95125342e-03, 2.55341679e-01,\n",
              "        5.75030362e-03],\n",
              "       [1.74939364e-01, 7.43875932e-03, 1.74584927e-03, 8.15846920e-01,\n",
              "        2.90337593e-05],\n",
              "       ...,\n",
              "       [4.16245257e-06, 6.58910489e-04, 6.33928808e-04, 3.80305937e-06,\n",
              "        9.98699188e-01],\n",
              "       [4.69078198e-02, 4.25209939e-01, 1.09036155e-01, 5.07252887e-02,\n",
              "        3.68120760e-01],\n",
              "       [1.70531422e-01, 6.91892147e-01, 4.14753407e-02, 3.82879339e-02,\n",
              "        5.78132197e-02]], dtype=float32)"
            ]
          },
          "metadata": {},
          "execution_count": 47
        }
      ]
    },
    {
      "cell_type": "code",
      "source": [
        "# Convert pred probs to classes\n",
        "model_1_preds =tf.argmax(model_1_pred_probs,axis =1)\n",
        "model_1_preds"
      ],
      "metadata": {
        "id": "9CxFtz8TPTKd",
        "outputId": "c9bcb444-10a9-40f8-d797-59b186264e3c",
        "colab": {
          "base_uri": "https://localhost:8080/"
        }
      },
      "execution_count": 48,
      "outputs": [
        {
          "output_type": "execute_result",
          "data": {
            "text/plain": [
              "<tf.Tensor: shape=(30212,), dtype=int64, numpy=array([0, 0, 3, ..., 4, 1, 1])>"
            ]
          },
          "metadata": {},
          "execution_count": 48
        }
      ]
    },
    {
      "cell_type": "code",
      "source": [
        "model_1_results = score_function(y_true =val_labels_encoded,y_pred=model_1_preds)\n",
        "model_1_results"
      ],
      "metadata": {
        "id": "nQMqdPxaPyeM",
        "outputId": "a56addaa-2143-444c-fe42-caf4c0c469d7",
        "colab": {
          "base_uri": "https://localhost:8080/"
        }
      },
      "execution_count": 49,
      "outputs": [
        {
          "output_type": "execute_result",
          "data": {
            "text/plain": [
              "{'Accuracy_score': 0.7866741692042897,\n",
              " 'F1-Score': 0.784516903845786,\n",
              " 'Recall_Score': 0.7866741692042897,\n",
              " 'Precision_Score': 0.7833859197686712}"
            ]
          },
          "metadata": {},
          "execution_count": 49
        }
      ]
    },
    {
      "cell_type": "code",
      "source": [
        "bayesian_model_score"
      ],
      "metadata": {
        "id": "lX9Ou_gpSKq1",
        "outputId": "d657b8f9-669a-4330-bffe-1bbdb783ceae",
        "colab": {
          "base_uri": "https://localhost:8080/"
        }
      },
      "execution_count": 50,
      "outputs": [
        {
          "output_type": "execute_result",
          "data": {
            "text/plain": [
              "{'Accuracy_score': 0.7218323844829869,\n",
              " 'F1-Score': 0.6989250353450294,\n",
              " 'Recall_Score': 0.7218323844829869,\n",
              " 'Precision_Score': 0.7186466952323352}"
            ]
          },
          "metadata": {},
          "execution_count": 50
        }
      ]
    },
    {
      "cell_type": "markdown",
      "source": [
        "## Tensorflow Hub Pretrained Feature extractor\n",
        "\n",
        "More on the how to load keras models using kaggle:https://www.kaggle.com/models/google/universal-sentence-encoder/tensorFlow2/universal-sentence-encoder\n",
        "\n",
        "Now we've built a few of our own models, let's try and use transfer learning for NLP, specifically using tensorflow hub's universal sentence encoder\n"
      ],
      "metadata": {
        "id": "HbuDdWgOTv7e"
      }
    },
    {
      "cell_type": "code",
      "source": [
        "import tensorflow_hub as hub\n",
        "encoder = hub.load(\"https://www.kaggle.com/models/google/universal-sentence-encoder/TensorFlow2/universal-sentence-encoder/2\")\n",
        "\n",
        "# Pass In our sample sentences\n",
        "random_sentence = random.choice(train_sentences)\n",
        "print(random_sentence)\n",
        "embedded_sample =encoder([random_sentence])\n"
      ],
      "metadata": {
        "id": "w8jlBHDzVz-b",
        "outputId": "bc4f217c-1aee-4083-9279-63be3aa889a7",
        "colab": {
          "base_uri": "https://localhost:8080/"
        }
      },
      "execution_count": 60,
      "outputs": [
        {
          "output_type": "stream",
          "name": "stdout",
          "text": [
            "moreover , a clinically relevant improvement ( > @ units ) in sgrq was detected in the bdp/ff group only .\n"
          ]
        }
      ]
    },
    {
      "cell_type": "code",
      "source": [
        "embedded_sample.shape"
      ],
      "metadata": {
        "id": "Tx3XqudRVqVW",
        "outputId": "44aa08ad-871e-471f-c4f3-233cba30b431",
        "colab": {
          "base_uri": "https://localhost:8080/"
        }
      },
      "execution_count": 63,
      "outputs": [
        {
          "output_type": "execute_result",
          "data": {
            "text/plain": [
              "TensorShape([1, 512])"
            ]
          },
          "metadata": {},
          "execution_count": 63
        }
      ]
    },
    {
      "cell_type": "code",
      "source": [
        "%%time\n",
        "# Precompute Embeddings\n",
        "tf.random.set_seed(42)\n",
        "def embedded_sentence(sentences,batch_size=32):\n",
        "  embeddings = []\n",
        "  for i in range(0,len(sentences)+1,batch_size):\n",
        "    batch = sentences[i:i+batch_size]\n",
        "    emb = encoder(batch)\n",
        "    embeddings.append(emb.numpy())\n",
        "  return np.vstack(embeddings).astype(np.float32)\n",
        "\n",
        "\n",
        "# Train, Validate and Test data embeddings\n",
        "emb_train_set = embedded_sentence(train_sentences)\n",
        "emb_valid_set = embedded_sentence(val_sentences)\n",
        "emb_test_set =embedded_sentence(test_sentences)\n",
        "\n"
      ],
      "metadata": {
        "id": "z3N5I1UTWkzp",
        "outputId": "d98ad15f-61b9-45c3-bc96-2a048a093001",
        "colab": {
          "base_uri": "https://localhost:8080/"
        }
      },
      "execution_count": 64,
      "outputs": [
        {
          "output_type": "stream",
          "name": "stdout",
          "text": [
            "CPU times: user 1min 22s, sys: 5.76 s, total: 1min 28s\n",
            "Wall time: 1min 2s\n"
          ]
        }
      ]
    },
    {
      "cell_type": "code",
      "source": [
        "emb_train_set.shape,emb_valid_set.shape,emb_test_set.shape,"
      ],
      "metadata": {
        "id": "9QvxLyp3aBXT",
        "outputId": "c96425b6-e6d9-458e-bcd8-f5191582a56c",
        "colab": {
          "base_uri": "https://localhost:8080/"
        }
      },
      "execution_count": 67,
      "outputs": [
        {
          "output_type": "execute_result",
          "data": {
            "text/plain": [
              "((180040, 512), (30212, 512), (30135, 512))"
            ]
          },
          "metadata": {},
          "execution_count": 67
        }
      ]
    },
    {
      "cell_type": "code",
      "source": [
        "train_set = tf.data.Dataset.from_tensor_slices((emb_train_set,train_labels_one_hot))\n",
        "valid_set = tf.data.Dataset.from_tensor_slices((emb_valid_set,val_labels_one_hot))\n",
        "test_set = tf.data.Dataset.from_tensor_slices((emb_test_set,test_labels_one_hot))\n",
        "\n"
      ],
      "metadata": {
        "id": "q7CPE7BjaVic"
      },
      "execution_count": 69,
      "outputs": []
    },
    {
      "cell_type": "code",
      "source": [
        "train_set = train_set.batch(32).prefetch(tf.data.AUTOTUNE)\n",
        "valid_set = valid_set.batch(32).prefetch(tf.data.AUTOTUNE)\n",
        "test_set = test_set.batch(32).prefetch(tf.data.AUTOTUNE)\n"
      ],
      "metadata": {
        "id": "J6spgGaDbT99"
      },
      "execution_count": 70,
      "outputs": []
    },
    {
      "cell_type": "code",
      "source": [],
      "metadata": {
        "id": "d5SnVMmNb-up"
      },
      "execution_count": null,
      "outputs": []
    }
  ]
}