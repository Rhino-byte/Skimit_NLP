{
  "nbformat": 4,
  "nbformat_minor": 0,
  "metadata": {
    "colab": {
      "provenance": [],
      "gpuType": "T4",
      "include_colab_link": true
    },
    "kernelspec": {
      "name": "python3",
      "display_name": "Python 3"
    },
    "language_info": {
      "name": "python"
    },
    "accelerator": "GPU"
  },
  "cells": [
    {
      "cell_type": "markdown",
      "metadata": {
        "id": "view-in-github",
        "colab_type": "text"
      },
      "source": [
        "<a href=\"https://colab.research.google.com/github/Rhino-byte/Skimit_NLP/blob/main/nlp_skimit.ipynb\" target=\"_parent\"><img src=\"https://colab.research.google.com/assets/colab-badge.svg\" alt=\"Open In Colab\"/></a>"
      ]
    },
    {
      "cell_type": "markdown",
      "source": [
        "# Milestone Project : SkimLit 📄🔥\n",
        "\n",
        "The purpose of this notebook is to build an NLP model to make reading medical abstracts easier.\n",
        "\n",
        "The paper we're replicating (the source of the dataset that we'll be using) is available here: https://arxiv.org/abs/1710.06071\n",
        "\n",
        "And reading through the paper above, we see that the model architecture that they use to achieve their best results is available here: https://arxiv.org/abs/1612.05251"
      ],
      "metadata": {
        "id": "ezsQfar1JHkx"
      }
    },
    {
      "cell_type": "markdown",
      "source": [
        "## Confirm access to GPU\n"
      ],
      "metadata": {
        "id": "GOI-FDOsMuA4"
      }
    },
    {
      "cell_type": "code",
      "source": [
        "!nvidia -smi -L"
      ],
      "metadata": {
        "colab": {
          "base_uri": "https://localhost:8080/"
        },
        "id": "YbLZWnwF1NJd",
        "outputId": "0b79baeb-3f66-4148-8ba4-1c4fd300cb7f"
      },
      "execution_count": null,
      "outputs": [
        {
          "output_type": "stream",
          "name": "stdout",
          "text": [
            "/bin/bash: line 1: nvidia: command not found\n"
          ]
        }
      ]
    },
    {
      "cell_type": "markdown",
      "source": [
        "## Get the data\n",
        "\n",
        "Since we'll be replicating the paper above (Published 200k RCT), Let's download the dataset they used.\n",
        "\n",
        "We cando so from the authors GitHub: https://github.com/Franck-Dernoncourt/pubmed-rct"
      ],
      "metadata": {
        "id": "G8bKb1sf1QKA"
      }
    },
    {
      "cell_type": "code",
      "source": [
        "!git clone https://github.com/Franck-Dernoncourt/pubmed-rct\n",
        "!ls pubmed-rct"
      ],
      "metadata": {
        "colab": {
          "base_uri": "https://localhost:8080/"
        },
        "id": "mA3yb3Tc1-Sb",
        "outputId": "358543ca-d364-40e1-affe-d7eef1fbd692"
      },
      "execution_count": null,
      "outputs": [
        {
          "output_type": "stream",
          "name": "stdout",
          "text": [
            "Cloning into 'pubmed-rct'...\n",
            "remote: Enumerating objects: 39, done.\u001b[K\n",
            "remote: Counting objects: 100% (14/14), done.\u001b[K\n",
            "remote: Compressing objects: 100% (9/9), done.\u001b[K\n",
            "remote: Total 39 (delta 8), reused 5 (delta 5), pack-reused 25 (from 1)\u001b[K\n",
            "Receiving objects: 100% (39/39), 177.08 MiB | 15.33 MiB/s, done.\n",
            "Resolving deltas: 100% (15/15), done.\n",
            "Updating files: 100% (13/13), done.\n",
            "PubMed_200k_RCT\n",
            "PubMed_200k_RCT_numbers_replaced_with_at_sign\n",
            "PubMed_20k_RCT\n",
            "PubMed_20k_RCT_numbers_replaced_with_at_sign\n",
            "README.md\n"
          ]
        }
      ]
    },
    {
      "cell_type": "code",
      "source": [
        "# Check what files are in the PubMed 20K dataset\n",
        "!ls pubmed-rct/PubMed_20k_RCT_numbers_replaced_with_at_sign/"
      ],
      "metadata": {
        "colab": {
          "base_uri": "https://localhost:8080/"
        },
        "id": "ohWgcaoP3HGo",
        "outputId": "e7dd6362-ada0-457c-8cde-44a247c9a36b"
      },
      "execution_count": null,
      "outputs": [
        {
          "output_type": "stream",
          "name": "stdout",
          "text": [
            "dev.txt  test.txt  train.txt\n"
          ]
        }
      ]
    },
    {
      "cell_type": "code",
      "source": [
        "# Start our expperiments using 20k dataset with numbers replaced by @ sign\n",
        "data_dir = \"/content/pubmed-rct/PubMed_20k_RCT_numbers_replaced_with_at_sign\""
      ],
      "metadata": {
        "id": "74vZe0Ix3bIq"
      },
      "execution_count": null,
      "outputs": []
    },
    {
      "cell_type": "code",
      "source": [
        "# Check all of the file names in the target directory\n",
        "import os\n",
        "filenames = [data_dir + filename for filename in os.listdir(data_dir)]\n",
        "filenames"
      ],
      "metadata": {
        "colab": {
          "base_uri": "https://localhost:8080/"
        },
        "id": "ZQ0YLWFV5GAR",
        "outputId": "4d483daf-5fb1-4c38-ea21-c6f73d60f529"
      },
      "execution_count": null,
      "outputs": [
        {
          "output_type": "execute_result",
          "data": {
            "text/plain": [
              "['/content/pubmed-rct/PubMed_20k_RCT_numbers_replaced_with_at_signdev.txt',\n",
              " '/content/pubmed-rct/PubMed_20k_RCT_numbers_replaced_with_at_signtest.txt',\n",
              " '/content/pubmed-rct/PubMed_20k_RCT_numbers_replaced_with_at_signtrain.txt']"
            ]
          },
          "metadata": {},
          "execution_count": 5
        }
      ]
    },
    {
      "cell_type": "code",
      "source": [
        "'/content/pubmed-rct/PubMed_20k_RCT_numbers_replaced_with_at_signtrain.txt'== '/content/pubmed-rct/PubMed_20k_RCT_numbers_replaced_with_at_sign/train.txt'\n"
      ],
      "metadata": {
        "colab": {
          "base_uri": "https://localhost:8080/"
        },
        "id": "-Y1pWaDg9K9U",
        "outputId": "d4816259-7960-4010-91a5-4bbe8a6bde7d"
      },
      "execution_count": null,
      "outputs": [
        {
          "output_type": "execute_result",
          "data": {
            "text/plain": [
              "False"
            ]
          },
          "metadata": {},
          "execution_count": 6
        }
      ]
    },
    {
      "cell_type": "markdown",
      "source": [
        "## Preprocess data\n",
        "\n",
        "Now we've got some text data, it's time to become one with it and one of the best ways to become one with the data is to ...\n",
        "\n",
        "`Visualize, visualize, visualize`\n",
        "\n",
        "So with that in mind, let's write a function to read in all of the lines of a target text file\n",
        "\n"
      ],
      "metadata": {
        "id": "oSc1GHew56Q8"
      }
    },
    {
      "cell_type": "code",
      "source": [
        " # Create a function to read the lines of a document\n",
        "def get_lines(filename):\n",
        "  \"\"\"\n",
        "  Reads filename (a text filename) and returns the lines of a text as a list\n",
        "\n",
        "  Args:\n",
        "    filename: a string containing the target filepath.\n",
        "\n",
        "  Returns:\n",
        "    A list of strings with one string per line from the target filename.\n",
        "  \"\"\"\n",
        "  with open(filename,\"r\") as f:\n",
        "    return f.readlines()\n",
        "\n"
      ],
      "metadata": {
        "id": "_7tOdI7U6r1Z"
      },
      "execution_count": null,
      "outputs": []
    },
    {
      "cell_type": "code",
      "source": [
        "# Let's read in the training lines\n",
        "train_lines = get_lines(data_dir+\"/train.txt\")# read lines with the training files\n",
        "train_lines[:27]"
      ],
      "metadata": {
        "colab": {
          "base_uri": "https://localhost:8080/"
        },
        "id": "MlNB5tX68fD6",
        "outputId": "337590d0-639a-4e83-d3cd-7a7309dc517d"
      },
      "execution_count": null,
      "outputs": [
        {
          "output_type": "execute_result",
          "data": {
            "text/plain": [
              "['###24293578\\n',\n",
              " 'OBJECTIVE\\tTo investigate the efficacy of @ weeks of daily low-dose oral prednisolone in improving pain , mobility , and systemic low-grade inflammation in the short term and whether the effect would be sustained at @ weeks in older adults with moderate to severe knee osteoarthritis ( OA ) .\\n',\n",
              " 'METHODS\\tA total of @ patients with primary knee OA were randomized @:@ ; @ received @ mg/day of prednisolone and @ received placebo for @ weeks .\\n',\n",
              " 'METHODS\\tOutcome measures included pain reduction and improvement in function scores and systemic inflammation markers .\\n',\n",
              " 'METHODS\\tPain was assessed using the visual analog pain scale ( @-@ mm ) .\\n',\n",
              " 'METHODS\\tSecondary outcome measures included the Western Ontario and McMaster Universities Osteoarthritis Index scores , patient global assessment ( PGA ) of the severity of knee OA , and @-min walk distance ( @MWD ) .\\n',\n",
              " 'METHODS\\tSerum levels of interleukin @ ( IL-@ ) , IL-@ , tumor necrosis factor ( TNF ) - , and high-sensitivity C-reactive protein ( hsCRP ) were measured .\\n',\n",
              " 'RESULTS\\tThere was a clinically relevant reduction in the intervention group compared to the placebo group for knee pain , physical function , PGA , and @MWD at @ weeks .\\n',\n",
              " 'RESULTS\\tThe mean difference between treatment arms ( @ % CI ) was @ ( @-@ @ ) , p < @ ; @ ( @-@ @ ) , p < @ ; @ ( @-@ @ ) , p < @ ; and @ ( @-@ @ ) , p < @ , respectively .\\n',\n",
              " 'RESULTS\\tFurther , there was a clinically relevant reduction in the serum levels of IL-@ , IL-@ , TNF - , and hsCRP at @ weeks in the intervention group when compared to the placebo group .\\n',\n",
              " 'RESULTS\\tThese differences remained significant at @ weeks .\\n',\n",
              " 'RESULTS\\tThe Outcome Measures in Rheumatology Clinical Trials-Osteoarthritis Research Society International responder rate was @ % in the intervention group and @ % in the placebo group ( p < @ ) .\\n',\n",
              " 'CONCLUSIONS\\tLow-dose oral prednisolone had both a short-term and a longer sustained effect resulting in less knee pain , better physical function , and attenuation of systemic inflammation in older patients with knee OA ( ClinicalTrials.gov identifier NCT@ ) .\\n',\n",
              " '\\n',\n",
              " '###24854809\\n',\n",
              " 'BACKGROUND\\tEmotional eating is associated with overeating and the development of obesity .\\n',\n",
              " 'BACKGROUND\\tYet , empirical evidence for individual ( trait ) differences in emotional eating and cognitive mechanisms that contribute to eating during sad mood remain equivocal .\\n',\n",
              " 'OBJECTIVE\\tThe aim of this study was to test if attention bias for food moderates the effect of self-reported emotional eating during sad mood ( vs neutral mood ) on actual food intake .\\n',\n",
              " 'OBJECTIVE\\tIt was expected that emotional eating is predictive of elevated attention for food and higher food intake after an experimentally induced sad mood and that attentional maintenance on food predicts food intake during a sad versus a neutral mood .\\n',\n",
              " 'METHODS\\tParticipants ( N = @ ) were randomly assigned to one of the two experimental mood induction conditions ( sad/neutral ) .\\n',\n",
              " 'METHODS\\tAttentional biases for high caloric foods were measured by eye tracking during a visual probe task with pictorial food and neutral stimuli .\\n',\n",
              " 'METHODS\\tSelf-reported emotional eating was assessed with the Dutch Eating Behavior Questionnaire ( DEBQ ) and ad libitum food intake was tested by a disguised food offer .\\n',\n",
              " 'RESULTS\\tHierarchical multivariate regression modeling showed that self-reported emotional eating did not account for changes in attention allocation for food or food intake in either condition .\\n',\n",
              " 'RESULTS\\tYet , attention maintenance on food cues was significantly related to increased intake specifically in the neutral condition , but not in the sad mood condition .\\n',\n",
              " 'CONCLUSIONS\\tThe current findings show that self-reported emotional eating ( based on the DEBQ ) might not validly predict who overeats when sad , at least not in a laboratory setting with healthy women .\\n',\n",
              " 'CONCLUSIONS\\tResults further suggest that attention maintenance on food relates to eating motivation when in a neutral affective state , and might therefore be a cognitive mechanism contributing to increased food intake in general , but maybe not during sad mood .\\n',\n",
              " '\\n']"
            ]
          },
          "metadata": {},
          "execution_count": 8
        }
      ]
    },
    {
      "cell_type": "code",
      "source": [
        "len(train_lines)"
      ],
      "metadata": {
        "colab": {
          "base_uri": "https://localhost:8080/"
        },
        "id": "SY4JqTN_-RXj",
        "outputId": "35bc4994-4e0b-4fa0-9085-95c9c649dc21"
      },
      "execution_count": null,
      "outputs": [
        {
          "output_type": "execute_result",
          "data": {
            "text/plain": [
              "210040"
            ]
          },
          "metadata": {},
          "execution_count": 9
        }
      ]
    },
    {
      "cell_type": "markdown",
      "source": [
        "Let's think about how we want our data to look...\n",
        "\n",
        "How I think our data would be best reprsented as a list of dictionaries...\n",
        "\n",
        "```\n",
        "[{ 'line_number': 0\n",
        "   'target': 'BACKGROUND',\n",
        "   'text': ' Emotional eating is associated with overeating and the development of obesity .\\n'\n",
        "   'total_lines': 11},\n",
        "   ......]"
      ],
      "metadata": {
        "id": "oh853BNm-Apj"
      }
    },
    {
      "cell_type": "code",
      "source": [
        "def preprocess_text_with_line_numbers(filename):\n",
        "  \"\"\"\n",
        "  Returns a list of dictionaries of abstract line data.\n",
        "\n",
        "  Takes in filename, reads it content and sorts through each line,\n",
        "  extracting things like the target label, the text of the sentence,\n",
        "  how many sentences are in the current abstract and what sentence\n",
        "  number the target line is.\n",
        "  \"\"\"\n",
        "  input_lines = get_lines(filename) # get all line from filename\n",
        "  abstract_lines = \"\" # Create an empty abstract\n",
        "  abstract_sample = [] # Create an empty list of abstracts\n",
        "\n",
        "  # Loop through each line in the target file\n",
        "  for line in input_lines:\n",
        "    if line.startswith(\"###\"): # Check to see if their is an ID line\n",
        "      abstract_id =line\n",
        "      abstract_lines = \"\" # reset the abstract string if line is a new line\n",
        "    elif line.isspace(): # Check to see if it is a new line\n",
        "      abstract_line_split = abstract_lines.splitlines() # split abstract into separate lines(\\n)\n",
        "\n",
        "      # Iterate through each line in a single abstract and count them at the same time\n",
        "      for abstract_line_number, abstract_line in enumerate(abstract_line_split):\n",
        "        line_data = {} # Create an empty dictionary for each line\n",
        "        target_text_split = abstract_line.split(\"\\t\") # split target label from text\n",
        "        line_data[\"line_number\"] = abstract_line_number # what no line does the line appear in the abstract?\n",
        "        line_data[\"target\"] = target_text_split[0] # get target label\n",
        "        line_data[\"text\"] = target_text_split[1].lower() # get target text and lower it\n",
        "        line_data[\"total_lines\"] = len(abstract_line_split)-1 # How many total lines are there in the target abstracts\n",
        "        abstract_sample.append(line_data) # Add line data to abstract sample list\n",
        "\n",
        "    else: # If the above condition aren't fullfilled, the line contains a labelled sentence\n",
        "      abstract_lines += line\n",
        "  return abstract_sample\n",
        "\n",
        "\n",
        "\n",
        "\n"
      ],
      "metadata": {
        "id": "5JvJbzY7BPrS"
      },
      "execution_count": null,
      "outputs": []
    },
    {
      "cell_type": "code",
      "source": [
        "# @title How `isspace()` works\n",
        "\n",
        "# @markdown In Python, whitespace refers to any character that represents horizontal or vertical space, including spaces, tabs, newlines, and carriage returns. Unlike many other languages where it is mostly ignored, whitespace is syntactically significant in Python, especially for indicating code structure through indentation.\n",
        "\n",
        "text_list =[ \"\\n\", '\\t', ' ']\n",
        "\n",
        "x = [txt.isspace() for txt in text_list]\n",
        "print(x)"
      ],
      "metadata": {
        "cellView": "form",
        "colab": {
          "base_uri": "https://localhost:8080/"
        },
        "id": "T5ZM1LAnAPyz",
        "outputId": "19c35a51-9828-4e11-d73c-2dc08e33e8a9"
      },
      "execution_count": null,
      "outputs": [
        {
          "output_type": "stream",
          "name": "stdout",
          "text": [
            "[True, True, True]\n"
          ]
        }
      ]
    },
    {
      "cell_type": "code",
      "source": [
        "# @title How `splitlines()` works\n",
        "\n",
        "# @markdown The `splitlines()` method splits a string into a list. The splitting is done at line breaks.\n",
        "txt = \"Thank you for the music\\nWelcome to the jungle\"\n",
        "\n",
        "x = txt.splitlines()\n",
        "\n",
        "print(x)"
      ],
      "metadata": {
        "cellView": "form",
        "colab": {
          "base_uri": "https://localhost:8080/"
        },
        "id": "OOKrBTN-jSbn",
        "outputId": "0e016628-1256-4fc7-d2d3-53ce14d8bedc"
      },
      "execution_count": null,
      "outputs": [
        {
          "output_type": "stream",
          "name": "stdout",
          "text": [
            "['Thank you for the music', 'Welcome to the jungle']\n"
          ]
        }
      ]
    },
    {
      "cell_type": "code",
      "source": [
        "# Get data from file and preprocess it\n",
        "\n",
        "%%time\n",
        "train_samples = preprocess_text_with_line_numbers(data_dir+'/train.txt')\n",
        "val_samples = preprocess_text_with_line_numbers(data_dir+'/dev.txt')\n",
        "test_samples = preprocess_text_with_line_numbers(data_dir+'/test.txt')\n",
        "print(len(train_samples),len(val_samples),len(test_samples))\n"
      ],
      "metadata": {
        "colab": {
          "base_uri": "https://localhost:8080/"
        },
        "id": "Vny2_aVHjV-h",
        "outputId": "74142205-eae7-42f9-f965-c7a74b07a62a"
      },
      "execution_count": null,
      "outputs": [
        {
          "output_type": "stream",
          "name": "stdout",
          "text": [
            "180040 30212 30135\n",
            "CPU times: user 524 ms, sys: 111 ms, total: 636 ms\n",
            "Wall time: 754 ms\n"
          ]
        }
      ]
    },
    {
      "cell_type": "code",
      "source": [
        "# Check the first abstract of our training data\n",
        "train_samples[:10]"
      ],
      "metadata": {
        "colab": {
          "base_uri": "https://localhost:8080/"
        },
        "id": "n8qWGyoYsIMT",
        "outputId": "9f147342-463f-4a2e-8e6b-47d3be9fc842"
      },
      "execution_count": null,
      "outputs": [
        {
          "output_type": "execute_result",
          "data": {
            "text/plain": [
              "[{'line_number': 0,\n",
              "  'target': 'OBJECTIVE',\n",
              "  'text': 'to investigate the efficacy of @ weeks of daily low-dose oral prednisolone in improving pain , mobility , and systemic low-grade inflammation in the short term and whether the effect would be sustained at @ weeks in older adults with moderate to severe knee osteoarthritis ( oa ) .',\n",
              "  'total_lines': 11},\n",
              " {'line_number': 1,\n",
              "  'target': 'METHODS',\n",
              "  'text': 'a total of @ patients with primary knee oa were randomized @:@ ; @ received @ mg/day of prednisolone and @ received placebo for @ weeks .',\n",
              "  'total_lines': 11},\n",
              " {'line_number': 2,\n",
              "  'target': 'METHODS',\n",
              "  'text': 'outcome measures included pain reduction and improvement in function scores and systemic inflammation markers .',\n",
              "  'total_lines': 11},\n",
              " {'line_number': 3,\n",
              "  'target': 'METHODS',\n",
              "  'text': 'pain was assessed using the visual analog pain scale ( @-@ mm ) .',\n",
              "  'total_lines': 11},\n",
              " {'line_number': 4,\n",
              "  'target': 'METHODS',\n",
              "  'text': 'secondary outcome measures included the western ontario and mcmaster universities osteoarthritis index scores , patient global assessment ( pga ) of the severity of knee oa , and @-min walk distance ( @mwd ) .',\n",
              "  'total_lines': 11},\n",
              " {'line_number': 5,\n",
              "  'target': 'METHODS',\n",
              "  'text': 'serum levels of interleukin @ ( il-@ ) , il-@ , tumor necrosis factor ( tnf ) - , and high-sensitivity c-reactive protein ( hscrp ) were measured .',\n",
              "  'total_lines': 11},\n",
              " {'line_number': 6,\n",
              "  'target': 'RESULTS',\n",
              "  'text': 'there was a clinically relevant reduction in the intervention group compared to the placebo group for knee pain , physical function , pga , and @mwd at @ weeks .',\n",
              "  'total_lines': 11},\n",
              " {'line_number': 7,\n",
              "  'target': 'RESULTS',\n",
              "  'text': 'the mean difference between treatment arms ( @ % ci ) was @ ( @-@ @ ) , p < @ ; @ ( @-@ @ ) , p < @ ; @ ( @-@ @ ) , p < @ ; and @ ( @-@ @ ) , p < @ , respectively .',\n",
              "  'total_lines': 11},\n",
              " {'line_number': 8,\n",
              "  'target': 'RESULTS',\n",
              "  'text': 'further , there was a clinically relevant reduction in the serum levels of il-@ , il-@ , tnf - , and hscrp at @ weeks in the intervention group when compared to the placebo group .',\n",
              "  'total_lines': 11},\n",
              " {'line_number': 9,\n",
              "  'target': 'RESULTS',\n",
              "  'text': 'these differences remained significant at @ weeks .',\n",
              "  'total_lines': 11}]"
            ]
          },
          "metadata": {},
          "execution_count": 14
        }
      ]
    },
    {
      "cell_type": "markdown",
      "source": [
        "## Explolatory Data Analysis"
      ],
      "metadata": {
        "id": "waSnPG2d0cTt"
      }
    },
    {
      "cell_type": "markdown",
      "source": [
        "The `preprocess_text_with_line_numbers()` function worked great\n",
        "How about we turn our list of dictionaries into pandas Dataframe's so we visualize them better?"
      ],
      "metadata": {
        "id": "kDYtsCabzcOn"
      }
    },
    {
      "cell_type": "code",
      "source": [
        "import pandas as pd\n",
        "train_df =pd.DataFrame(train_samples)\n",
        "val_df =pd.DataFrame(val_samples)\n",
        "test_df =pd.DataFrame(test_samples)\n",
        "train_df.head(14)"
      ],
      "metadata": {
        "colab": {
          "base_uri": "https://localhost:8080/",
          "height": 488
        },
        "id": "F5vEH86hz17A",
        "outputId": "2805ba3c-b982-4d53-ef07-2ca84a2f02fb"
      },
      "execution_count": null,
      "outputs": [
        {
          "output_type": "execute_result",
          "data": {
            "text/plain": [
              "    line_number       target  \\\n",
              "0             0    OBJECTIVE   \n",
              "1             1      METHODS   \n",
              "2             2      METHODS   \n",
              "3             3      METHODS   \n",
              "4             4      METHODS   \n",
              "5             5      METHODS   \n",
              "6             6      RESULTS   \n",
              "7             7      RESULTS   \n",
              "8             8      RESULTS   \n",
              "9             9      RESULTS   \n",
              "10           10      RESULTS   \n",
              "11           11  CONCLUSIONS   \n",
              "12            0   BACKGROUND   \n",
              "13            1   BACKGROUND   \n",
              "\n",
              "                                                 text  total_lines  \n",
              "0   to investigate the efficacy of @ weeks of dail...           11  \n",
              "1   a total of @ patients with primary knee oa wer...           11  \n",
              "2   outcome measures included pain reduction and i...           11  \n",
              "3   pain was assessed using the visual analog pain...           11  \n",
              "4   secondary outcome measures included the wester...           11  \n",
              "5   serum levels of interleukin @ ( il-@ ) , il-@ ...           11  \n",
              "6   there was a clinically relevant reduction in t...           11  \n",
              "7   the mean difference between treatment arms ( @...           11  \n",
              "8   further , there was a clinically relevant redu...           11  \n",
              "9   these differences remained significant at @ we...           11  \n",
              "10  the outcome measures in rheumatology clinical ...           11  \n",
              "11  low-dose oral prednisolone had both a short-te...           11  \n",
              "12  emotional eating is associated with overeating...           10  \n",
              "13  yet , empirical evidence for individual ( trai...           10  "
            ],
            "text/html": [
              "\n",
              "  <div id=\"df-84506cc8-8c38-42ec-b6a1-22e53e380fee\" class=\"colab-df-container\">\n",
              "    <div>\n",
              "<style scoped>\n",
              "    .dataframe tbody tr th:only-of-type {\n",
              "        vertical-align: middle;\n",
              "    }\n",
              "\n",
              "    .dataframe tbody tr th {\n",
              "        vertical-align: top;\n",
              "    }\n",
              "\n",
              "    .dataframe thead th {\n",
              "        text-align: right;\n",
              "    }\n",
              "</style>\n",
              "<table border=\"1\" class=\"dataframe\">\n",
              "  <thead>\n",
              "    <tr style=\"text-align: right;\">\n",
              "      <th></th>\n",
              "      <th>line_number</th>\n",
              "      <th>target</th>\n",
              "      <th>text</th>\n",
              "      <th>total_lines</th>\n",
              "    </tr>\n",
              "  </thead>\n",
              "  <tbody>\n",
              "    <tr>\n",
              "      <th>0</th>\n",
              "      <td>0</td>\n",
              "      <td>OBJECTIVE</td>\n",
              "      <td>to investigate the efficacy of @ weeks of dail...</td>\n",
              "      <td>11</td>\n",
              "    </tr>\n",
              "    <tr>\n",
              "      <th>1</th>\n",
              "      <td>1</td>\n",
              "      <td>METHODS</td>\n",
              "      <td>a total of @ patients with primary knee oa wer...</td>\n",
              "      <td>11</td>\n",
              "    </tr>\n",
              "    <tr>\n",
              "      <th>2</th>\n",
              "      <td>2</td>\n",
              "      <td>METHODS</td>\n",
              "      <td>outcome measures included pain reduction and i...</td>\n",
              "      <td>11</td>\n",
              "    </tr>\n",
              "    <tr>\n",
              "      <th>3</th>\n",
              "      <td>3</td>\n",
              "      <td>METHODS</td>\n",
              "      <td>pain was assessed using the visual analog pain...</td>\n",
              "      <td>11</td>\n",
              "    </tr>\n",
              "    <tr>\n",
              "      <th>4</th>\n",
              "      <td>4</td>\n",
              "      <td>METHODS</td>\n",
              "      <td>secondary outcome measures included the wester...</td>\n",
              "      <td>11</td>\n",
              "    </tr>\n",
              "    <tr>\n",
              "      <th>5</th>\n",
              "      <td>5</td>\n",
              "      <td>METHODS</td>\n",
              "      <td>serum levels of interleukin @ ( il-@ ) , il-@ ...</td>\n",
              "      <td>11</td>\n",
              "    </tr>\n",
              "    <tr>\n",
              "      <th>6</th>\n",
              "      <td>6</td>\n",
              "      <td>RESULTS</td>\n",
              "      <td>there was a clinically relevant reduction in t...</td>\n",
              "      <td>11</td>\n",
              "    </tr>\n",
              "    <tr>\n",
              "      <th>7</th>\n",
              "      <td>7</td>\n",
              "      <td>RESULTS</td>\n",
              "      <td>the mean difference between treatment arms ( @...</td>\n",
              "      <td>11</td>\n",
              "    </tr>\n",
              "    <tr>\n",
              "      <th>8</th>\n",
              "      <td>8</td>\n",
              "      <td>RESULTS</td>\n",
              "      <td>further , there was a clinically relevant redu...</td>\n",
              "      <td>11</td>\n",
              "    </tr>\n",
              "    <tr>\n",
              "      <th>9</th>\n",
              "      <td>9</td>\n",
              "      <td>RESULTS</td>\n",
              "      <td>these differences remained significant at @ we...</td>\n",
              "      <td>11</td>\n",
              "    </tr>\n",
              "    <tr>\n",
              "      <th>10</th>\n",
              "      <td>10</td>\n",
              "      <td>RESULTS</td>\n",
              "      <td>the outcome measures in rheumatology clinical ...</td>\n",
              "      <td>11</td>\n",
              "    </tr>\n",
              "    <tr>\n",
              "      <th>11</th>\n",
              "      <td>11</td>\n",
              "      <td>CONCLUSIONS</td>\n",
              "      <td>low-dose oral prednisolone had both a short-te...</td>\n",
              "      <td>11</td>\n",
              "    </tr>\n",
              "    <tr>\n",
              "      <th>12</th>\n",
              "      <td>0</td>\n",
              "      <td>BACKGROUND</td>\n",
              "      <td>emotional eating is associated with overeating...</td>\n",
              "      <td>10</td>\n",
              "    </tr>\n",
              "    <tr>\n",
              "      <th>13</th>\n",
              "      <td>1</td>\n",
              "      <td>BACKGROUND</td>\n",
              "      <td>yet , empirical evidence for individual ( trai...</td>\n",
              "      <td>10</td>\n",
              "    </tr>\n",
              "  </tbody>\n",
              "</table>\n",
              "</div>\n",
              "    <div class=\"colab-df-buttons\">\n",
              "\n",
              "  <div class=\"colab-df-container\">\n",
              "    <button class=\"colab-df-convert\" onclick=\"convertToInteractive('df-84506cc8-8c38-42ec-b6a1-22e53e380fee')\"\n",
              "            title=\"Convert this dataframe to an interactive table.\"\n",
              "            style=\"display:none;\">\n",
              "\n",
              "  <svg xmlns=\"http://www.w3.org/2000/svg\" height=\"24px\" viewBox=\"0 -960 960 960\">\n",
              "    <path d=\"M120-120v-720h720v720H120Zm60-500h600v-160H180v160Zm220 220h160v-160H400v160Zm0 220h160v-160H400v160ZM180-400h160v-160H180v160Zm440 0h160v-160H620v160ZM180-180h160v-160H180v160Zm440 0h160v-160H620v160Z\"/>\n",
              "  </svg>\n",
              "    </button>\n",
              "\n",
              "  <style>\n",
              "    .colab-df-container {\n",
              "      display:flex;\n",
              "      gap: 12px;\n",
              "    }\n",
              "\n",
              "    .colab-df-convert {\n",
              "      background-color: #E8F0FE;\n",
              "      border: none;\n",
              "      border-radius: 50%;\n",
              "      cursor: pointer;\n",
              "      display: none;\n",
              "      fill: #1967D2;\n",
              "      height: 32px;\n",
              "      padding: 0 0 0 0;\n",
              "      width: 32px;\n",
              "    }\n",
              "\n",
              "    .colab-df-convert:hover {\n",
              "      background-color: #E2EBFA;\n",
              "      box-shadow: 0px 1px 2px rgba(60, 64, 67, 0.3), 0px 1px 3px 1px rgba(60, 64, 67, 0.15);\n",
              "      fill: #174EA6;\n",
              "    }\n",
              "\n",
              "    .colab-df-buttons div {\n",
              "      margin-bottom: 4px;\n",
              "    }\n",
              "\n",
              "    [theme=dark] .colab-df-convert {\n",
              "      background-color: #3B4455;\n",
              "      fill: #D2E3FC;\n",
              "    }\n",
              "\n",
              "    [theme=dark] .colab-df-convert:hover {\n",
              "      background-color: #434B5C;\n",
              "      box-shadow: 0px 1px 3px 1px rgba(0, 0, 0, 0.15);\n",
              "      filter: drop-shadow(0px 1px 2px rgba(0, 0, 0, 0.3));\n",
              "      fill: #FFFFFF;\n",
              "    }\n",
              "  </style>\n",
              "\n",
              "    <script>\n",
              "      const buttonEl =\n",
              "        document.querySelector('#df-84506cc8-8c38-42ec-b6a1-22e53e380fee button.colab-df-convert');\n",
              "      buttonEl.style.display =\n",
              "        google.colab.kernel.accessAllowed ? 'block' : 'none';\n",
              "\n",
              "      async function convertToInteractive(key) {\n",
              "        const element = document.querySelector('#df-84506cc8-8c38-42ec-b6a1-22e53e380fee');\n",
              "        const dataTable =\n",
              "          await google.colab.kernel.invokeFunction('convertToInteractive',\n",
              "                                                    [key], {});\n",
              "        if (!dataTable) return;\n",
              "\n",
              "        const docLinkHtml = 'Like what you see? Visit the ' +\n",
              "          '<a target=\"_blank\" href=https://colab.research.google.com/notebooks/data_table.ipynb>data table notebook</a>'\n",
              "          + ' to learn more about interactive tables.';\n",
              "        element.innerHTML = '';\n",
              "        dataTable['output_type'] = 'display_data';\n",
              "        await google.colab.output.renderOutput(dataTable, element);\n",
              "        const docLink = document.createElement('div');\n",
              "        docLink.innerHTML = docLinkHtml;\n",
              "        element.appendChild(docLink);\n",
              "      }\n",
              "    </script>\n",
              "  </div>\n",
              "\n",
              "\n",
              "    <div id=\"df-e0e6c954-5252-45f0-9dbe-47b6c79e4cc5\">\n",
              "      <button class=\"colab-df-quickchart\" onclick=\"quickchart('df-e0e6c954-5252-45f0-9dbe-47b6c79e4cc5')\"\n",
              "                title=\"Suggest charts\"\n",
              "                style=\"display:none;\">\n",
              "\n",
              "<svg xmlns=\"http://www.w3.org/2000/svg\" height=\"24px\"viewBox=\"0 0 24 24\"\n",
              "     width=\"24px\">\n",
              "    <g>\n",
              "        <path d=\"M19 3H5c-1.1 0-2 .9-2 2v14c0 1.1.9 2 2 2h14c1.1 0 2-.9 2-2V5c0-1.1-.9-2-2-2zM9 17H7v-7h2v7zm4 0h-2V7h2v10zm4 0h-2v-4h2v4z\"/>\n",
              "    </g>\n",
              "</svg>\n",
              "      </button>\n",
              "\n",
              "<style>\n",
              "  .colab-df-quickchart {\n",
              "      --bg-color: #E8F0FE;\n",
              "      --fill-color: #1967D2;\n",
              "      --hover-bg-color: #E2EBFA;\n",
              "      --hover-fill-color: #174EA6;\n",
              "      --disabled-fill-color: #AAA;\n",
              "      --disabled-bg-color: #DDD;\n",
              "  }\n",
              "\n",
              "  [theme=dark] .colab-df-quickchart {\n",
              "      --bg-color: #3B4455;\n",
              "      --fill-color: #D2E3FC;\n",
              "      --hover-bg-color: #434B5C;\n",
              "      --hover-fill-color: #FFFFFF;\n",
              "      --disabled-bg-color: #3B4455;\n",
              "      --disabled-fill-color: #666;\n",
              "  }\n",
              "\n",
              "  .colab-df-quickchart {\n",
              "    background-color: var(--bg-color);\n",
              "    border: none;\n",
              "    border-radius: 50%;\n",
              "    cursor: pointer;\n",
              "    display: none;\n",
              "    fill: var(--fill-color);\n",
              "    height: 32px;\n",
              "    padding: 0;\n",
              "    width: 32px;\n",
              "  }\n",
              "\n",
              "  .colab-df-quickchart:hover {\n",
              "    background-color: var(--hover-bg-color);\n",
              "    box-shadow: 0 1px 2px rgba(60, 64, 67, 0.3), 0 1px 3px 1px rgba(60, 64, 67, 0.15);\n",
              "    fill: var(--button-hover-fill-color);\n",
              "  }\n",
              "\n",
              "  .colab-df-quickchart-complete:disabled,\n",
              "  .colab-df-quickchart-complete:disabled:hover {\n",
              "    background-color: var(--disabled-bg-color);\n",
              "    fill: var(--disabled-fill-color);\n",
              "    box-shadow: none;\n",
              "  }\n",
              "\n",
              "  .colab-df-spinner {\n",
              "    border: 2px solid var(--fill-color);\n",
              "    border-color: transparent;\n",
              "    border-bottom-color: var(--fill-color);\n",
              "    animation:\n",
              "      spin 1s steps(1) infinite;\n",
              "  }\n",
              "\n",
              "  @keyframes spin {\n",
              "    0% {\n",
              "      border-color: transparent;\n",
              "      border-bottom-color: var(--fill-color);\n",
              "      border-left-color: var(--fill-color);\n",
              "    }\n",
              "    20% {\n",
              "      border-color: transparent;\n",
              "      border-left-color: var(--fill-color);\n",
              "      border-top-color: var(--fill-color);\n",
              "    }\n",
              "    30% {\n",
              "      border-color: transparent;\n",
              "      border-left-color: var(--fill-color);\n",
              "      border-top-color: var(--fill-color);\n",
              "      border-right-color: var(--fill-color);\n",
              "    }\n",
              "    40% {\n",
              "      border-color: transparent;\n",
              "      border-right-color: var(--fill-color);\n",
              "      border-top-color: var(--fill-color);\n",
              "    }\n",
              "    60% {\n",
              "      border-color: transparent;\n",
              "      border-right-color: var(--fill-color);\n",
              "    }\n",
              "    80% {\n",
              "      border-color: transparent;\n",
              "      border-right-color: var(--fill-color);\n",
              "      border-bottom-color: var(--fill-color);\n",
              "    }\n",
              "    90% {\n",
              "      border-color: transparent;\n",
              "      border-bottom-color: var(--fill-color);\n",
              "    }\n",
              "  }\n",
              "</style>\n",
              "\n",
              "      <script>\n",
              "        async function quickchart(key) {\n",
              "          const quickchartButtonEl =\n",
              "            document.querySelector('#' + key + ' button');\n",
              "          quickchartButtonEl.disabled = true;  // To prevent multiple clicks.\n",
              "          quickchartButtonEl.classList.add('colab-df-spinner');\n",
              "          try {\n",
              "            const charts = await google.colab.kernel.invokeFunction(\n",
              "                'suggestCharts', [key], {});\n",
              "          } catch (error) {\n",
              "            console.error('Error during call to suggestCharts:', error);\n",
              "          }\n",
              "          quickchartButtonEl.classList.remove('colab-df-spinner');\n",
              "          quickchartButtonEl.classList.add('colab-df-quickchart-complete');\n",
              "        }\n",
              "        (() => {\n",
              "          let quickchartButtonEl =\n",
              "            document.querySelector('#df-e0e6c954-5252-45f0-9dbe-47b6c79e4cc5 button');\n",
              "          quickchartButtonEl.style.display =\n",
              "            google.colab.kernel.accessAllowed ? 'block' : 'none';\n",
              "        })();\n",
              "      </script>\n",
              "    </div>\n",
              "\n",
              "    </div>\n",
              "  </div>\n"
            ],
            "application/vnd.google.colaboratory.intrinsic+json": {
              "type": "dataframe",
              "variable_name": "train_df"
            }
          },
          "metadata": {},
          "execution_count": 15
        }
      ]
    },
    {
      "cell_type": "code",
      "source": [
        "# Distribution of labels in training data\n",
        "train_df.target.value_counts()"
      ],
      "metadata": {
        "colab": {
          "base_uri": "https://localhost:8080/",
          "height": 272
        },
        "id": "qYHKeIxN0aW-",
        "outputId": "7df68b2a-a550-491f-e9ed-e06afbb3d7db"
      },
      "execution_count": null,
      "outputs": [
        {
          "output_type": "execute_result",
          "data": {
            "text/plain": [
              "target\n",
              "METHODS        59353\n",
              "RESULTS        57953\n",
              "CONCLUSIONS    27168\n",
              "BACKGROUND     21727\n",
              "OBJECTIVE      13839\n",
              "Name: count, dtype: int64"
            ],
            "text/html": [
              "<div>\n",
              "<style scoped>\n",
              "    .dataframe tbody tr th:only-of-type {\n",
              "        vertical-align: middle;\n",
              "    }\n",
              "\n",
              "    .dataframe tbody tr th {\n",
              "        vertical-align: top;\n",
              "    }\n",
              "\n",
              "    .dataframe thead th {\n",
              "        text-align: right;\n",
              "    }\n",
              "</style>\n",
              "<table border=\"1\" class=\"dataframe\">\n",
              "  <thead>\n",
              "    <tr style=\"text-align: right;\">\n",
              "      <th></th>\n",
              "      <th>count</th>\n",
              "    </tr>\n",
              "    <tr>\n",
              "      <th>target</th>\n",
              "      <th></th>\n",
              "    </tr>\n",
              "  </thead>\n",
              "  <tbody>\n",
              "    <tr>\n",
              "      <th>METHODS</th>\n",
              "      <td>59353</td>\n",
              "    </tr>\n",
              "    <tr>\n",
              "      <th>RESULTS</th>\n",
              "      <td>57953</td>\n",
              "    </tr>\n",
              "    <tr>\n",
              "      <th>CONCLUSIONS</th>\n",
              "      <td>27168</td>\n",
              "    </tr>\n",
              "    <tr>\n",
              "      <th>BACKGROUND</th>\n",
              "      <td>21727</td>\n",
              "    </tr>\n",
              "    <tr>\n",
              "      <th>OBJECTIVE</th>\n",
              "      <td>13839</td>\n",
              "    </tr>\n",
              "  </tbody>\n",
              "</table>\n",
              "</div><br><label><b>dtype:</b> int64</label>"
            ]
          },
          "metadata": {},
          "execution_count": 16
        }
      ]
    },
    {
      "cell_type": "markdown",
      "source": [
        "looks like sentences with the `OBJECTIVE` label are the least common.\n",
        "\n"
      ],
      "metadata": {
        "id": "lV9vaZTB1CCI"
      }
    },
    {
      "cell_type": "code",
      "source": [
        "# How about we check the distribution of our abstract lengths?\n",
        "train_df.total_lines.plot.hist();"
      ],
      "metadata": {
        "colab": {
          "base_uri": "https://localhost:8080/",
          "height": 431
        },
        "id": "v-Xv3vYF1Su3",
        "outputId": "b389baeb-568e-48a7-da22-d4d74ab2e564"
      },
      "execution_count": null,
      "outputs": [
        {
          "output_type": "display_data",
          "data": {
            "text/plain": [
              "<Figure size 640x480 with 1 Axes>"
            ],
            "image/png": "[encoded data removed]"
          },
          "metadata": {}
        }
      ]
    },
    {
      "cell_type": "markdown",
      "source": [
        "Most of the abstracts are around 7 to 15 sentences in length.\n"
      ],
      "metadata": {
        "id": "Za_60ItF15cU"
      }
    },
    {
      "cell_type": "markdown",
      "source": [
        "### Get list of sentences\n",
        "\n",
        "When we build our deep learning model, one of its main inputs will be a list of strings (the lines of an abstract).\n",
        "\n",
        "We can get these easily from our DataFrames by calling the `tolist()` method on our  `\"text\"`"
      ],
      "metadata": {
        "id": "zy1Ja27b2HgX"
      }
    },
    {
      "cell_type": "code",
      "source": [
        "train_sentences =train_df[\"text\"].tolist()\n",
        "val_sentences =val_df[\"text\"].tolist()\n",
        "test_sentences =test_df[\"text\"].tolist()\n",
        "len(train_sentences), len(val_sentences), len(test_sentences)"
      ],
      "metadata": {
        "colab": {
          "base_uri": "https://localhost:8080/"
        },
        "id": "4PNkTrSM3OGC",
        "outputId": "e16ec5f9-1636-40b3-f75c-f894d20afd3c"
      },
      "execution_count": null,
      "outputs": [
        {
          "output_type": "execute_result",
          "data": {
            "text/plain": [
              "(180040, 30212, 30135)"
            ]
          },
          "metadata": {},
          "execution_count": 18
        }
      ]
    },
    {
      "cell_type": "code",
      "source": [
        "# View first 10 lines of training sentences\n",
        "train_sentences[:10]"
      ],
      "metadata": {
        "colab": {
          "base_uri": "https://localhost:8080/"
        },
        "id": "kUWEee9n3sJl",
        "outputId": "f1b12286-4e34-444c-9bd1-0f419a975a24"
      },
      "execution_count": null,
      "outputs": [
        {
          "output_type": "execute_result",
          "data": {
            "text/plain": [
              "['to investigate the efficacy of @ weeks of daily low-dose oral prednisolone in improving pain , mobility , and systemic low-grade inflammation in the short term and whether the effect would be sustained at @ weeks in older adults with moderate to severe knee osteoarthritis ( oa ) .',\n",
              " 'a total of @ patients with primary knee oa were randomized @:@ ; @ received @ mg/day of prednisolone and @ received placebo for @ weeks .',\n",
              " 'outcome measures included pain reduction and improvement in function scores and systemic inflammation markers .',\n",
              " 'pain was assessed using the visual analog pain scale ( @-@ mm ) .',\n",
              " 'secondary outcome measures included the western ontario and mcmaster universities osteoarthritis index scores , patient global assessment ( pga ) of the severity of knee oa , and @-min walk distance ( @mwd ) .',\n",
              " 'serum levels of interleukin @ ( il-@ ) , il-@ , tumor necrosis factor ( tnf ) - , and high-sensitivity c-reactive protein ( hscrp ) were measured .',\n",
              " 'there was a clinically relevant reduction in the intervention group compared to the placebo group for knee pain , physical function , pga , and @mwd at @ weeks .',\n",
              " 'the mean difference between treatment arms ( @ % ci ) was @ ( @-@ @ ) , p < @ ; @ ( @-@ @ ) , p < @ ; @ ( @-@ @ ) , p < @ ; and @ ( @-@ @ ) , p < @ , respectively .',\n",
              " 'further , there was a clinically relevant reduction in the serum levels of il-@ , il-@ , tnf - , and hscrp at @ weeks in the intervention group when compared to the placebo group .',\n",
              " 'these differences remained significant at @ weeks .']"
            ]
          },
          "metadata": {},
          "execution_count": 19
        }
      ]
    },
    {
      "cell_type": "markdown",
      "source": [
        "### Make numeric labels (ML models require numeric labels)"
      ],
      "metadata": {
        "id": "4PeSDBNnw_-M"
      }
    },
    {
      "cell_type": "code",
      "source": [
        "import tensorflow as tf\n"
      ],
      "metadata": {
        "id": "MBLaw6jA5YOJ"
      },
      "execution_count": null,
      "outputs": []
    },
    {
      "cell_type": "code",
      "source": [
        "# One hot encode labels\n",
        "from sklearn.preprocessing import OneHotEncoder\n",
        "one_hot_encoder = OneHotEncoder(sparse_output=False)\n",
        "train_labels_one_hot = one_hot_encoder.fit_transform(train_df[\"target\"].to_numpy().reshape(-1,1))\n",
        "val_labels_one_hot = one_hot_encoder.transform(val_df['target'].to_numpy().reshape(-1,1))\n",
        "test_labels_one_hot = one_hot_encoder.transform(test_df['target'].to_numpy().reshape(-1,1))\n",
        "# Check how the one hot encoded labels look like\n",
        "train_labels_one_hot"
      ],
      "metadata": {
        "colab": {
          "base_uri": "https://localhost:8080/"
        },
        "id": "IDZdR3cU4lhu",
        "outputId": "4fd85630-38f1-4c4c-8a08-7c54981d0155"
      },
      "execution_count": null,
      "outputs": [
        {
          "output_type": "execute_result",
          "data": {
            "text/plain": [
              "array([[0., 0., 0., 1., 0.],\n",
              "       [0., 0., 1., 0., 0.],\n",
              "       [0., 0., 1., 0., 0.],\n",
              "       ...,\n",
              "       [0., 0., 0., 0., 1.],\n",
              "       [0., 1., 0., 0., 0.],\n",
              "       [0., 1., 0., 0., 0.]])"
            ]
          },
          "metadata": {},
          "execution_count": 21
        }
      ]
    },
    {
      "cell_type": "markdown",
      "source": [
        "### Label encode labels"
      ],
      "metadata": {
        "id": "M0YZmT2j6yha"
      }
    },
    {
      "cell_type": "code",
      "source": [
        "# Extract labels (\"target\" columns) and encode them into integers\n",
        "from sklearn.preprocessing import LabelEncoder\n",
        "\n",
        "label_encoder = LabelEncoder()\n",
        "train_labels_encoded =label_encoder.fit_transform(train_df['target'].to_numpy())\n",
        "val_labels_encoded =label_encoder.transform(val_df['target'].to_numpy())\n",
        "test_labels_encoded =label_encoder.transform(test_df['target'].to_numpy())\n",
        "\n",
        "# Check what training labels look like\n",
        "train_labels_encoded\n"
      ],
      "metadata": {
        "colab": {
          "base_uri": "https://localhost:8080/"
        },
        "id": "-_yxm4ac64Kb",
        "outputId": "5c0bc192-5c51-4c9b-d4a4-93cb58b3ae0a"
      },
      "execution_count": null,
      "outputs": [
        {
          "output_type": "execute_result",
          "data": {
            "text/plain": [
              "array([3, 2, 2, ..., 4, 1, 1])"
            ]
          },
          "metadata": {},
          "execution_count": 22
        }
      ]
    },
    {
      "cell_type": "code",
      "source": [
        "# Get class names and number of classes from labelEncoder instance\n",
        "num_classes = len(label_encoder.classes_)\n",
        "class_names = label_encoder.classes_\n",
        "class_names,num_classes"
      ],
      "metadata": {
        "colab": {
          "base_uri": "https://localhost:8080/"
        },
        "id": "-bOppyKr7zid",
        "outputId": "c872d52a-2e97-4983-a298-cf4985dfa1e3"
      },
      "execution_count": null,
      "outputs": [
        {
          "output_type": "execute_result",
          "data": {
            "text/plain": [
              "(array(['BACKGROUND', 'CONCLUSIONS', 'METHODS', 'OBJECTIVE', 'RESULTS'],\n",
              "       dtype=object),\n",
              " 5)"
            ]
          },
          "metadata": {},
          "execution_count": 23
        }
      ]
    },
    {
      "cell_type": "markdown",
      "source": [
        "## Model 0: Getting a baseline model\n",
        "\n",
        "We will be using a bayesian model to try and classify the abstracts"
      ],
      "metadata": {
        "id": "MSqqv4LaGI7g"
      }
    },
    {
      "cell_type": "code",
      "source": [
        "from sklearn.feature_extraction.text import TfidfVectorizer\n",
        "from sklearn.naive_bayes import MultinomialNB\n",
        "from sklearn.pipeline import Pipeline\n",
        "\n",
        "# Create tokenization and modelling pipeline\n",
        "model_0 = Pipeline([\n",
        "    ('tfidf',TfidfVectorizer()), # Convert words to numbers using tfidf\n",
        "    ('clf',MultinomialNB()) # Model the text\n",
        "])\n",
        "\n",
        "model_0.fit(train_sentences,train_labels_encoded)"
      ],
      "metadata": {
        "id": "3xzKqzhTGa-4"
      },
      "execution_count": null,
      "outputs": []
    },
    {
      "cell_type": "code",
      "source": [
        "# Evaluate our baseline model\n",
        "baseline_score =model_0.score(val_sentences,val_labels_encoded)\n",
        "print(f\"Our baseline model achieves an accuracy of: {baseline_score*100:.2f}%\")"
      ],
      "metadata": {
        "colab": {
          "base_uri": "https://localhost:8080/"
        },
        "id": "-0G8rjwCKWf3",
        "outputId": "e64b01cb-58b1-4d52-d855-9688f9de6fc5"
      },
      "execution_count": null,
      "outputs": [
        {
          "output_type": "stream",
          "name": "stdout",
          "text": [
            "Our baseline model achieves an accuracy of: 72.18%\n"
          ]
        }
      ]
    },
    {
      "cell_type": "markdown",
      "source": [
        "Our base_line model has an accuracy of 72.1% accuracy this will be the number to beat with our deeper models."
      ],
      "metadata": {
        "id": "lUwlVcrBNAU0"
      }
    },
    {
      "cell_type": "code",
      "source": [
        "# Make predictions\n",
        "baseline_preds = model_0.predict(val_sentences)\n",
        "baseline_preds"
      ],
      "metadata": {
        "colab": {
          "base_uri": "https://localhost:8080/"
        },
        "id": "Hz4X1SCoM-zs",
        "outputId": "9051f402-3032-4fff-89b4-433da28a56d5"
      },
      "execution_count": null,
      "outputs": [
        {
          "output_type": "execute_result",
          "data": {
            "text/plain": [
              "array([4, 1, 3, ..., 4, 4, 1])"
            ]
          },
          "metadata": {},
          "execution_count": 26
        }
      ]
    },
    {
      "cell_type": "code",
      "source": [
        "# We will implement the use of sklearn\n",
        "from sklearn.metrics import accuracy_score,precision_recall_fscore_support\n",
        "\n",
        "def score_function(y_true,y_pred):\n",
        "  \"\"\"\n",
        "  Calculates model accuracy, precision, recall and f1 score of a binary classification model.\n",
        "  \"\"\"\n",
        "  # Calculate model precision recall and f1-score\n",
        "  pre,rec,f1,_= list(precision_recall_fscore_support(y_true=y_true,y_pred= y_pred,average='weighted'))\n",
        "  # Calculate model accuracy\n",
        "  acc= accuracy_score(y_true=y_true,y_pred= y_pred)\n",
        "\n",
        "  data= {'Accuracy_score': acc , 'F1-Score': f1,'Recall_Score':rec, 'Precision_Score': pre }\n",
        "  return(data)"
      ],
      "metadata": {
        "id": "tvRRhy_RPUGY"
      },
      "execution_count": null,
      "outputs": []
    },
    {
      "cell_type": "code",
      "source": [
        "bayesian_model_score = score_function(y_pred=baseline_preds,y_true=val_labels_encoded)\n",
        "bayesian_model_score"
      ],
      "metadata": {
        "id": "bduVKUddPVo0",
        "outputId": "57fc0196-fc28-43bb-ea39-b1a84d56e365",
        "colab": {
          "base_uri": "https://localhost:8080/"
        }
      },
      "execution_count": null,
      "outputs": [
        {
          "output_type": "execute_result",
          "data": {
            "text/plain": [
              "{'Accuracy_score': 0.7218323844829869,\n",
              " 'F1-Score': 0.6989250353450294,\n",
              " 'Recall_Score': 0.7218323844829869,\n",
              " 'Precision_Score': 0.7186466952323352}"
            ]
          },
          "metadata": {},
          "execution_count": 28
        }
      ]
    },
    {
      "cell_type": "markdown",
      "source": [
        "## Prepairing our data (the text) for deep sequence models\n",
        "\n",
        "Before we start building deeper models, we've got to create vectorization and embedding layers."
      ],
      "metadata": {
        "id": "YaVWAS-7UPo2"
      }
    },
    {
      "cell_type": "code",
      "source": [
        "import numpy as np\n",
        "from tensorflow.keras import layers\n",
        "from tensorflow.keras.layers import TextVectorization\n"
      ],
      "metadata": {
        "id": "1PVQymidVKAz"
      },
      "execution_count": null,
      "outputs": []
    },
    {
      "cell_type": "code",
      "source": [
        "# How long is each sentences on average\n",
        "sent_lens =[len(sentence.split()) for sentence in train_sentences]\n",
        "avg_sent_len =np.mean(sent_lens)\n",
        "avg_sent_len"
      ],
      "metadata": {
        "id": "h0qWZK4EVVF3",
        "outputId": "560cee8b-4b37-49e5-bd90-3d8447e67d7c",
        "colab": {
          "base_uri": "https://localhost:8080/"
        }
      },
      "execution_count": null,
      "outputs": [
        {
          "output_type": "execute_result",
          "data": {
            "text/plain": [
              "np.float64(26.338269273494777)"
            ]
          },
          "metadata": {},
          "execution_count": 30
        }
      ]
    },
    {
      "cell_type": "code",
      "source": [
        "# What's the distribution look like for the length of sentences\n",
        "import matplotlib.pyplot as plt\n",
        "plt.hist(sent_lens,bins=20);"
      ],
      "metadata": {
        "id": "n50d2QhIWLyd",
        "outputId": "24447f87-5105-4c16-d98d-a6a8878db8b4",
        "colab": {
          "base_uri": "https://localhost:8080/",
          "height": 430
        }
      },
      "execution_count": null,
      "outputs": [
        {
          "output_type": "display_data",
          "data": {
            "text/plain": [
              "<Figure size 640x480 with 1 Axes>"
            ],
            "image/png": "[encoded data removed]"
          },
          "metadata": {}
        }
      ]
    },
    {
      "cell_type": "code",
      "source": [
        "# How long of a sentence length covers 95% of the data example\n",
        "\n",
        "output_seq_len = int(np.percentile(sent_lens,95))\n",
        "output_seq_len"
      ],
      "metadata": {
        "id": "gtibQKLRWphk",
        "outputId": "13fe2ba8-65cf-41fa-a027-caee8df4ed7c",
        "colab": {
          "base_uri": "https://localhost:8080/"
        }
      },
      "execution_count": null,
      "outputs": [
        {
          "output_type": "execute_result",
          "data": {
            "text/plain": [
              "55"
            ]
          },
          "metadata": {},
          "execution_count": 32
        }
      ]
    },
    {
      "cell_type": "code",
      "source": [
        "# Maximum sequence length in training set\n",
        "max(sent_lens)\n"
      ],
      "metadata": {
        "id": "UDW6E_m_XH1B",
        "outputId": "26422d48-1e81-4e9b-cfb4-8c3b885b28db",
        "colab": {
          "base_uri": "https://localhost:8080/"
        }
      },
      "execution_count": null,
      "outputs": [
        {
          "output_type": "execute_result",
          "data": {
            "text/plain": [
              "296"
            ]
          },
          "metadata": {},
          "execution_count": 33
        }
      ]
    },
    {
      "cell_type": "markdown",
      "source": [
        "### Create text Vectorizarion layer"
      ],
      "metadata": {
        "id": "J2P7_p-MZV2t"
      }
    },
    {
      "cell_type": "markdown",
      "source": [
        "![image.png](data:image/png;base64,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)"
      ],
      "metadata": {
        "id": "h6hmpOPMavFz"
      }
    },
    {
      "cell_type": "code",
      "source": [
        "max_vocab_length = 68000 # Based on the paper\n",
        "max_length = 55 # Covers 95% of the sentences length\n",
        "text_vectorizer = TextVectorization(max_tokens=max_vocab_length,\n",
        "                                    output_mode = 'int',\n",
        "                                    output_sequence_length =max_length\n",
        "                                    )"
      ],
      "metadata": {
        "id": "-4qnDfu2XONB"
      },
      "execution_count": null,
      "outputs": []
    },
    {
      "cell_type": "code",
      "source": [
        "# Adapt the textVectorizer to training sentences\n",
        "text_vectorizer.adapt(train_sentences)"
      ],
      "metadata": {
        "id": "7WhhWLy7YpMx"
      },
      "execution_count": null,
      "outputs": []
    },
    {
      "cell_type": "code",
      "source": [
        "# How many words are in our training vocabulary\n",
        "rct_20k_text_vocab = text_vectorizer.get_vocabulary()\n",
        "len(rct_20k_text_vocab)"
      ],
      "metadata": {
        "id": "SCyO0nP6jU2c",
        "outputId": "7d813129-2ccf-42f7-c8a2-309b16ce76fe",
        "colab": {
          "base_uri": "https://localhost:8080/"
        }
      },
      "execution_count": null,
      "outputs": [
        {
          "output_type": "execute_result",
          "data": {
            "text/plain": [
              "64841"
            ]
          },
          "metadata": {},
          "execution_count": 36
        }
      ]
    },
    {
      "cell_type": "code",
      "source": [
        "# Test our text vectorizer on random sentences\n",
        "import random\n",
        "target_sentence =random.choice(train_sentences)\n",
        "print(f\"Text:\\n{target_sentence}\")\n",
        "print(f\"\\nLength of text:{len(target_sentence.split())}\")\n",
        "print(f\"\\nVectorized text:{text_vectorizer(target_sentence)}\")\n"
      ],
      "metadata": {
        "id": "aQtmQcFxbNuM",
        "outputId": "9e20369d-2b2d-4abe-a164-0cbe7f4f51d5",
        "colab": {
          "base_uri": "https://localhost:8080/"
        }
      },
      "execution_count": null,
      "outputs": [
        {
          "output_type": "stream",
          "name": "stdout",
          "text": [
            "Text:\n",
            "the beneficial effects of fish and n-@ polyunsaturated fatty acids ( pufas ) consumption on atherosclerosis have been reported in numerous epidemiological studies .\n",
            "\n",
            "Length of text:24\n",
            "\n",
            "Vectorized text:[   2  748   71    4 2025    3   40 4571 1105 1458 5971  419   18 2813\n",
            "   99  167  205    5 5060 4492  202    0    0    0    0    0    0    0\n",
            "    0    0    0    0    0    0    0    0    0    0    0    0    0    0\n",
            "    0    0    0    0    0    0    0    0    0    0    0    0    0]\n"
          ]
        }
      ]
    },
    {
      "cell_type": "code",
      "source": [
        "# Create an embedding layer\n",
        "embedding = layers.Embedding(input_dim=len(rct_20k_text_vocab),\n",
        "                             output_dim = 128,\n",
        "                             mask_zero =True, #\n",
        "                             name = \"Embedding_layer\"\n",
        "                              )\n",
        "\n"
      ],
      "metadata": {
        "id": "XWlek33ObfPM"
      },
      "execution_count": null,
      "outputs": []
    },
    {
      "cell_type": "code",
      "source": [
        "# embedding.input_dim\n",
        "len(rct_20k_text_vocab)"
      ],
      "metadata": {
        "id": "9xSLNzyV97N3",
        "outputId": "9c99a74c-f7c3-4c82-f2e2-dfc528132df2",
        "colab": {
          "base_uri": "https://localhost:8080/"
        }
      },
      "execution_count": null,
      "outputs": [
        {
          "output_type": "execute_result",
          "data": {
            "text/plain": [
              "64841"
            ]
          },
          "metadata": {},
          "execution_count": 39
        }
      ]
    },
    {
      "cell_type": "code",
      "source": [
        "\n",
        "# Embed the random sentence on our text vectorizer\n",
        "target_sentence =random.choice(train_sentences)\n",
        "target_vectorize = text_vectorizer(target_sentence)\n",
        "print(f'Text_vectorized:\\n{target_vectorize}')\n",
        "print(f'\\nShape:{target_vectorize.shape}')\n",
        "sample_embed = embedding(target_vectorize)\n",
        "sample_embed"
      ],
      "metadata": {
        "id": "j9FeTgBBj6X9",
        "outputId": "7b7948c5-3777-46bd-e9be-0875c0c55044",
        "colab": {
          "base_uri": "https://localhost:8080/"
        }
      },
      "execution_count": null,
      "outputs": [
        {
          "output_type": "stream",
          "name": "stdout",
          "text": [
            "Text_vectorized:\n",
            "[    5     8 11849  7773   558     7  2630   585  1610     2   257     4\n",
            "   511  1544     5  9596     2   282     4   673  1529   150     6  6362\n",
            "  1544     0     0     0     0     0     0     0     0     0     0     0\n",
            "     0     0     0     0     0     0     0     0     0     0     0     0\n",
            "     0     0     0     0     0     0     0]\n",
            "\n",
            "Shape:(55,)\n"
          ]
        },
        {
          "output_type": "execute_result",
          "data": {
            "text/plain": [
              "<tf.Tensor: shape=(55, 128), dtype=float32, numpy=\n",
              "array([[-0.00423328,  0.00023187,  0.02622887, ...,  0.0266193 ,\n",
              "        -0.0283432 ,  0.01886966],\n",
              "       [ 0.01169677,  0.02910669,  0.02886441, ...,  0.02622254,\n",
              "         0.0204022 , -0.04685619],\n",
              "       [-0.02569488,  0.02943398, -0.00715904, ..., -0.00995065,\n",
              "        -0.00424544, -0.03756902],\n",
              "       ...,\n",
              "       [ 0.02775382,  0.03850562, -0.03482137, ..., -0.03678564,\n",
              "         0.04402721, -0.04975784],\n",
              "       [ 0.02775382,  0.03850562, -0.03482137, ..., -0.03678564,\n",
              "         0.04402721, -0.04975784],\n",
              "       [ 0.02775382,  0.03850562, -0.03482137, ..., -0.03678564,\n",
              "         0.04402721, -0.04975784]], dtype=float32)>"
            ]
          },
          "metadata": {},
          "execution_count": 40
        }
      ]
    },
    {
      "cell_type": "markdown",
      "source": [
        "### Create datasets\n",
        "\n",
        "We're going to create our dataset with `tf.data` API which provides methods which enable faster data loading.\n",
        "\n",
        "> 📖**Resources:** For best practises on data loading in Tensorflow, check out the following:\n",
        "\n",
        "* [tf.data.Build Tesnorflow input pipelines](https://www.tensorflow.org/guide/data)\n",
        "* [Better perfomance with the tf.data API](https://www.tensorflow.org/guide/data_performance)\n",
        "\n",
        "We need to create a batched `PrefetchDataset` we can use the methods `batch()` and `prefetch()`, the parameter `tf.data.AUTOTONE` will also Tensorflow to determine the optimal amount of compute to use to prepare datasets.\n"
      ],
      "metadata": {
        "id": "M9sIY-lytXrL"
      }
    },
    {
      "cell_type": "code",
      "source": [
        "# Turns our data into Tensorflow  Datasets\n",
        "train_dataset = tf.data.Dataset.from_tensor_slices((train_sentences,train_labels_one_hot))\n",
        "valid_dataset = tf.data.Dataset.from_tensor_slices((val_sentences,val_labels_one_hot))\n",
        "test_dataset = tf.data.Dataset.from_tensor_slices((test_sentences,test_labels_one_hot))\n",
        "train_dataset\n"
      ],
      "metadata": {
        "id": "OlfZSpCcvBDW",
        "outputId": "fa3fe012-0fd0-47fa-bf0b-41b7ad93ba5e",
        "colab": {
          "base_uri": "https://localhost:8080/"
        }
      },
      "execution_count": null,
      "outputs": [
        {
          "output_type": "execute_result",
          "data": {
            "text/plain": [
              "<_TensorSliceDataset element_spec=(TensorSpec(shape=(), dtype=tf.string, name=None), TensorSpec(shape=(5,), dtype=tf.float64, name=None))>"
            ]
          },
          "metadata": {},
          "execution_count": 41
        }
      ]
    },
    {
      "cell_type": "code",
      "source": [
        "# Take the Tensorslices  Dataset's and turn them into prefetched batches\n",
        "train_dataset = train_dataset.batch(32).prefetch(tf.data.AUTOTUNE)\n",
        "valid_dataset = valid_dataset.batch(32).prefetch(tf.data.AUTOTUNE)\n",
        "test_dataset = test_dataset.batch(32).prefetch(tf.data.AUTOTUNE)\n",
        "\n",
        "train_dataset\n"
      ],
      "metadata": {
        "id": "2Up0gnlZ3Jjj",
        "outputId": "e0a996ef-0fa0-4c96-e43e-d1abe46f7af5",
        "colab": {
          "base_uri": "https://localhost:8080/"
        }
      },
      "execution_count": null,
      "outputs": [
        {
          "output_type": "execute_result",
          "data": {
            "text/plain": [
              "<_PrefetchDataset element_spec=(TensorSpec(shape=(None,), dtype=tf.string, name=None), TensorSpec(shape=(None, 5), dtype=tf.float64, name=None))>"
            ]
          },
          "metadata": {},
          "execution_count": 42
        }
      ]
    },
    {
      "cell_type": "code",
      "source": [
        "train_dataset.element_spec"
      ],
      "metadata": {
        "colab": {
          "base_uri": "https://localhost:8080/"
        },
        "id": "Bv2VIkyufvSl",
        "outputId": "f046293a-cbfb-4ac9-8555-e367a082e69b"
      },
      "execution_count": 107,
      "outputs": [
        {
          "output_type": "execute_result",
          "data": {
            "text/plain": [
              "(TensorSpec(shape=(None,), dtype=tf.string, name=None),\n",
              " TensorSpec(shape=(None, 5), dtype=tf.float64, name=None))"
            ]
          },
          "metadata": {},
          "execution_count": 107
        }
      ]
    },
    {
      "cell_type": "markdown",
      "source": [
        "## Model 1: Conv1D with token embeddings\n",
        "All of our deep learning models will follow a similar structure\n",
        "\n",
        "```\n",
        "Input (text) -> Tokenize -> Embedding -> Layers -> Output (label probability)\n",
        "\n",
        "```\n",
        "\n",
        "The first model we're going to build is a 1-dimensional Convolutional Neural Network.\n",
        "\n",
        "We're also going to be following the standard machine learning workflow of:\n",
        "\n",
        "* Build model\n",
        "* Train model\n",
        "* Evaluate model (make predictions and compare to ground truth)"
      ],
      "metadata": {
        "id": "WBMZIzb237Ms"
      }
    },
    {
      "cell_type": "code",
      "source": [
        "# Create ID convolutional model to process sequences\n",
        "inputs = layers.Input(shape=(1,),dtype= tf.string)\n",
        "text_vectors = text_vectorizer(inputs) # vectorize text inputs\n",
        "token_embedding = embedding(text_vectors) # Create embeddings\n",
        "x = layers.Conv1D(64,kernel_size=5,padding='same',activation=\"relu\")(token_embedding)\n",
        "x = layers.GlobalAveragePooling1D()(x) # Condense the output of our feature vector\n",
        "outputs = layers.Dense(num_classes,activation='softmax')(x)\n",
        "model_1 = tf.keras.Model(inputs,outputs)\n",
        "\n",
        "# Compile model\n",
        "model_1.compile(loss = 'categorical_crossentropy', # If your labels are interger form (not one hot) use sparse_categorical_crossentropy\n",
        "                optimizer = tf.keras.optimizers.Adam(),\n",
        "                metrics = ['accuracy']\n",
        "                )\n"
      ],
      "metadata": {
        "id": "c9YrAvLq3wPA",
        "outputId": "fa673c22-2a00-481d-84b9-383a8902db10",
        "colab": {
          "base_uri": "https://localhost:8080/"
        }
      },
      "execution_count": null,
      "outputs": [
        {
          "output_type": "stream",
          "name": "stderr",
          "text": [
            "/usr/local/lib/python3.12/dist-packages/keras/src/layers/layer.py:965: UserWarning: Layer 'conv1d' (of type Conv1D) was passed an input with a mask attached to it. However, this layer does not support masking and will therefore destroy the mask information. Downstream layers will not see the mask.\n",
            "  warnings.warn(\n"
          ]
        }
      ]
    },
    {
      "cell_type": "code",
      "source": [
        "model_1.summary()"
      ],
      "metadata": {
        "id": "ob8HRd5HAARk",
        "outputId": "b7d6951e-bf21-4d79-9eda-e038187de233",
        "colab": {
          "base_uri": "https://localhost:8080/",
          "height": 353
        }
      },
      "execution_count": null,
      "outputs": [
        {
          "output_type": "display_data",
          "data": {
            "text/plain": [
              "\u001b[1mModel: \"functional\"\u001b[0m\n"
            ],
            "text/html": [
              "<pre style=\"white-space:pre;overflow-x:auto;line-height:normal;font-family:Menlo,'DejaVu Sans Mono',consolas,'Courier New',monospace\"><span style=\"font-weight: bold\">Model: \"functional\"</span>\n",
              "</pre>\n"
            ]
          },
          "metadata": {}
        },
        {
          "output_type": "display_data",
          "data": {
            "text/plain": [
              "┏━━━━━━━━━━━━━━━━━━━━━━━━━━━━━━━━━┳━━━━━━━━━━━━━━━━━━━━━━━━┳━━━━━━━━━━━━━━━┓\n",
              "┃\u001b[1m \u001b[0m\u001b[1mLayer (type)                   \u001b[0m\u001b[1m \u001b[0m┃\u001b[1m \u001b[0m\u001b[1mOutput Shape          \u001b[0m\u001b[1m \u001b[0m┃\u001b[1m \u001b[0m\u001b[1m      Param #\u001b[0m\u001b[1m \u001b[0m┃\n",
              "┡━━━━━━━━━━━━━━━━━━━━━━━━━━━━━━━━━╇━━━━━━━━━━━━━━━━━━━━━━━━╇━━━━━━━━━━━━━━━┩\n",
              "│ input_layer (\u001b[38;5;33mInputLayer\u001b[0m)        │ (\u001b[38;5;45mNone\u001b[0m, \u001b[38;5;34m1\u001b[0m)              │             \u001b[38;5;34m0\u001b[0m │\n",
              "├─────────────────────────────────┼────────────────────────┼───────────────┤\n",
              "│ text_vectorization              │ (\u001b[38;5;45mNone\u001b[0m, \u001b[38;5;34m55\u001b[0m)             │             \u001b[38;5;34m0\u001b[0m │\n",
              "│ (\u001b[38;5;33mTextVectorization\u001b[0m)             │                        │               │\n",
              "├─────────────────────────────────┼────────────────────────┼───────────────┤\n",
              "│ Embedding_layer (\u001b[38;5;33mEmbedding\u001b[0m)     │ (\u001b[38;5;45mNone\u001b[0m, \u001b[38;5;34m55\u001b[0m, \u001b[38;5;34m128\u001b[0m)        │     \u001b[38;5;34m8,299,648\u001b[0m │\n",
              "├─────────────────────────────────┼────────────────────────┼───────────────┤\n",
              "│ conv1d (\u001b[38;5;33mConv1D\u001b[0m)                 │ (\u001b[38;5;45mNone\u001b[0m, \u001b[38;5;34m55\u001b[0m, \u001b[38;5;34m64\u001b[0m)         │        \u001b[38;5;34m41,024\u001b[0m │\n",
              "├─────────────────────────────────┼────────────────────────┼───────────────┤\n",
              "│ global_average_pooling1d        │ (\u001b[38;5;45mNone\u001b[0m, \u001b[38;5;34m64\u001b[0m)             │             \u001b[38;5;34m0\u001b[0m │\n",
              "│ (\u001b[38;5;33mGlobalAveragePooling1D\u001b[0m)        │                        │               │\n",
              "├─────────────────────────────────┼────────────────────────┼───────────────┤\n",
              "│ dense (\u001b[38;5;33mDense\u001b[0m)                   │ (\u001b[38;5;45mNone\u001b[0m, \u001b[38;5;34m5\u001b[0m)              │           \u001b[38;5;34m325\u001b[0m │\n",
              "└─────────────────────────────────┴────────────────────────┴───────────────┘\n"
            ],
            "text/html": [
              "<pre style=\"white-space:pre;overflow-x:auto;line-height:normal;font-family:Menlo,'DejaVu Sans Mono',consolas,'Courier New',monospace\">┏━━━━━━━━━━━━━━━━━━━━━━━━━━━━━━━━━┳━━━━━━━━━━━━━━━━━━━━━━━━┳━━━━━━━━━━━━━━━┓\n",
              "┃<span style=\"font-weight: bold\"> Layer (type)                    </span>┃<span style=\"font-weight: bold\"> Output Shape           </span>┃<span style=\"font-weight: bold\">       Param # </span>┃\n",
              "┡━━━━━━━━━━━━━━━━━━━━━━━━━━━━━━━━━╇━━━━━━━━━━━━━━━━━━━━━━━━╇━━━━━━━━━━━━━━━┩\n",
              "│ input_layer (<span style=\"color: #0087ff; text-decoration-color: #0087ff\">InputLayer</span>)        │ (<span style=\"color: #00d7ff; text-decoration-color: #00d7ff\">None</span>, <span style=\"color: #00af00; text-decoration-color: #00af00\">1</span>)              │             <span style=\"color: #00af00; text-decoration-color: #00af00\">0</span> │\n",
              "├─────────────────────────────────┼────────────────────────┼───────────────┤\n",
              "│ text_vectorization              │ (<span style=\"color: #00d7ff; text-decoration-color: #00d7ff\">None</span>, <span style=\"color: #00af00; text-decoration-color: #00af00\">55</span>)             │             <span style=\"color: #00af00; text-decoration-color: #00af00\">0</span> │\n",
              "│ (<span style=\"color: #0087ff; text-decoration-color: #0087ff\">TextVectorization</span>)             │                        │               │\n",
              "├─────────────────────────────────┼────────────────────────┼───────────────┤\n",
              "│ Embedding_layer (<span style=\"color: #0087ff; text-decoration-color: #0087ff\">Embedding</span>)     │ (<span style=\"color: #00d7ff; text-decoration-color: #00d7ff\">None</span>, <span style=\"color: #00af00; text-decoration-color: #00af00\">55</span>, <span style=\"color: #00af00; text-decoration-color: #00af00\">128</span>)        │     <span style=\"color: #00af00; text-decoration-color: #00af00\">8,299,648</span> │\n",
              "├─────────────────────────────────┼────────────────────────┼───────────────┤\n",
              "│ conv1d (<span style=\"color: #0087ff; text-decoration-color: #0087ff\">Conv1D</span>)                 │ (<span style=\"color: #00d7ff; text-decoration-color: #00d7ff\">None</span>, <span style=\"color: #00af00; text-decoration-color: #00af00\">55</span>, <span style=\"color: #00af00; text-decoration-color: #00af00\">64</span>)         │        <span style=\"color: #00af00; text-decoration-color: #00af00\">41,024</span> │\n",
              "├─────────────────────────────────┼────────────────────────┼───────────────┤\n",
              "│ global_average_pooling1d        │ (<span style=\"color: #00d7ff; text-decoration-color: #00d7ff\">None</span>, <span style=\"color: #00af00; text-decoration-color: #00af00\">64</span>)             │             <span style=\"color: #00af00; text-decoration-color: #00af00\">0</span> │\n",
              "│ (<span style=\"color: #0087ff; text-decoration-color: #0087ff\">GlobalAveragePooling1D</span>)        │                        │               │\n",
              "├─────────────────────────────────┼────────────────────────┼───────────────┤\n",
              "│ dense (<span style=\"color: #0087ff; text-decoration-color: #0087ff\">Dense</span>)                   │ (<span style=\"color: #00d7ff; text-decoration-color: #00d7ff\">None</span>, <span style=\"color: #00af00; text-decoration-color: #00af00\">5</span>)              │           <span style=\"color: #00af00; text-decoration-color: #00af00\">325</span> │\n",
              "└─────────────────────────────────┴────────────────────────┴───────────────┘\n",
              "</pre>\n"
            ]
          },
          "metadata": {}
        },
        {
          "output_type": "display_data",
          "data": {
            "text/plain": [
              "\u001b[1m Total params: \u001b[0m\u001b[38;5;34m8,340,997\u001b[0m (31.82 MB)\n"
            ],
            "text/html": [
              "<pre style=\"white-space:pre;overflow-x:auto;line-height:normal;font-family:Menlo,'DejaVu Sans Mono',consolas,'Courier New',monospace\"><span style=\"font-weight: bold\"> Total params: </span><span style=\"color: #00af00; text-decoration-color: #00af00\">8,340,997</span> (31.82 MB)\n",
              "</pre>\n"
            ]
          },
          "metadata": {}
        },
        {
          "output_type": "display_data",
          "data": {
            "text/plain": [
              "\u001b[1m Trainable params: \u001b[0m\u001b[38;5;34m8,340,997\u001b[0m (31.82 MB)\n"
            ],
            "text/html": [
              "<pre style=\"white-space:pre;overflow-x:auto;line-height:normal;font-family:Menlo,'DejaVu Sans Mono',consolas,'Courier New',monospace\"><span style=\"font-weight: bold\"> Trainable params: </span><span style=\"color: #00af00; text-decoration-color: #00af00\">8,340,997</span> (31.82 MB)\n",
              "</pre>\n"
            ]
          },
          "metadata": {}
        },
        {
          "output_type": "display_data",
          "data": {
            "text/plain": [
              "\u001b[1m Non-trainable params: \u001b[0m\u001b[38;5;34m0\u001b[0m (0.00 B)\n"
            ],
            "text/html": [
              "<pre style=\"white-space:pre;overflow-x:auto;line-height:normal;font-family:Menlo,'DejaVu Sans Mono',consolas,'Courier New',monospace\"><span style=\"font-weight: bold\"> Non-trainable params: </span><span style=\"color: #00af00; text-decoration-color: #00af00\">0</span> (0.00 B)\n",
              "</pre>\n"
            ]
          },
          "metadata": {}
        }
      ]
    },
    {
      "cell_type": "code",
      "source": [
        "# Fit the model on the data\n",
        "model_1_history = model_1.fit(train_dataset,\n",
        "            steps_per_epoch=int(0.1 * len(train_dataset)), # only fit on 10% of batches for faster training time\n",
        "            epochs=3,\n",
        "            validation_data=valid_dataset,\n",
        "            validation_steps=int(0.1 * len(valid_dataset)))"
      ],
      "metadata": {
        "id": "IL4S-3fv8yKJ",
        "outputId": "bd10a764-87fe-43dc-95dc-034902378941",
        "colab": {
          "base_uri": "https://localhost:8080/"
        }
      },
      "execution_count": null,
      "outputs": [
        {
          "output_type": "stream",
          "name": "stdout",
          "text": [
            "Epoch 1/3\n",
            "\u001b[1m562/562\u001b[0m \u001b[32m━━━━━━━━━━━━━━━━━━━━\u001b[0m\u001b[37m\u001b[0m \u001b[1m12s\u001b[0m 11ms/step - accuracy: 0.5237 - loss: 1.1575 - val_accuracy: 0.7414 - val_loss: 0.6971\n",
            "Epoch 2/3\n",
            "\u001b[1m562/562\u001b[0m \u001b[32m━━━━━━━━━━━━━━━━━━━━\u001b[0m\u001b[37m\u001b[0m \u001b[1m8s\u001b[0m 14ms/step - accuracy: 0.7421 - loss: 0.6891 - val_accuracy: 0.7686 - val_loss: 0.6390\n",
            "Epoch 3/3\n",
            "\u001b[1m562/562\u001b[0m \u001b[32m━━━━━━━━━━━━━━━━━━━━\u001b[0m\u001b[37m\u001b[0m \u001b[1m6s\u001b[0m 10ms/step - accuracy: 0.7673 - loss: 0.6295 - val_accuracy: 0.7852 - val_loss: 0.6078\n"
          ]
        }
      ]
    },
    {
      "cell_type": "code",
      "source": [
        "# Evaluate on whole validation dataset\n",
        "model_1.evaluate(valid_dataset)"
      ],
      "metadata": {
        "id": "9fTRBQoEKJ0s",
        "outputId": "cc80c9c2-0267-4acf-d288-d043a2c96304",
        "colab": {
          "base_uri": "https://localhost:8080/"
        }
      },
      "execution_count": null,
      "outputs": [
        {
          "output_type": "stream",
          "name": "stdout",
          "text": [
            "\u001b[1m945/945\u001b[0m \u001b[32m━━━━━━━━━━━━━━━━━━━━\u001b[0m\u001b[37m\u001b[0m \u001b[1m4s\u001b[0m 4ms/step - accuracy: 0.7839 - loss: 0.6058\n"
          ]
        },
        {
          "output_type": "execute_result",
          "data": {
            "text/plain": [
              "[0.6080015897750854, 0.7828677296638489]"
            ]
          },
          "metadata": {},
          "execution_count": 46
        }
      ]
    },
    {
      "cell_type": "code",
      "source": [
        "# Make predictions (our model predicts prediction probabilities for each class)\n",
        "model_1_pred_probs = model_1.predict(test_dataset)\n",
        "model_1_pred_probs"
      ],
      "metadata": {
        "id": "4b-ZKwQIKRut",
        "outputId": "b180ff92-02a0-44fb-fa68-0b8ae0ff6d8c",
        "colab": {
          "base_uri": "https://localhost:8080/"
        }
      },
      "execution_count": null,
      "outputs": [
        {
          "output_type": "stream",
          "name": "stdout",
          "text": [
            "\u001b[1m942/942\u001b[0m \u001b[32m━━━━━━━━━━━━━━━━━━━━\u001b[0m\u001b[37m\u001b[0m \u001b[1m2s\u001b[0m 2ms/step\n"
          ]
        },
        {
          "output_type": "execute_result",
          "data": {
            "text/plain": [
              "array([[3.16083491e-01, 7.63291866e-02, 2.57842481e-01, 3.14432174e-01,\n",
              "        3.53127606e-02],\n",
              "       [2.00488348e-03, 1.37923914e-03, 9.57718790e-01, 2.52237706e-03,\n",
              "        3.63748223e-02],\n",
              "       [6.17682643e-04, 2.10911781e-03, 8.46529186e-01, 3.75425647e-04,\n",
              "        1.50368661e-01],\n",
              "       ...,\n",
              "       [1.78352674e-03, 4.08719368e-02, 3.20892893e-02, 1.04733603e-03,\n",
              "        9.24207866e-01],\n",
              "       [7.54871452e-03, 4.34124768e-02, 8.53131488e-02, 3.72516434e-03,\n",
              "        8.60000491e-01],\n",
              "       [1.06685217e-02, 4.81222004e-01, 6.60744980e-02, 1.12973405e-02,\n",
              "        4.30737674e-01]], dtype=float32)"
            ]
          },
          "metadata": {},
          "execution_count": 47
        }
      ]
    },
    {
      "cell_type": "code",
      "source": [
        "# Convert pred probs to classes\n",
        "model_1_preds =tf.argmax(model_1_pred_probs,axis =1)\n",
        "model_1_preds"
      ],
      "metadata": {
        "id": "9CxFtz8TPTKd",
        "outputId": "c5fce781-b1c7-40df-c849-d0dfc60477f4",
        "colab": {
          "base_uri": "https://localhost:8080/"
        }
      },
      "execution_count": null,
      "outputs": [
        {
          "output_type": "execute_result",
          "data": {
            "text/plain": [
              "<tf.Tensor: shape=(30135,), dtype=int64, numpy=array([0, 2, 2, ..., 4, 4, 1])>"
            ]
          },
          "metadata": {},
          "execution_count": 48
        }
      ]
    },
    {
      "cell_type": "code",
      "source": [
        "model_1_results = score_function(y_true =test_labels_encoded,y_pred=model_1_preds)\n",
        "model_1_results"
      ],
      "metadata": {
        "id": "nQMqdPxaPyeM",
        "outputId": "1509c1e7-f1e5-4b42-fdcb-d5e97312d073",
        "colab": {
          "base_uri": "https://localhost:8080/"
        }
      },
      "execution_count": null,
      "outputs": [
        {
          "output_type": "execute_result",
          "data": {
            "text/plain": [
              "{'Accuracy_score': 0.7774680603948897,\n",
              " 'F1-Score': 0.7749056640925897,\n",
              " 'Recall_Score': 0.7774680603948897,\n",
              " 'Precision_Score': 0.7743390126500306}"
            ]
          },
          "metadata": {},
          "execution_count": 49
        }
      ]
    },
    {
      "cell_type": "code",
      "source": [
        "bayesian_model_score"
      ],
      "metadata": {
        "id": "lX9Ou_gpSKq1",
        "outputId": "f00f9596-e8f6-4242-abd8-04f20f709466",
        "colab": {
          "base_uri": "https://localhost:8080/"
        }
      },
      "execution_count": null,
      "outputs": [
        {
          "output_type": "execute_result",
          "data": {
            "text/plain": [
              "{'Accuracy_score': 0.7218323844829869,\n",
              " 'F1-Score': 0.6989250353450294,\n",
              " 'Recall_Score': 0.7218323844829869,\n",
              " 'Precision_Score': 0.7186466952323352}"
            ]
          },
          "metadata": {},
          "execution_count": 50
        }
      ]
    },
    {
      "cell_type": "markdown",
      "source": [
        "## Tensorflow Hub Pretrained Feature extractor\n",
        "\n",
        "More on the how to load keras models using kaggle:https://www.kaggle.com/models/google/universal-sentence-encoder/tensorFlow2/universal-sentence-encoder\n",
        "\n",
        "Now we've built a few of our own models, let's try and use transfer learning for NLP, specifically using tensorflow hub's universal sentence encoder\n"
      ],
      "metadata": {
        "id": "HbuDdWgOTv7e"
      }
    },
    {
      "cell_type": "code",
      "source": [
        "import tensorflow_hub as hub\n",
        "encoder = hub.load(\"https://www.kaggle.com/models/google/universal-sentence-encoder/TensorFlow2/universal-sentence-encoder/2\")\n",
        "\n",
        "# Pass In our sample sentences\n",
        "random_sentence = random.choice(train_sentences)\n",
        "print(random_sentence)\n",
        "embedded_sample =encoder([random_sentence])\n"
      ],
      "metadata": {
        "colab": {
          "base_uri": "https://localhost:8080/"
        },
        "id": "w8jlBHDzVz-b",
        "outputId": "27897e6c-b65c-4ef1-82e2-b5c51422a894"
      },
      "execution_count": null,
      "outputs": [
        {
          "output_type": "stream",
          "name": "stdout",
          "text": [
            "furthermore , the use of pedometers is promising to enhance physical activity during the entire day and targets a wide range of adolescents regarding fitness and weight .\n"
          ]
        }
      ]
    },
    {
      "cell_type": "code",
      "source": [
        "embedded_sample.shape"
      ],
      "metadata": {
        "colab": {
          "base_uri": "https://localhost:8080/"
        },
        "id": "Tx3XqudRVqVW",
        "outputId": "e555f353-82f6-4db0-e1dc-761c45c3ad41"
      },
      "execution_count": null,
      "outputs": [
        {
          "output_type": "execute_result",
          "data": {
            "text/plain": [
              "TensorShape([1, 512])"
            ]
          },
          "metadata": {},
          "execution_count": 52
        }
      ]
    },
    {
      "cell_type": "code",
      "source": [
        "%%time\n",
        "\n",
        "from tqdm.auto import tqdm\n",
        "tqdm.pandas()\n",
        "# Precompute Embeddings\n",
        "tf.random.set_seed(42)\n",
        "def embedded_sentence(sentences,batch_size=32):\n",
        "  embeddings = []\n",
        "  for i in tqdm(range(0,len(sentences)+1,batch_size)):\n",
        "    batch = sentences[i:i+batch_size]\n",
        "    emb = encoder(batch)\n",
        "    embeddings.append(emb.numpy())\n",
        "  return np.vstack(embeddings).astype(np.float32)\n",
        "\n",
        "\n",
        "# Train, Validate and Test data embeddings\n",
        "emb_train_set = embedded_sentence(train_sentences)\n",
        "emb_valid_set = embedded_sentence(val_sentences)\n",
        "emb_test_set =embedded_sentence(test_sentences)\n",
        "\n"
      ],
      "metadata": {
        "id": "z3N5I1UTWkzp"
      },
      "execution_count": null,
      "outputs": []
    },
    {
      "cell_type": "code",
      "source": [
        "emb_train_set.shape,emb_valid_set.shape,emb_test_set.shape,"
      ],
      "metadata": {
        "colab": {
          "base_uri": "https://localhost:8080/"
        },
        "id": "9QvxLyp3aBXT",
        "outputId": "15260d47-b56c-4cb1-f4e2-09a5477c289b"
      },
      "execution_count": null,
      "outputs": [
        {
          "output_type": "execute_result",
          "data": {
            "text/plain": [
              "((180040, 512), (30212, 512), (30135, 512))"
            ]
          },
          "metadata": {},
          "execution_count": 54
        }
      ]
    },
    {
      "cell_type": "code",
      "source": [
        "train_set = tf.data.Dataset.from_tensor_slices((emb_train_set,train_labels_one_hot))\n",
        "valid_set = tf.data.Dataset.from_tensor_slices((emb_valid_set,val_labels_one_hot))\n",
        "test_set = tf.data.Dataset.from_tensor_slices((emb_test_set,test_labels_one_hot))\n",
        "\n"
      ],
      "metadata": {
        "id": "q7CPE7BjaVic"
      },
      "execution_count": null,
      "outputs": []
    },
    {
      "cell_type": "code",
      "source": [
        "train_set = train_set.batch(32).prefetch(tf.data.AUTOTUNE)\n",
        "valid_set = valid_set.batch(32).prefetch(tf.data.AUTOTUNE)\n",
        "test_set = test_set.batch(32).prefetch(tf.data.AUTOTUNE)\n"
      ],
      "metadata": {
        "id": "J6spgGaDbT99"
      },
      "execution_count": null,
      "outputs": []
    },
    {
      "cell_type": "code",
      "source": [
        "# Add a dimension to the dataset\n",
        "def add_dimension(feature,label):\n",
        "  expand_features = tf.expand_dims(feature,axis=1)\n",
        "  return expand_features,label\n",
        "\n",
        "# Map to the datasets feature\n",
        "train_set = train_set.map(add_dimension)\n",
        "valid_set = valid_set.map(add_dimension)\n",
        "test_set = test_set.map(add_dimension)\n"
      ],
      "metadata": {
        "id": "h6prwXIfjgn9"
      },
      "execution_count": null,
      "outputs": []
    },
    {
      "cell_type": "code",
      "source": [
        "train_set.element_spec"
      ],
      "metadata": {
        "colab": {
          "base_uri": "https://localhost:8080/"
        },
        "id": "nEsorNx1d343",
        "outputId": "ece9b9ca-9f2d-4340-a518-4a90b83dce4a"
      },
      "execution_count": null,
      "outputs": [
        {
          "output_type": "execute_result",
          "data": {
            "text/plain": [
              "(TensorSpec(shape=(None, 1, 512), dtype=tf.float32, name=None),\n",
              " TensorSpec(shape=(None, 5), dtype=tf.float64, name=None))"
            ]
          },
          "metadata": {},
          "execution_count": 58
        }
      ]
    },
    {
      "cell_type": "markdown",
      "source": [
        "### Assignment : Build a CNN model and RNN (lstm, GRU)"
      ],
      "metadata": {
        "id": "lgPJbiz2dGlS"
      }
    },
    {
      "cell_type": "markdown",
      "source": [
        "#### CNN\n",
        "\n"
      ],
      "metadata": {
        "id": "oOqb6S-ndgxw"
      }
    },
    {
      "cell_type": "code",
      "source": [
        "\n",
        "inputs = layers.Input(shape=(1,512),dtype=tf.float32)\n",
        "x = layers.Conv1D(64,kernel_size=4,padding='same',activation='relu')(inputs)\n",
        "x = layers.GlobalAveragePooling1D()(x)\n",
        "outputs = layers.Dense(num_classes,activation='softmax')(x)\n",
        "model_2 = tf.keras.Model(inputs,outputs)\n",
        "\n",
        "# Compile model\n",
        "model_2.compile(loss = 'categorical_crossentropy',\n",
        "                optimizer = tf.keras.optimizers.Adam(),\n",
        "                metrics = ['accuracy'])"
      ],
      "metadata": {
        "id": "_qvP_vIo9CYm"
      },
      "execution_count": null,
      "outputs": []
    },
    {
      "cell_type": "code",
      "source": [
        "model_2.summary()"
      ],
      "metadata": {
        "colab": {
          "base_uri": "https://localhost:8080/",
          "height": 273
        },
        "id": "uxI3_rrJk5EJ",
        "outputId": "14ec2bdc-c530-4862-d3a7-c39be4a274ae"
      },
      "execution_count": null,
      "outputs": [
        {
          "output_type": "display_data",
          "data": {
            "text/plain": [
              "\u001b[1mModel: \"functional_1\"\u001b[0m\n"
            ],
            "text/html": [
              "<pre style=\"white-space:pre;overflow-x:auto;line-height:normal;font-family:Menlo,'DejaVu Sans Mono',consolas,'Courier New',monospace\"><span style=\"font-weight: bold\">Model: \"functional_1\"</span>\n",
              "</pre>\n"
            ]
          },
          "metadata": {}
        },
        {
          "output_type": "display_data",
          "data": {
            "text/plain": [
              "┏━━━━━━━━━━━━━━━━━━━━━━━━━━━━━━━━━┳━━━━━━━━━━━━━━━━━━━━━━━━┳━━━━━━━━━━━━━━━┓\n",
              "┃\u001b[1m \u001b[0m\u001b[1mLayer (type)                   \u001b[0m\u001b[1m \u001b[0m┃\u001b[1m \u001b[0m\u001b[1mOutput Shape          \u001b[0m\u001b[1m \u001b[0m┃\u001b[1m \u001b[0m\u001b[1m      Param #\u001b[0m\u001b[1m \u001b[0m┃\n",
              "┡━━━━━━━━━━━━━━━━━━━━━━━━━━━━━━━━━╇━━━━━━━━━━━━━━━━━━━━━━━━╇━━━━━━━━━━━━━━━┩\n",
              "│ input_layer_1 (\u001b[38;5;33mInputLayer\u001b[0m)      │ (\u001b[38;5;45mNone\u001b[0m, \u001b[38;5;34m1\u001b[0m, \u001b[38;5;34m512\u001b[0m)         │             \u001b[38;5;34m0\u001b[0m │\n",
              "├─────────────────────────────────┼────────────────────────┼───────────────┤\n",
              "│ conv1d_1 (\u001b[38;5;33mConv1D\u001b[0m)               │ (\u001b[38;5;45mNone\u001b[0m, \u001b[38;5;34m1\u001b[0m, \u001b[38;5;34m64\u001b[0m)          │       \u001b[38;5;34m131,136\u001b[0m │\n",
              "├─────────────────────────────────┼────────────────────────┼───────────────┤\n",
              "│ global_average_pooling1d_1      │ (\u001b[38;5;45mNone\u001b[0m, \u001b[38;5;34m64\u001b[0m)             │             \u001b[38;5;34m0\u001b[0m │\n",
              "│ (\u001b[38;5;33mGlobalAveragePooling1D\u001b[0m)        │                        │               │\n",
              "├─────────────────────────────────┼────────────────────────┼───────────────┤\n",
              "│ dense_1 (\u001b[38;5;33mDense\u001b[0m)                 │ (\u001b[38;5;45mNone\u001b[0m, \u001b[38;5;34m5\u001b[0m)              │           \u001b[38;5;34m325\u001b[0m │\n",
              "└─────────────────────────────────┴────────────────────────┴───────────────┘\n"
            ],
            "text/html": [
              "<pre style=\"white-space:pre;overflow-x:auto;line-height:normal;font-family:Menlo,'DejaVu Sans Mono',consolas,'Courier New',monospace\">┏━━━━━━━━━━━━━━━━━━━━━━━━━━━━━━━━━┳━━━━━━━━━━━━━━━━━━━━━━━━┳━━━━━━━━━━━━━━━┓\n",
              "┃<span style=\"font-weight: bold\"> Layer (type)                    </span>┃<span style=\"font-weight: bold\"> Output Shape           </span>┃<span style=\"font-weight: bold\">       Param # </span>┃\n",
              "┡━━━━━━━━━━━━━━━━━━━━━━━━━━━━━━━━━╇━━━━━━━━━━━━━━━━━━━━━━━━╇━━━━━━━━━━━━━━━┩\n",
              "│ input_layer_1 (<span style=\"color: #0087ff; text-decoration-color: #0087ff\">InputLayer</span>)      │ (<span style=\"color: #00d7ff; text-decoration-color: #00d7ff\">None</span>, <span style=\"color: #00af00; text-decoration-color: #00af00\">1</span>, <span style=\"color: #00af00; text-decoration-color: #00af00\">512</span>)         │             <span style=\"color: #00af00; text-decoration-color: #00af00\">0</span> │\n",
              "├─────────────────────────────────┼────────────────────────┼───────────────┤\n",
              "│ conv1d_1 (<span style=\"color: #0087ff; text-decoration-color: #0087ff\">Conv1D</span>)               │ (<span style=\"color: #00d7ff; text-decoration-color: #00d7ff\">None</span>, <span style=\"color: #00af00; text-decoration-color: #00af00\">1</span>, <span style=\"color: #00af00; text-decoration-color: #00af00\">64</span>)          │       <span style=\"color: #00af00; text-decoration-color: #00af00\">131,136</span> │\n",
              "├─────────────────────────────────┼────────────────────────┼───────────────┤\n",
              "│ global_average_pooling1d_1      │ (<span style=\"color: #00d7ff; text-decoration-color: #00d7ff\">None</span>, <span style=\"color: #00af00; text-decoration-color: #00af00\">64</span>)             │             <span style=\"color: #00af00; text-decoration-color: #00af00\">0</span> │\n",
              "│ (<span style=\"color: #0087ff; text-decoration-color: #0087ff\">GlobalAveragePooling1D</span>)        │                        │               │\n",
              "├─────────────────────────────────┼────────────────────────┼───────────────┤\n",
              "│ dense_1 (<span style=\"color: #0087ff; text-decoration-color: #0087ff\">Dense</span>)                 │ (<span style=\"color: #00d7ff; text-decoration-color: #00d7ff\">None</span>, <span style=\"color: #00af00; text-decoration-color: #00af00\">5</span>)              │           <span style=\"color: #00af00; text-decoration-color: #00af00\">325</span> │\n",
              "└─────────────────────────────────┴────────────────────────┴───────────────┘\n",
              "</pre>\n"
            ]
          },
          "metadata": {}
        },
        {
          "output_type": "display_data",
          "data": {
            "text/plain": [
              "\u001b[1m Total params: \u001b[0m\u001b[38;5;34m131,461\u001b[0m (513.52 KB)\n"
            ],
            "text/html": [
              "<pre style=\"white-space:pre;overflow-x:auto;line-height:normal;font-family:Menlo,'DejaVu Sans Mono',consolas,'Courier New',monospace\"><span style=\"font-weight: bold\"> Total params: </span><span style=\"color: #00af00; text-decoration-color: #00af00\">131,461</span> (513.52 KB)\n",
              "</pre>\n"
            ]
          },
          "metadata": {}
        },
        {
          "output_type": "display_data",
          "data": {
            "text/plain": [
              "\u001b[1m Trainable params: \u001b[0m\u001b[38;5;34m131,461\u001b[0m (513.52 KB)\n"
            ],
            "text/html": [
              "<pre style=\"white-space:pre;overflow-x:auto;line-height:normal;font-family:Menlo,'DejaVu Sans Mono',consolas,'Courier New',monospace\"><span style=\"font-weight: bold\"> Trainable params: </span><span style=\"color: #00af00; text-decoration-color: #00af00\">131,461</span> (513.52 KB)\n",
              "</pre>\n"
            ]
          },
          "metadata": {}
        },
        {
          "output_type": "display_data",
          "data": {
            "text/plain": [
              "\u001b[1m Non-trainable params: \u001b[0m\u001b[38;5;34m0\u001b[0m (0.00 B)\n"
            ],
            "text/html": [
              "<pre style=\"white-space:pre;overflow-x:auto;line-height:normal;font-family:Menlo,'DejaVu Sans Mono',consolas,'Courier New',monospace\"><span style=\"font-weight: bold\"> Non-trainable params: </span><span style=\"color: #00af00; text-decoration-color: #00af00\">0</span> (0.00 B)\n",
              "</pre>\n"
            ]
          },
          "metadata": {}
        }
      ]
    },
    {
      "cell_type": "code",
      "source": [
        "model_2_history =model_2.fit(train_set,\n",
        "            # steps_per_epoch = int(0.1*len(train_set)),\n",
        "            epochs = 3,\n",
        "            validation_data = valid_set)\n",
        "            # validation_steps = int(.1*len(valid_set)))"
      ],
      "metadata": {
        "colab": {
          "base_uri": "https://localhost:8080/"
        },
        "id": "gJ6mSpL0lEHQ",
        "outputId": "e6cc3d94-91c0-487b-f4b2-4170e94002f7"
      },
      "execution_count": null,
      "outputs": [
        {
          "output_type": "stream",
          "name": "stdout",
          "text": [
            "Epoch 1/3\n",
            "\u001b[1m5627/5627\u001b[0m \u001b[32m━━━━━━━━━━━━━━━━━━━━\u001b[0m\u001b[37m\u001b[0m \u001b[1m18s\u001b[0m 3ms/step - accuracy: 0.6805 - loss: 0.8379 - val_accuracy: 0.7382 - val_loss: 0.6854\n",
            "Epoch 2/3\n",
            "\u001b[1m5627/5627\u001b[0m \u001b[32m━━━━━━━━━━━━━━━━━━━━\u001b[0m\u001b[37m\u001b[0m \u001b[1m17s\u001b[0m 3ms/step - accuracy: 0.7422 - loss: 0.6774 - val_accuracy: 0.7535 - val_loss: 0.6464\n",
            "Epoch 3/3\n",
            "\u001b[1m5627/5627\u001b[0m \u001b[32m━━━━━━━━━━━━━━━━━━━━\u001b[0m\u001b[37m\u001b[0m \u001b[1m19s\u001b[0m 3ms/step - accuracy: 0.7583 - loss: 0.6383 - val_accuracy: 0.7592 - val_loss: 0.6287\n"
          ]
        }
      ]
    },
    {
      "cell_type": "code",
      "source": [
        "# Evaluate model on  test data\n",
        "model_2.evaluate(test_set)"
      ],
      "metadata": {
        "colab": {
          "base_uri": "https://localhost:8080/"
        },
        "id": "WCQja2tK5GnC",
        "outputId": "86304bdf-4cb2-4396-aeb5-c02933172cff"
      },
      "execution_count": null,
      "outputs": [
        {
          "output_type": "stream",
          "name": "stdout",
          "text": [
            "\u001b[1m942/942\u001b[0m \u001b[32m━━━━━━━━━━━━━━━━━━━━\u001b[0m\u001b[37m\u001b[0m \u001b[1m3s\u001b[0m 3ms/step - accuracy: 0.7512 - loss: 0.6496\n"
          ]
        },
        {
          "output_type": "execute_result",
          "data": {
            "text/plain": [
              "[0.6472804546356201, 0.7542392611503601]"
            ]
          },
          "metadata": {},
          "execution_count": 62
        }
      ]
    },
    {
      "cell_type": "code",
      "source": [
        "# Predict on the unseen data\n",
        "cnn_pred_prob = model_2.predict(test_set)\n",
        "\n",
        "# Convert the pred probabilites to get the classes\n",
        "cnn_pred = tf.argmax(cnn_pred_prob,axis=1)\n",
        "cnn_pred"
      ],
      "metadata": {
        "colab": {
          "base_uri": "https://localhost:8080/"
        },
        "id": "3A7ZGfG65XQW",
        "outputId": "a507917c-95f1-472a-d485-7b2eee788806"
      },
      "execution_count": null,
      "outputs": [
        {
          "output_type": "stream",
          "name": "stdout",
          "text": [
            "\u001b[1m942/942\u001b[0m \u001b[32m━━━━━━━━━━━━━━━━━━━━\u001b[0m\u001b[37m\u001b[0m \u001b[1m2s\u001b[0m 2ms/step\n"
          ]
        },
        {
          "output_type": "execute_result",
          "data": {
            "text/plain": [
              "<tf.Tensor: shape=(30135,), dtype=int64, numpy=array([4, 2, 2, ..., 4, 4, 1])>"
            ]
          },
          "metadata": {},
          "execution_count": 63
        }
      ]
    },
    {
      "cell_type": "code",
      "source": [
        "cnn_score =score_function(y_pred=cnn_pred,y_true=test_labels_encoded)\n",
        "cnn_score"
      ],
      "metadata": {
        "colab": {
          "base_uri": "https://localhost:8080/"
        },
        "id": "7VYkMIcD5LTU",
        "outputId": "cff58e65-cacc-4f9e-8dfc-4f11bcbd199a"
      },
      "execution_count": null,
      "outputs": [
        {
          "output_type": "execute_result",
          "data": {
            "text/plain": [
              "{'Accuracy_score': 0.7542392566782811,\n",
              " 'F1-Score': 0.7494050723268696,\n",
              " 'Recall_Score': 0.7542392566782811,\n",
              " 'Precision_Score': 0.75001306451673}"
            ]
          },
          "metadata": {},
          "execution_count": 64
        }
      ]
    },
    {
      "cell_type": "markdown",
      "source": [
        "#### LSTM\n",
        "\n"
      ],
      "metadata": {
        "id": "Abq5JWnUuNvP"
      }
    },
    {
      "cell_type": "code",
      "source": [
        "\n",
        "inputs = layers.Input(shape=(1,512),dtype = tf.float32)\n",
        "x = layers.LSTM(64,activation='relu')(inputs)\n",
        "outputs = layers.Dense(num_classes,activation='softmax')(x)\n",
        "\n",
        "model_3 =tf.keras.Model(inputs,outputs)\n",
        "\n",
        "# Compile model\n",
        "model_3.compile(loss = 'categorical_crossentropy',\n",
        "                optimizer= tf.keras.optimizers.Adam(),\n",
        "                metrics = ['accuracy'])"
      ],
      "metadata": {
        "id": "SZ2tFG278_od"
      },
      "execution_count": null,
      "outputs": []
    },
    {
      "cell_type": "code",
      "source": [
        "model_3.summary()"
      ],
      "metadata": {
        "colab": {
          "base_uri": "https://localhost:8080/",
          "height": 225
        },
        "id": "xSITwnid3Mso",
        "outputId": "e86bdfd1-2b42-4350-95f8-8d406068b415"
      },
      "execution_count": null,
      "outputs": [
        {
          "output_type": "display_data",
          "data": {
            "text/plain": [
              "\u001b[1mModel: \"functional_2\"\u001b[0m\n"
            ],
            "text/html": [
              "<pre style=\"white-space:pre;overflow-x:auto;line-height:normal;font-family:Menlo,'DejaVu Sans Mono',consolas,'Courier New',monospace\"><span style=\"font-weight: bold\">Model: \"functional_2\"</span>\n",
              "</pre>\n"
            ]
          },
          "metadata": {}
        },
        {
          "output_type": "display_data",
          "data": {
            "text/plain": [
              "┏━━━━━━━━━━━━━━━━━━━━━━━━━━━━━━━━━┳━━━━━━━━━━━━━━━━━━━━━━━━┳━━━━━━━━━━━━━━━┓\n",
              "┃\u001b[1m \u001b[0m\u001b[1mLayer (type)                   \u001b[0m\u001b[1m \u001b[0m┃\u001b[1m \u001b[0m\u001b[1mOutput Shape          \u001b[0m\u001b[1m \u001b[0m┃\u001b[1m \u001b[0m\u001b[1m      Param #\u001b[0m\u001b[1m \u001b[0m┃\n",
              "┡━━━━━━━━━━━━━━━━━━━━━━━━━━━━━━━━━╇━━━━━━━━━━━━━━━━━━━━━━━━╇━━━━━━━━━━━━━━━┩\n",
              "│ input_layer_2 (\u001b[38;5;33mInputLayer\u001b[0m)      │ (\u001b[38;5;45mNone\u001b[0m, \u001b[38;5;34m1\u001b[0m, \u001b[38;5;34m512\u001b[0m)         │             \u001b[38;5;34m0\u001b[0m │\n",
              "├─────────────────────────────────┼────────────────────────┼───────────────┤\n",
              "│ lstm (\u001b[38;5;33mLSTM\u001b[0m)                     │ (\u001b[38;5;45mNone\u001b[0m, \u001b[38;5;34m64\u001b[0m)             │       \u001b[38;5;34m147,712\u001b[0m │\n",
              "├─────────────────────────────────┼────────────────────────┼───────────────┤\n",
              "│ dense_2 (\u001b[38;5;33mDense\u001b[0m)                 │ (\u001b[38;5;45mNone\u001b[0m, \u001b[38;5;34m5\u001b[0m)              │           \u001b[38;5;34m325\u001b[0m │\n",
              "└─────────────────────────────────┴────────────────────────┴───────────────┘\n"
            ],
            "text/html": [
              "<pre style=\"white-space:pre;overflow-x:auto;line-height:normal;font-family:Menlo,'DejaVu Sans Mono',consolas,'Courier New',monospace\">┏━━━━━━━━━━━━━━━━━━━━━━━━━━━━━━━━━┳━━━━━━━━━━━━━━━━━━━━━━━━┳━━━━━━━━━━━━━━━┓\n",
              "┃<span style=\"font-weight: bold\"> Layer (type)                    </span>┃<span style=\"font-weight: bold\"> Output Shape           </span>┃<span style=\"font-weight: bold\">       Param # </span>┃\n",
              "┡━━━━━━━━━━━━━━━━━━━━━━━━━━━━━━━━━╇━━━━━━━━━━━━━━━━━━━━━━━━╇━━━━━━━━━━━━━━━┩\n",
              "│ input_layer_2 (<span style=\"color: #0087ff; text-decoration-color: #0087ff\">InputLayer</span>)      │ (<span style=\"color: #00d7ff; text-decoration-color: #00d7ff\">None</span>, <span style=\"color: #00af00; text-decoration-color: #00af00\">1</span>, <span style=\"color: #00af00; text-decoration-color: #00af00\">512</span>)         │             <span style=\"color: #00af00; text-decoration-color: #00af00\">0</span> │\n",
              "├─────────────────────────────────┼────────────────────────┼───────────────┤\n",
              "│ lstm (<span style=\"color: #0087ff; text-decoration-color: #0087ff\">LSTM</span>)                     │ (<span style=\"color: #00d7ff; text-decoration-color: #00d7ff\">None</span>, <span style=\"color: #00af00; text-decoration-color: #00af00\">64</span>)             │       <span style=\"color: #00af00; text-decoration-color: #00af00\">147,712</span> │\n",
              "├─────────────────────────────────┼────────────────────────┼───────────────┤\n",
              "│ dense_2 (<span style=\"color: #0087ff; text-decoration-color: #0087ff\">Dense</span>)                 │ (<span style=\"color: #00d7ff; text-decoration-color: #00d7ff\">None</span>, <span style=\"color: #00af00; text-decoration-color: #00af00\">5</span>)              │           <span style=\"color: #00af00; text-decoration-color: #00af00\">325</span> │\n",
              "└─────────────────────────────────┴────────────────────────┴───────────────┘\n",
              "</pre>\n"
            ]
          },
          "metadata": {}
        },
        {
          "output_type": "display_data",
          "data": {
            "text/plain": [
              "\u001b[1m Total params: \u001b[0m\u001b[38;5;34m148,037\u001b[0m (578.27 KB)\n"
            ],
            "text/html": [
              "<pre style=\"white-space:pre;overflow-x:auto;line-height:normal;font-family:Menlo,'DejaVu Sans Mono',consolas,'Courier New',monospace\"><span style=\"font-weight: bold\"> Total params: </span><span style=\"color: #00af00; text-decoration-color: #00af00\">148,037</span> (578.27 KB)\n",
              "</pre>\n"
            ]
          },
          "metadata": {}
        },
        {
          "output_type": "display_data",
          "data": {
            "text/plain": [
              "\u001b[1m Trainable params: \u001b[0m\u001b[38;5;34m148,037\u001b[0m (578.27 KB)\n"
            ],
            "text/html": [
              "<pre style=\"white-space:pre;overflow-x:auto;line-height:normal;font-family:Menlo,'DejaVu Sans Mono',consolas,'Courier New',monospace\"><span style=\"font-weight: bold\"> Trainable params: </span><span style=\"color: #00af00; text-decoration-color: #00af00\">148,037</span> (578.27 KB)\n",
              "</pre>\n"
            ]
          },
          "metadata": {}
        },
        {
          "output_type": "display_data",
          "data": {
            "text/plain": [
              "\u001b[1m Non-trainable params: \u001b[0m\u001b[38;5;34m0\u001b[0m (0.00 B)\n"
            ],
            "text/html": [
              "<pre style=\"white-space:pre;overflow-x:auto;line-height:normal;font-family:Menlo,'DejaVu Sans Mono',consolas,'Courier New',monospace\"><span style=\"font-weight: bold\"> Non-trainable params: </span><span style=\"color: #00af00; text-decoration-color: #00af00\">0</span> (0.00 B)\n",
              "</pre>\n"
            ]
          },
          "metadata": {}
        }
      ]
    },
    {
      "cell_type": "code",
      "source": [
        "model_3_history = model_3.fit(train_set,\n",
        "                              epochs = 3,\n",
        "                              validation_data =valid_set\n",
        "                              )"
      ],
      "metadata": {
        "colab": {
          "base_uri": "https://localhost:8080/"
        },
        "id": "XJGWVh-64QTD",
        "outputId": "d1087976-f3b9-4dbf-cdb4-9c391ef7c940"
      },
      "execution_count": null,
      "outputs": [
        {
          "output_type": "stream",
          "name": "stdout",
          "text": [
            "Epoch 1/3\n",
            "\u001b[1m5627/5627\u001b[0m \u001b[32m━━━━━━━━━━━━━━━━━━━━\u001b[0m\u001b[37m\u001b[0m \u001b[1m25s\u001b[0m 4ms/step - accuracy: 0.6664 - loss: 0.8621 - val_accuracy: 0.7378 - val_loss: 0.6871\n",
            "Epoch 2/3\n",
            "\u001b[1m5627/5627\u001b[0m \u001b[32m━━━━━━━━━━━━━━━━━━━━\u001b[0m\u001b[37m\u001b[0m \u001b[1m15s\u001b[0m 3ms/step - accuracy: 0.7421 - loss: 0.6782 - val_accuracy: 0.7531 - val_loss: 0.6462\n",
            "Epoch 3/3\n",
            "\u001b[1m5627/5627\u001b[0m \u001b[32m━━━━━━━━━━━━━━━━━━━━\u001b[0m\u001b[37m\u001b[0m \u001b[1m15s\u001b[0m 3ms/step - accuracy: 0.7570 - loss: 0.6402 - val_accuracy: 0.7624 - val_loss: 0.6271\n"
          ]
        }
      ]
    },
    {
      "cell_type": "code",
      "source": [
        "# Evaluate on the test data\n",
        "model_3.evaluate(test_set)"
      ],
      "metadata": {
        "colab": {
          "base_uri": "https://localhost:8080/"
        },
        "id": "j_ypnB1V665n",
        "outputId": "c7d20a2a-ad62-4762-8294-312cd3b6c234"
      },
      "execution_count": null,
      "outputs": [
        {
          "output_type": "stream",
          "name": "stdout",
          "text": [
            "\u001b[1m942/942\u001b[0m \u001b[32m━━━━━━━━━━━━━━━━━━━━\u001b[0m\u001b[37m\u001b[0m \u001b[1m2s\u001b[0m 3ms/step - accuracy: 0.7520 - loss: 0.6448\n"
          ]
        },
        {
          "output_type": "execute_result",
          "data": {
            "text/plain": [
              "[0.6444985270500183, 0.7531442046165466]"
            ]
          },
          "metadata": {},
          "execution_count": 68
        }
      ]
    },
    {
      "cell_type": "code",
      "source": [
        "## Predict on the test data\n",
        "lstm_prob_pred =model_3.predict(test_set)\n",
        "\n",
        "lstm_pred = tf.argmax(lstm_prob_pred,axis=1)\n",
        "lstm_pred"
      ],
      "metadata": {
        "colab": {
          "base_uri": "https://localhost:8080/"
        },
        "id": "2oSrpBgK7EOP",
        "outputId": "9c96dd4c-5428-4a5a-c97e-07fbda7087f9"
      },
      "execution_count": null,
      "outputs": [
        {
          "output_type": "stream",
          "name": "stdout",
          "text": [
            "\u001b[1m942/942\u001b[0m \u001b[32m━━━━━━━━━━━━━━━━━━━━\u001b[0m\u001b[37m\u001b[0m \u001b[1m2s\u001b[0m 2ms/step\n"
          ]
        },
        {
          "output_type": "execute_result",
          "data": {
            "text/plain": [
              "<tf.Tensor: shape=(30135,), dtype=int64, numpy=array([0, 2, 2, ..., 4, 4, 1])>"
            ]
          },
          "metadata": {},
          "execution_count": 69
        }
      ]
    },
    {
      "cell_type": "code",
      "source": [
        "# Get the model score's\n",
        "lstm_score = score_function(test_labels_encoded,lstm_pred)\n",
        "lstm_score"
      ],
      "metadata": {
        "colab": {
          "base_uri": "https://localhost:8080/"
        },
        "id": "Ct_ahsTx8Jup",
        "outputId": "e8849b67-0627-4e79-bb61-21471be9a73d"
      },
      "execution_count": null,
      "outputs": [
        {
          "output_type": "execute_result",
          "data": {
            "text/plain": [
              "{'Accuracy_score': 0.7531441845030695,\n",
              " 'F1-Score': 0.748254531828689,\n",
              " 'Recall_Score': 0.7531441845030695,\n",
              " 'Precision_Score': 0.7483628965386807}"
            ]
          },
          "metadata": {},
          "execution_count": 70
        }
      ]
    },
    {
      "cell_type": "markdown",
      "source": [
        "#### GRU"
      ],
      "metadata": {
        "id": "-Jv6jP0x88NQ"
      }
    },
    {
      "cell_type": "code",
      "source": [
        "inputs = layers.Input(shape =(1,512),dtype= tf.float32)\n",
        "x = layers.GRU(64)(inputs)\n",
        "outputs = layers.Dense(num_classes,activation = 'softmax')(x)\n",
        "model_4 = tf.keras.Model(inputs,outputs)\n",
        "# Compile model\n",
        "model_4.compile(loss = 'categorical_crossentropy',\n",
        "                optimizer = tf.keras.optimizers.Adam(),\n",
        "                metrics = ['accuracy'])"
      ],
      "metadata": {
        "id": "-V5crP5I9QgH"
      },
      "execution_count": null,
      "outputs": []
    },
    {
      "cell_type": "code",
      "source": [
        "model_4.summary()"
      ],
      "metadata": {
        "colab": {
          "base_uri": "https://localhost:8080/",
          "height": 225
        },
        "id": "gC4MKg-WA1da",
        "outputId": "c21b8b4b-ea11-4adf-a4b7-97ee81afb94f"
      },
      "execution_count": null,
      "outputs": [
        {
          "output_type": "display_data",
          "data": {
            "text/plain": [
              "\u001b[1mModel: \"functional_3\"\u001b[0m\n"
            ],
            "text/html": [
              "<pre style=\"white-space:pre;overflow-x:auto;line-height:normal;font-family:Menlo,'DejaVu Sans Mono',consolas,'Courier New',monospace\"><span style=\"font-weight: bold\">Model: \"functional_3\"</span>\n",
              "</pre>\n"
            ]
          },
          "metadata": {}
        },
        {
          "output_type": "display_data",
          "data": {
            "text/plain": [
              "┏━━━━━━━━━━━━━━━━━━━━━━━━━━━━━━━━━┳━━━━━━━━━━━━━━━━━━━━━━━━┳━━━━━━━━━━━━━━━┓\n",
              "┃\u001b[1m \u001b[0m\u001b[1mLayer (type)                   \u001b[0m\u001b[1m \u001b[0m┃\u001b[1m \u001b[0m\u001b[1mOutput Shape          \u001b[0m\u001b[1m \u001b[0m┃\u001b[1m \u001b[0m\u001b[1m      Param #\u001b[0m\u001b[1m \u001b[0m┃\n",
              "┡━━━━━━━━━━━━━━━━━━━━━━━━━━━━━━━━━╇━━━━━━━━━━━━━━━━━━━━━━━━╇━━━━━━━━━━━━━━━┩\n",
              "│ input_layer_3 (\u001b[38;5;33mInputLayer\u001b[0m)      │ (\u001b[38;5;45mNone\u001b[0m, \u001b[38;5;34m1\u001b[0m, \u001b[38;5;34m512\u001b[0m)         │             \u001b[38;5;34m0\u001b[0m │\n",
              "├─────────────────────────────────┼────────────────────────┼───────────────┤\n",
              "│ gru (\u001b[38;5;33mGRU\u001b[0m)                       │ (\u001b[38;5;45mNone\u001b[0m, \u001b[38;5;34m64\u001b[0m)             │       \u001b[38;5;34m110,976\u001b[0m │\n",
              "├─────────────────────────────────┼────────────────────────┼───────────────┤\n",
              "│ dense_3 (\u001b[38;5;33mDense\u001b[0m)                 │ (\u001b[38;5;45mNone\u001b[0m, \u001b[38;5;34m5\u001b[0m)              │           \u001b[38;5;34m325\u001b[0m │\n",
              "└─────────────────────────────────┴────────────────────────┴───────────────┘\n"
            ],
            "text/html": [
              "<pre style=\"white-space:pre;overflow-x:auto;line-height:normal;font-family:Menlo,'DejaVu Sans Mono',consolas,'Courier New',monospace\">┏━━━━━━━━━━━━━━━━━━━━━━━━━━━━━━━━━┳━━━━━━━━━━━━━━━━━━━━━━━━┳━━━━━━━━━━━━━━━┓\n",
              "┃<span style=\"font-weight: bold\"> Layer (type)                    </span>┃<span style=\"font-weight: bold\"> Output Shape           </span>┃<span style=\"font-weight: bold\">       Param # </span>┃\n",
              "┡━━━━━━━━━━━━━━━━━━━━━━━━━━━━━━━━━╇━━━━━━━━━━━━━━━━━━━━━━━━╇━━━━━━━━━━━━━━━┩\n",
              "│ input_layer_3 (<span style=\"color: #0087ff; text-decoration-color: #0087ff\">InputLayer</span>)      │ (<span style=\"color: #00d7ff; text-decoration-color: #00d7ff\">None</span>, <span style=\"color: #00af00; text-decoration-color: #00af00\">1</span>, <span style=\"color: #00af00; text-decoration-color: #00af00\">512</span>)         │             <span style=\"color: #00af00; text-decoration-color: #00af00\">0</span> │\n",
              "├─────────────────────────────────┼────────────────────────┼───────────────┤\n",
              "│ gru (<span style=\"color: #0087ff; text-decoration-color: #0087ff\">GRU</span>)                       │ (<span style=\"color: #00d7ff; text-decoration-color: #00d7ff\">None</span>, <span style=\"color: #00af00; text-decoration-color: #00af00\">64</span>)             │       <span style=\"color: #00af00; text-decoration-color: #00af00\">110,976</span> │\n",
              "├─────────────────────────────────┼────────────────────────┼───────────────┤\n",
              "│ dense_3 (<span style=\"color: #0087ff; text-decoration-color: #0087ff\">Dense</span>)                 │ (<span style=\"color: #00d7ff; text-decoration-color: #00d7ff\">None</span>, <span style=\"color: #00af00; text-decoration-color: #00af00\">5</span>)              │           <span style=\"color: #00af00; text-decoration-color: #00af00\">325</span> │\n",
              "└─────────────────────────────────┴────────────────────────┴───────────────┘\n",
              "</pre>\n"
            ]
          },
          "metadata": {}
        },
        {
          "output_type": "display_data",
          "data": {
            "text/plain": [
              "\u001b[1m Total params: \u001b[0m\u001b[38;5;34m111,301\u001b[0m (434.77 KB)\n"
            ],
            "text/html": [
              "<pre style=\"white-space:pre;overflow-x:auto;line-height:normal;font-family:Menlo,'DejaVu Sans Mono',consolas,'Courier New',monospace\"><span style=\"font-weight: bold\"> Total params: </span><span style=\"color: #00af00; text-decoration-color: #00af00\">111,301</span> (434.77 KB)\n",
              "</pre>\n"
            ]
          },
          "metadata": {}
        },
        {
          "output_type": "display_data",
          "data": {
            "text/plain": [
              "\u001b[1m Trainable params: \u001b[0m\u001b[38;5;34m111,301\u001b[0m (434.77 KB)\n"
            ],
            "text/html": [
              "<pre style=\"white-space:pre;overflow-x:auto;line-height:normal;font-family:Menlo,'DejaVu Sans Mono',consolas,'Courier New',monospace\"><span style=\"font-weight: bold\"> Trainable params: </span><span style=\"color: #00af00; text-decoration-color: #00af00\">111,301</span> (434.77 KB)\n",
              "</pre>\n"
            ]
          },
          "metadata": {}
        },
        {
          "output_type": "display_data",
          "data": {
            "text/plain": [
              "\u001b[1m Non-trainable params: \u001b[0m\u001b[38;5;34m0\u001b[0m (0.00 B)\n"
            ],
            "text/html": [
              "<pre style=\"white-space:pre;overflow-x:auto;line-height:normal;font-family:Menlo,'DejaVu Sans Mono',consolas,'Courier New',monospace\"><span style=\"font-weight: bold\"> Non-trainable params: </span><span style=\"color: #00af00; text-decoration-color: #00af00\">0</span> (0.00 B)\n",
              "</pre>\n"
            ]
          },
          "metadata": {}
        }
      ]
    },
    {
      "cell_type": "code",
      "source": [
        "model_4_history = model_4.fit(train_set,\n",
        "                              epochs = 3,\n",
        "                              validation_data = valid_set)"
      ],
      "metadata": {
        "colab": {
          "base_uri": "https://localhost:8080/"
        },
        "id": "s7GB7WyyBDiz",
        "outputId": "3be63a86-63cd-4699-a520-ed13e066885d"
      },
      "execution_count": null,
      "outputs": [
        {
          "output_type": "stream",
          "name": "stdout",
          "text": [
            "Epoch 1/3\n",
            "\u001b[1m5627/5627\u001b[0m \u001b[32m━━━━━━━━━━━━━━━━━━━━\u001b[0m\u001b[37m\u001b[0m \u001b[1m35s\u001b[0m 6ms/step - accuracy: 0.6734 - loss: 0.8464 - val_accuracy: 0.7321 - val_loss: 0.7000\n",
            "Epoch 2/3\n",
            "\u001b[1m5627/5627\u001b[0m \u001b[32m━━━━━━━━━━━━━━━━━━━━\u001b[0m\u001b[37m\u001b[0m \u001b[1m46s\u001b[0m 7ms/step - accuracy: 0.7371 - loss: 0.6897 - val_accuracy: 0.7496 - val_loss: 0.6544\n",
            "Epoch 3/3\n",
            "\u001b[1m5627/5627\u001b[0m \u001b[32m━━━━━━━━━━━━━━━━━━━━\u001b[0m\u001b[37m\u001b[0m \u001b[1m40s\u001b[0m 7ms/step - accuracy: 0.7529 - loss: 0.6498 - val_accuracy: 0.7591 - val_loss: 0.6322\n"
          ]
        }
      ]
    },
    {
      "cell_type": "code",
      "source": [
        "# Evaluate  on test\n",
        "model_4.evaluate(test_set)"
      ],
      "metadata": {
        "colab": {
          "base_uri": "https://localhost:8080/"
        },
        "id": "6TZHz-alBUB6",
        "outputId": "82e0971f-6f68-4936-9b14-e168c450f8a1"
      },
      "execution_count": null,
      "outputs": [
        {
          "output_type": "stream",
          "name": "stdout",
          "text": [
            "\u001b[1m942/942\u001b[0m \u001b[32m━━━━━━━━━━━━━━━━━━━━\u001b[0m\u001b[37m\u001b[0m \u001b[1m4s\u001b[0m 4ms/step - accuracy: 0.7501 - loss: 0.6518\n"
          ]
        },
        {
          "output_type": "execute_result",
          "data": {
            "text/plain": [
              "[0.6508840918540955, 0.7524141073226929]"
            ]
          },
          "metadata": {},
          "execution_count": 74
        }
      ]
    },
    {
      "cell_type": "code",
      "source": [
        "# Predict test data\n",
        "gru_prob_pred = model_4.predict(test_set)\n",
        "\n",
        "gru_pred = tf.argmax(gru_prob_pred,axis = 1)\n",
        "gru_pred"
      ],
      "metadata": {
        "colab": {
          "base_uri": "https://localhost:8080/"
        },
        "id": "ssfNaJ1zBrL9",
        "outputId": "3d45d827-c3cd-4d5b-d0a9-f0830cde0bb7"
      },
      "execution_count": null,
      "outputs": [
        {
          "output_type": "stream",
          "name": "stdout",
          "text": [
            "\u001b[1m942/942\u001b[0m \u001b[32m━━━━━━━━━━━━━━━━━━━━\u001b[0m\u001b[37m\u001b[0m \u001b[1m2s\u001b[0m 2ms/step\n"
          ]
        },
        {
          "output_type": "execute_result",
          "data": {
            "text/plain": [
              "<tf.Tensor: shape=(30135,), dtype=int64, numpy=array([0, 0, 2, ..., 4, 4, 1])>"
            ]
          },
          "metadata": {},
          "execution_count": 75
        }
      ]
    },
    {
      "cell_type": "code",
      "source": [
        "# model score\n",
        "gru_score = score_function(test_labels_encoded,gru_pred)\n",
        "gru_score"
      ],
      "metadata": {
        "colab": {
          "base_uri": "https://localhost:8080/"
        },
        "id": "5NOI8PzeCq7V",
        "outputId": "e4a59b7c-60f8-4393-b220-5baf024537bb"
      },
      "execution_count": null,
      "outputs": [
        {
          "output_type": "execute_result",
          "data": {
            "text/plain": [
              "{'Accuracy_score': 0.7524141363862619,\n",
              " 'F1-Score': 0.7475525815559406,\n",
              " 'Recall_Score': 0.7524141363862619,\n",
              " 'Precision_Score': 0.7483083687901123}"
            ]
          },
          "metadata": {},
          "execution_count": 76
        }
      ]
    },
    {
      "cell_type": "markdown",
      "source": [
        "## Model 5: Conv1D with character embeddings\n",
        "\n",
        "#### Creating a character-level tokenizer\n",
        "\n",
        "The difference between a character and token embedding is that the **character embedding** is created using sequences split into characters (e.g. `hello` -> `[h, e, l, l, o]`) where as a **token embedding** is created on sequences split into tokens.\n",
        "\n",
        "We can create a character-level embedding by first vectorizing our sequences (after they've been split into characters) using the TextVectorization class and then passing those vectorized sequences through an Embedding laye"
      ],
      "metadata": {
        "id": "UcnJwoPMqZhf"
      }
    },
    {
      "cell_type": "code",
      "source": [
        "# Make function to split sentence into characters\n",
        "\n",
        "def split_chars(text):\n",
        "  return \" \".join(list(text))\n",
        "\n",
        "# Test splitting non-character-level sequence into characters\n",
        "split_chars(random_sentence)\n",
        "\n"
      ],
      "metadata": {
        "colab": {
          "base_uri": "https://localhost:8080/",
          "height": 91
        },
        "id": "cw-ZIHCRrN9z",
        "outputId": "45105664-a29a-46f0-c0a3-571a4a59baaa"
      },
      "execution_count": 83,
      "outputs": [
        {
          "output_type": "execute_result",
          "data": {
            "text/plain": [
              "'s e v e n   s u b j e c t s   i n   t h e   p r o b i o t i c   g r o u p   a n d   @   c o n t r o l s   d e v e l o p e d   o v e r t   h e   (   p   <   @   ;   h a z a r d   r a t i o   f o r   c o n t r o l s   v s   p r o b i o t i c   g r o u p   ,   @   ;   @   %   c o n f i d e n c e   i n t e r v a l   ,   @ - @   @   )   .'"
            ],
            "application/vnd.google.colaboratory.intrinsic+json": {
              "type": "string"
            }
          },
          "metadata": {},
          "execution_count": 83
        }
      ]
    },
    {
      "cell_type": "code",
      "source": [
        "# Split sequence-level data splits into character level data splits\n",
        "train_chars = [split_chars(sentence) for sentence in train_sentences]\n",
        "val_chars = [split_chars(sentence) for sentence in val_sentences]\n",
        "test_chars = [split_chars(sentence) for sentence in test_sentences]\n",
        "print(train_chars[0])"
      ],
      "metadata": {
        "colab": {
          "base_uri": "https://localhost:8080/"
        },
        "id": "Nd6vciRZr1BR",
        "outputId": "da242964-fa86-48d2-dc08-ce7d3242d84c"
      },
      "execution_count": 84,
      "outputs": [
        {
          "output_type": "stream",
          "name": "stdout",
          "text": [
            "t o   i n v e s t i g a t e   t h e   e f f i c a c y   o f   @   w e e k s   o f   d a i l y   l o w - d o s e   o r a l   p r e d n i s o l o n e   i n   i m p r o v i n g   p a i n   ,   m o b i l i t y   ,   a n d   s y s t e m i c   l o w - g r a d e   i n f l a m m a t i o n   i n   t h e   s h o r t   t e r m   a n d   w h e t h e r   t h e   e f f e c t   w o u l d   b e   s u s t a i n e d   a t   @   w e e k s   i n   o l d e r   a d u l t s   w i t h   m o d e r a t e   t o   s e v e r e   k n e e   o s t e o a r t h r i t i s   (   o a   )   .\n"
          ]
        }
      ]
    },
    {
      "cell_type": "markdown",
      "source": [
        "To figure out how long our vectorized character sequences should be, let's check the distribution of our character sequence lengths.  "
      ],
      "metadata": {
        "id": "UkQSWbIKsqhg"
      }
    },
    {
      "cell_type": "code",
      "source": [
        "# What's the average character Length?\n",
        "char_lens = [len(sentence) for sentence in train_sentences]\n",
        "mean_char_len = np.mean(char_lens)\n",
        "mean_char_len"
      ],
      "metadata": {
        "colab": {
          "base_uri": "https://localhost:8080/"
        },
        "id": "AJgnS8kwsbm6",
        "outputId": "70c31433-e883-4e1f-9d38-86d23015b66f"
      },
      "execution_count": 85,
      "outputs": [
        {
          "output_type": "execute_result",
          "data": {
            "text/plain": [
              "np.float64(149.3662574983337)"
            ]
          },
          "metadata": {},
          "execution_count": 85
        }
      ]
    },
    {
      "cell_type": "code",
      "source": [
        "# Check the distribution of our sequences at character-level\n",
        "plt.hist(char_lens,bins =7);"
      ],
      "metadata": {
        "colab": {
          "base_uri": "https://localhost:8080/",
          "height": 430
        },
        "id": "gmQ6QF38tb7O",
        "outputId": "7f5de391-f4fe-437c-9a01-c40ceb9d484f"
      },
      "execution_count": 86,
      "outputs": [
        {
          "output_type": "display_data",
          "data": {
            "text/plain": [
              "<Figure size 640x480 with 1 Axes>"
            ],
            "image/png": "[encoded data removed]"
          },
          "metadata": {}
        }
      ]
    },
    {
      "cell_type": "code",
      "source": [
        "# Find what character length covers 95% of sequences\n",
        "output_seq_char_len = int(np.percentile(char_lens,95))\n",
        "output_seq_char_len"
      ],
      "metadata": {
        "colab": {
          "base_uri": "https://localhost:8080/"
        },
        "id": "dL8PAyg2t_qn",
        "outputId": "6965f8f8-8742-4973-a49a-f38aeecb8264"
      },
      "execution_count": 87,
      "outputs": [
        {
          "output_type": "execute_result",
          "data": {
            "text/plain": [
              "290"
            ]
          },
          "metadata": {},
          "execution_count": 87
        }
      ]
    },
    {
      "cell_type": "markdown",
      "source": [
        "We'll set `max_tokens` (the total number of different characters in our sequences) to 28, in other words, 26 letters of the alphabet + space + OOV (out of vocabulary or unknown) tokens."
      ],
      "metadata": {
        "id": "GRpyx3gouZGy"
      }
    },
    {
      "cell_type": "code",
      "source": [
        "# Get all keyboard characters for char-level embedding\n",
        "import string\n",
        "alphabet = string.ascii_lowercase + string.punctuation + string.digits\n",
        "alphabet"
      ],
      "metadata": {
        "colab": {
          "base_uri": "https://localhost:8080/",
          "height": 36
        },
        "id": "m6Q9kHJouQw4",
        "outputId": "8f99b3b8-001d-4b1b-892c-3444ac8a5d9e"
      },
      "execution_count": 88,
      "outputs": [
        {
          "output_type": "execute_result",
          "data": {
            "text/plain": [
              "'abcdefghijklmnopqrstuvwxyz!\"#$%&\\'()*+,-./:;<=>?@[\\\\]^_`{|}~0123456789'"
            ],
            "application/vnd.google.colaboratory.intrinsic+json": {
              "type": "string"
            }
          },
          "metadata": {},
          "execution_count": 88
        }
      ]
    },
    {
      "cell_type": "code",
      "source": [
        "# Create a char-level token vectorizer instance\n",
        "NUM_CHAR_TOKENS =len(alphabet) + 2\n",
        "char_vectorizer =TextVectorization(max_tokens=NUM_CHAR_TOKENS,\n",
        "                                   output_sequence_length =output_seq_char_len,\n",
        "                                   standardize = \"lower_and_strip_punctuation\", # Default\n",
        "                                   name = \"char_vectorizer\")\n",
        "\n",
        "# Adapt character vectorizer to training characters\n",
        "char_vectorizer.adapt(train_chars)"
      ],
      "metadata": {
        "id": "v00q7Zx8uwDR"
      },
      "execution_count": 89,
      "outputs": []
    },
    {
      "cell_type": "code",
      "source": [
        "# Check character vocabulary characteristics\n",
        "char_vocab = char_vectorizer.get_vocabulary()\n",
        "print(f\"Number of different characters in character vocab: {len(char_vocab)}\")\n",
        "print(f\"5 most common characters: {char_vocab[:5]}\")\n",
        "print(f\"5 least common characters: {char_vocab[-5:]}\")\n"
      ],
      "metadata": {
        "colab": {
          "base_uri": "https://localhost:8080/"
        },
        "id": "PclgPDaEvor4",
        "outputId": "c17836a3-1909-40a1-8b86-27dad8ae91de"
      },
      "execution_count": 90,
      "outputs": [
        {
          "output_type": "stream",
          "name": "stdout",
          "text": [
            "Number of different characters in character vocab: 28\n",
            "5 most common characters: ['', '[UNK]', np.str_('e'), np.str_('t'), np.str_('i')]\n",
            "5 least common characters: [np.str_('k'), np.str_('x'), np.str_('z'), np.str_('q'), np.str_('j')]\n"
          ]
        }
      ]
    },
    {
      "cell_type": "code",
      "source": [
        "# Test the character tokenizer on the char datasets\n",
        "random_train_chars = random.choice(train_chars)\n",
        "print(f\"Charified text:\\n{random_train_chars}\")\n",
        "print(f\"\\nLength of chars: {len(random_train_chars.split())}\")\n",
        "vectorized_chars = char_vectorizer([random_train_chars])\n",
        "print(f\"\\nVectorized chars:\\n{vectorized_chars}\")\n",
        "print(f\"\\nLength of vectorized chars: {len(vectorized_chars[0])}\")"
      ],
      "metadata": {
        "colab": {
          "base_uri": "https://localhost:8080/"
        },
        "id": "VPtKuus2v_26",
        "outputId": "9ecc1ea4-8d99-4b60-ac2c-eadc38ae0eab"
      },
      "execution_count": 91,
      "outputs": [
        {
          "output_type": "stream",
          "name": "stdout",
          "text": [
            "Charified text:\n",
            "f i v e   c o n s e c u t i v e   d a y s   o f   a n o d a l   t d c s   o v e r   m @   c o m b i n e d   w i t h   s t a n d a r d   t r e a t m e n t   a p p e a r s   t o   r e d u c e   p a i n   i n t e n s i t y   a n d   m a y   i m p r o v e   p r o m   ,   f a s t e r   t h a n   s t a n d a r d   t r e a t m e n t   a l o n e   .\n",
            "\n",
            "Length of chars: 145\n",
            "\n",
            "Vectorized chars:\n",
            "[[17  4 21  2 11  7  6  9  2 11 16  3  4 21  2 10  5 19  9  7 17  5  6  7\n",
            "  10  5 12  3 10 11  9  7 21  2  8 15 11  7 15 22  4  6  2 10 20  4  3 13\n",
            "   9  3  5  6 10  5  8 10  3  8  2  5  3 15  2  6  3  5 14 14  2  5  8  9\n",
            "   3  7  8  2 10 16 11  2 14  5  4  6  4  6  3  2  6  9  4  3 19  5  6 10\n",
            "  15  5 19  4 15 14  8  7 21  2 14  8  7 15 17  5  9  3  2  8  3 13  5  6\n",
            "   9  3  5  6 10  5  8 10  3  8  2  5  3 15  2  6  3  5 12  7  6  2  0  0\n",
            "   0  0  0  0  0  0  0  0  0  0  0  0  0  0  0  0  0  0  0  0  0  0  0  0\n",
            "   0  0  0  0  0  0  0  0  0  0  0  0  0  0  0  0  0  0  0  0  0  0  0  0\n",
            "   0  0  0  0  0  0  0  0  0  0  0  0  0  0  0  0  0  0  0  0  0  0  0  0\n",
            "   0  0  0  0  0  0  0  0  0  0  0  0  0  0  0  0  0  0  0  0  0  0  0  0\n",
            "   0  0  0  0  0  0  0  0  0  0  0  0  0  0  0  0  0  0  0  0  0  0  0  0\n",
            "   0  0  0  0  0  0  0  0  0  0  0  0  0  0  0  0  0  0  0  0  0  0  0  0\n",
            "   0  0]]\n",
            "\n",
            "Length of vectorized chars: 290\n"
          ]
        }
      ]
    },
    {
      "cell_type": "code",
      "source": [
        "### Creating a character-level embedding\n",
        "char_embedding = layers.Embedding(input_dim=28,\n",
        "                                  output_dim = 25,\n",
        "                                  mask_zero = False,\n",
        "                                  name = \"Character_embedding\"\n",
        "                                  )"
      ],
      "metadata": {
        "id": "NSr2r11Xxz7K"
      },
      "execution_count": 92,
      "outputs": []
    },
    {
      "cell_type": "code",
      "source": [
        "# Test on a random char sentence\n",
        "random_train_chars = random.choice(train_chars)\n",
        "print(f'Random char sentence\\n{random_train_chars}')\n",
        "rand_char_vectorized =char_vectorizer(random_train_chars)\n",
        "print(f\"\\nVectorize sentence\\n{rand_char_vectorized}\")\n",
        "print(f\"\\nEmbedded sentence\\n{char_embedding(rand_char_vectorized)}\")\n",
        "rand_embed =char_embedding(rand_char_vectorized)\n",
        "print(f\"\\nEmbedded shape:{rand_embed.shape}\")\n",
        "\n"
      ],
      "metadata": {
        "colab": {
          "base_uri": "https://localhost:8080/"
        },
        "id": "FiOttLnuwu1l",
        "outputId": "12c676eb-256b-47e2-dee9-5d906904599f"
      },
      "execution_count": 93,
      "outputs": [
        {
          "output_type": "stream",
          "name": "stdout",
          "text": [
            "Random char sentence\n",
            "t h e   e x p r e s s i o n   o f   t o l l - l i k e   r e c e p t o r - @   (   t l r @   )   ,   n u c l e a r   f a c t o r - k a p p a b   (   n f - k a p p a b   )   ,   a n d   o c c l u d i n   w e r e   d e t e c t e d   .\n",
            "\n",
            "Vectorize sentence\n",
            "[ 3 13  2  2 24 14  8  2  9  9  4  7  6  7 17  3  7 12 12 12  4 23  2  8\n",
            "  2 11  2 14  3  7  8  3 12  8  6 16 11 12  2  5  8 17  5 11  3  7  8 23\n",
            "  5 14 14  5 22  6 17 23  5 14 14  5 22  5  6 10  7 11 11 12 16 10  4  6\n",
            " 20  2  8  2 10  2  3  2 11  3  2 10  0  0  0  0  0  0  0  0  0  0  0  0\n",
            "  0  0  0  0  0  0  0  0  0  0  0  0  0  0  0  0  0  0  0  0  0  0  0  0\n",
            "  0  0  0  0  0  0  0  0  0  0  0  0  0  0  0  0  0  0  0  0  0  0  0  0\n",
            "  0  0  0  0  0  0  0  0  0  0  0  0  0  0  0  0  0  0  0  0  0  0  0  0\n",
            "  0  0  0  0  0  0  0  0  0  0  0  0  0  0  0  0  0  0  0  0  0  0  0  0\n",
            "  0  0  0  0  0  0  0  0  0  0  0  0  0  0  0  0  0  0  0  0  0  0  0  0\n",
            "  0  0  0  0  0  0  0  0  0  0  0  0  0  0  0  0  0  0  0  0  0  0  0  0\n",
            "  0  0  0  0  0  0  0  0  0  0  0  0  0  0  0  0  0  0  0  0  0  0  0  0\n",
            "  0  0  0  0  0  0  0  0  0  0  0  0  0  0  0  0  0  0  0  0  0  0  0  0\n",
            "  0  0]\n",
            "\n",
            "Embedded sentence\n",
            "[[-0.02490866  0.04961418  0.01568501 ... -0.02162991 -0.00912289\n",
            "  -0.03001655]\n",
            " [-0.0244888   0.00429214  0.02772111 ... -0.03830104 -0.00371516\n",
            "  -0.0419323 ]\n",
            " [ 0.01603978  0.01451497 -0.03949904 ... -0.00991031 -0.04065975\n",
            "   0.0134306 ]\n",
            " ...\n",
            " [ 0.02903949 -0.01176427 -0.0302273  ... -0.03576782 -0.02657354\n",
            "  -0.04189509]\n",
            " [ 0.02903949 -0.01176427 -0.0302273  ... -0.03576782 -0.02657354\n",
            "  -0.04189509]\n",
            " [ 0.02903949 -0.01176427 -0.0302273  ... -0.03576782 -0.02657354\n",
            "  -0.04189509]]\n",
            "\n",
            "Embedded shape:(290, 25)\n"
          ]
        }
      ]
    },
    {
      "cell_type": "markdown",
      "source": [
        "## Building a Conv1D model to fit on character embeddings\n",
        "Now we've got a way to turn our character-level sequences into numbers `(char_vectorizer)` as well as numerically represent them as an embedding `(char_embed)` let's test how effective they are at encoding the information in our sequences by creating a character-level sequence model.\n",
        "\n",
        "The model will have the same structure as our custom token embedding model (model_1) except it'll take character-level sequences as input instead of token-level sequences.\n",
        "```\n",
        "Input (character-level text) -> Tokenize -> Embedding -> Layers (Conv1D, GlobalMaxPool1D) -> Output (label probability)\n",
        "```"
      ],
      "metadata": {
        "id": "z2NIFsXzzoSL"
      }
    },
    {
      "cell_type": "code",
      "source": [
        "inputs = layers.Input(shape=(1,),dtype='string')\n",
        "char_vectors =char_vectorizer(inputs)\n",
        "char_embed =char_embedding(char_vectors)\n",
        "x = layers.Conv1D(64,kernel_size=5,padding='same',activation='relu')(char_embed)\n",
        "x = layers.GlobalAveragePooling1D()(x)\n",
        "outputs = layers.Dense(num_classes,activation='softmax')(x)\n",
        "model_5 = tf.keras.Model(inputs,outputs)"
      ],
      "metadata": {
        "id": "bxntTCq95ChA"
      },
      "execution_count": 174,
      "outputs": []
    },
    {
      "cell_type": "code",
      "source": [
        "# Compile model\n",
        "model_5.compile(optimizer=tf.keras.optimizers.Adam(),\n",
        "                loss='categorical_crossentropy',\n",
        "                metrics = ['accuracy'])"
      ],
      "metadata": {
        "id": "Qh3usTLg6s34"
      },
      "execution_count": 175,
      "outputs": []
    },
    {
      "cell_type": "code",
      "source": [
        "model_5.summary()"
      ],
      "metadata": {
        "colab": {
          "base_uri": "https://localhost:8080/",
          "height": 353
        },
        "id": "9jgK_XZy6kzy",
        "outputId": "2e48fa89-749a-40b3-e194-39a7344c14da"
      },
      "execution_count": 176,
      "outputs": [
        {
          "output_type": "display_data",
          "data": {
            "text/plain": [
              "\u001b[1mModel: \"functional_29\"\u001b[0m\n"
            ],
            "text/html": [
              "<pre style=\"white-space:pre;overflow-x:auto;line-height:normal;font-family:Menlo,'DejaVu Sans Mono',consolas,'Courier New',monospace\"><span style=\"font-weight: bold\">Model: \"functional_29\"</span>\n",
              "</pre>\n"
            ]
          },
          "metadata": {}
        },
        {
          "output_type": "display_data",
          "data": {
            "text/plain": [
              "┏━━━━━━━━━━━━━━━━━━━━━━━━━━━━━━━━━┳━━━━━━━━━━━━━━━━━━━━━━━━┳━━━━━━━━━━━━━━━┓\n",
              "┃\u001b[1m \u001b[0m\u001b[1mLayer (type)                   \u001b[0m\u001b[1m \u001b[0m┃\u001b[1m \u001b[0m\u001b[1mOutput Shape          \u001b[0m\u001b[1m \u001b[0m┃\u001b[1m \u001b[0m\u001b[1m      Param #\u001b[0m\u001b[1m \u001b[0m┃\n",
              "┡━━━━━━━━━━━━━━━━━━━━━━━━━━━━━━━━━╇━━━━━━━━━━━━━━━━━━━━━━━━╇━━━━━━━━━━━━━━━┩\n",
              "│ input_layer_6 (\u001b[38;5;33mInputLayer\u001b[0m)      │ (\u001b[38;5;45mNone\u001b[0m, \u001b[38;5;34m1\u001b[0m)              │             \u001b[38;5;34m0\u001b[0m │\n",
              "├─────────────────────────────────┼────────────────────────┼───────────────┤\n",
              "│ char_vectorizer                 │ (\u001b[38;5;45mNone\u001b[0m, \u001b[38;5;34m290\u001b[0m)            │             \u001b[38;5;34m0\u001b[0m │\n",
              "│ (\u001b[38;5;33mTextVectorization\u001b[0m)             │                        │               │\n",
              "├─────────────────────────────────┼────────────────────────┼───────────────┤\n",
              "│ Character_embedding (\u001b[38;5;33mEmbedding\u001b[0m) │ (\u001b[38;5;45mNone\u001b[0m, \u001b[38;5;34m290\u001b[0m, \u001b[38;5;34m25\u001b[0m)        │           \u001b[38;5;34m700\u001b[0m │\n",
              "├─────────────────────────────────┼────────────────────────┼───────────────┤\n",
              "│ conv1d_3 (\u001b[38;5;33mConv1D\u001b[0m)               │ (\u001b[38;5;45mNone\u001b[0m, \u001b[38;5;34m290\u001b[0m, \u001b[38;5;34m64\u001b[0m)        │         \u001b[38;5;34m8,064\u001b[0m │\n",
              "├─────────────────────────────────┼────────────────────────┼───────────────┤\n",
              "│ global_average_pooling1d_3      │ (\u001b[38;5;45mNone\u001b[0m, \u001b[38;5;34m64\u001b[0m)             │             \u001b[38;5;34m0\u001b[0m │\n",
              "│ (\u001b[38;5;33mGlobalAveragePooling1D\u001b[0m)        │                        │               │\n",
              "├─────────────────────────────────┼────────────────────────┼───────────────┤\n",
              "│ dense_33 (\u001b[38;5;33mDense\u001b[0m)                │ (\u001b[38;5;45mNone\u001b[0m, \u001b[38;5;34m5\u001b[0m)              │           \u001b[38;5;34m325\u001b[0m │\n",
              "└─────────────────────────────────┴────────────────────────┴───────────────┘\n"
            ],
            "text/html": [
              "<pre style=\"white-space:pre;overflow-x:auto;line-height:normal;font-family:Menlo,'DejaVu Sans Mono',consolas,'Courier New',monospace\">┏━━━━━━━━━━━━━━━━━━━━━━━━━━━━━━━━━┳━━━━━━━━━━━━━━━━━━━━━━━━┳━━━━━━━━━━━━━━━┓\n",
              "┃<span style=\"font-weight: bold\"> Layer (type)                    </span>┃<span style=\"font-weight: bold\"> Output Shape           </span>┃<span style=\"font-weight: bold\">       Param # </span>┃\n",
              "┡━━━━━━━━━━━━━━━━━━━━━━━━━━━━━━━━━╇━━━━━━━━━━━━━━━━━━━━━━━━╇━━━━━━━━━━━━━━━┩\n",
              "│ input_layer_6 (<span style=\"color: #0087ff; text-decoration-color: #0087ff\">InputLayer</span>)      │ (<span style=\"color: #00d7ff; text-decoration-color: #00d7ff\">None</span>, <span style=\"color: #00af00; text-decoration-color: #00af00\">1</span>)              │             <span style=\"color: #00af00; text-decoration-color: #00af00\">0</span> │\n",
              "├─────────────────────────────────┼────────────────────────┼───────────────┤\n",
              "│ char_vectorizer                 │ (<span style=\"color: #00d7ff; text-decoration-color: #00d7ff\">None</span>, <span style=\"color: #00af00; text-decoration-color: #00af00\">290</span>)            │             <span style=\"color: #00af00; text-decoration-color: #00af00\">0</span> │\n",
              "│ (<span style=\"color: #0087ff; text-decoration-color: #0087ff\">TextVectorization</span>)             │                        │               │\n",
              "├─────────────────────────────────┼────────────────────────┼───────────────┤\n",
              "│ Character_embedding (<span style=\"color: #0087ff; text-decoration-color: #0087ff\">Embedding</span>) │ (<span style=\"color: #00d7ff; text-decoration-color: #00d7ff\">None</span>, <span style=\"color: #00af00; text-decoration-color: #00af00\">290</span>, <span style=\"color: #00af00; text-decoration-color: #00af00\">25</span>)        │           <span style=\"color: #00af00; text-decoration-color: #00af00\">700</span> │\n",
              "├─────────────────────────────────┼────────────────────────┼───────────────┤\n",
              "│ conv1d_3 (<span style=\"color: #0087ff; text-decoration-color: #0087ff\">Conv1D</span>)               │ (<span style=\"color: #00d7ff; text-decoration-color: #00d7ff\">None</span>, <span style=\"color: #00af00; text-decoration-color: #00af00\">290</span>, <span style=\"color: #00af00; text-decoration-color: #00af00\">64</span>)        │         <span style=\"color: #00af00; text-decoration-color: #00af00\">8,064</span> │\n",
              "├─────────────────────────────────┼────────────────────────┼───────────────┤\n",
              "│ global_average_pooling1d_3      │ (<span style=\"color: #00d7ff; text-decoration-color: #00d7ff\">None</span>, <span style=\"color: #00af00; text-decoration-color: #00af00\">64</span>)             │             <span style=\"color: #00af00; text-decoration-color: #00af00\">0</span> │\n",
              "│ (<span style=\"color: #0087ff; text-decoration-color: #0087ff\">GlobalAveragePooling1D</span>)        │                        │               │\n",
              "├─────────────────────────────────┼────────────────────────┼───────────────┤\n",
              "│ dense_33 (<span style=\"color: #0087ff; text-decoration-color: #0087ff\">Dense</span>)                │ (<span style=\"color: #00d7ff; text-decoration-color: #00d7ff\">None</span>, <span style=\"color: #00af00; text-decoration-color: #00af00\">5</span>)              │           <span style=\"color: #00af00; text-decoration-color: #00af00\">325</span> │\n",
              "└─────────────────────────────────┴────────────────────────┴───────────────┘\n",
              "</pre>\n"
            ]
          },
          "metadata": {}
        },
        {
          "output_type": "display_data",
          "data": {
            "text/plain": [
              "\u001b[1m Total params: \u001b[0m\u001b[38;5;34m9,089\u001b[0m (35.50 KB)\n"
            ],
            "text/html": [
              "<pre style=\"white-space:pre;overflow-x:auto;line-height:normal;font-family:Menlo,'DejaVu Sans Mono',consolas,'Courier New',monospace\"><span style=\"font-weight: bold\"> Total params: </span><span style=\"color: #00af00; text-decoration-color: #00af00\">9,089</span> (35.50 KB)\n",
              "</pre>\n"
            ]
          },
          "metadata": {}
        },
        {
          "output_type": "display_data",
          "data": {
            "text/plain": [
              "\u001b[1m Trainable params: \u001b[0m\u001b[38;5;34m9,089\u001b[0m (35.50 KB)\n"
            ],
            "text/html": [
              "<pre style=\"white-space:pre;overflow-x:auto;line-height:normal;font-family:Menlo,'DejaVu Sans Mono',consolas,'Courier New',monospace\"><span style=\"font-weight: bold\"> Trainable params: </span><span style=\"color: #00af00; text-decoration-color: #00af00\">9,089</span> (35.50 KB)\n",
              "</pre>\n"
            ]
          },
          "metadata": {}
        },
        {
          "output_type": "display_data",
          "data": {
            "text/plain": [
              "\u001b[1m Non-trainable params: \u001b[0m\u001b[38;5;34m0\u001b[0m (0.00 B)\n"
            ],
            "text/html": [
              "<pre style=\"white-space:pre;overflow-x:auto;line-height:normal;font-family:Menlo,'DejaVu Sans Mono',consolas,'Courier New',monospace\"><span style=\"font-weight: bold\"> Non-trainable params: </span><span style=\"color: #00af00; text-decoration-color: #00af00\">0</span> (0.00 B)\n",
              "</pre>\n"
            ]
          },
          "metadata": {}
        }
      ]
    },
    {
      "cell_type": "code",
      "source": [
        "# Let's change the chars level data to tensorflow dataset\n",
        "# Create char datasets\n",
        "train_char_dataset = tf.data.Dataset.from_tensor_slices((train_chars, train_labels_one_hot)).batch(32).prefetch(tf.data.AUTOTUNE)\n",
        "val_char_dataset = tf.data.Dataset.from_tensor_slices((val_chars, val_labels_one_hot)).batch(32).prefetch(tf.data.AUTOTUNE)\n",
        "test_char_dataset = tf.data.Dataset.from_tensor_slices((test_chars, test_labels_one_hot)).batch(32).prefetch(tf.data.AUTOTUNE)\n",
        "\n",
        "train_char_dataset"
      ],
      "metadata": {
        "colab": {
          "base_uri": "https://localhost:8080/"
        },
        "id": "lggF1ddk6_S4",
        "outputId": "f79374e6-e2ad-48b9-8136-595f2321c0c4"
      },
      "execution_count": 97,
      "outputs": [
        {
          "output_type": "execute_result",
          "data": {
            "text/plain": [
              "<_PrefetchDataset element_spec=(TensorSpec(shape=(None,), dtype=tf.string, name=None), TensorSpec(shape=(None, 5), dtype=tf.float64, name=None))>"
            ]
          },
          "metadata": {},
          "execution_count": 97
        }
      ]
    },
    {
      "cell_type": "code",
      "source": [
        "# We will fit on 50 % of batches to save on time\n",
        "model_5_history = model_5.fit(train_char_dataset,\n",
        "                              # steps_per_epoch = int(0.5 * len(train_char_dataset)),\n",
        "                              epochs=3 ,\n",
        "                              validation_data = val_char_dataset,\n",
        "                              validation_steps = int(0.5 * len(val_char_dataset))\n",
        "                              )"
      ],
      "metadata": {
        "colab": {
          "base_uri": "https://localhost:8080/"
        },
        "id": "oDUVC8wU7jSj",
        "outputId": "7b6df054-0dff-410c-9d07-9da407075812"
      },
      "execution_count": null,
      "outputs": [
        {
          "output_type": "stream",
          "name": "stdout",
          "text": [
            "Epoch 1/3\n",
            "\u001b[1m5195/5627\u001b[0m \u001b[32m━━━━━━━━━━━━━━━━━━\u001b[0m\u001b[37m━━\u001b[0m \u001b[1m2s\u001b[0m 5ms/step - accuracy: 0.4750 - loss: 1.2623"
          ]
        }
      ]
    },
    {
      "cell_type": "code",
      "source": [
        "# Evaluate model_5 on whole validation char dataset\n",
        "model_5.evaluate(test_char_dataset)"
      ],
      "metadata": {
        "colab": {
          "base_uri": "https://localhost:8080/"
        },
        "id": "BUJiPyiA91AK",
        "outputId": "1a384c4a-bc3e-438a-b7a2-cadd9e910d7b"
      },
      "execution_count": 99,
      "outputs": [
        {
          "output_type": "stream",
          "name": "stdout",
          "text": [
            "\u001b[1m942/942\u001b[0m \u001b[32m━━━━━━━━━━━━━━━━━━━━\u001b[0m\u001b[37m\u001b[0m \u001b[1m4s\u001b[0m 5ms/step - accuracy: 0.5026 - loss: 1.2052\n"
          ]
        },
        {
          "output_type": "execute_result",
          "data": {
            "text/plain": [
              "[1.207090139389038, 0.504529595375061]"
            ]
          },
          "metadata": {},
          "execution_count": 99
        }
      ]
    },
    {
      "cell_type": "code",
      "source": [
        "# Make predictions with character model only\n",
        "model_5_pred_probs = model_5.predict(test_char_dataset)\n",
        "model_5_pred_probs\n"
      ],
      "metadata": {
        "colab": {
          "base_uri": "https://localhost:8080/"
        },
        "id": "m6Stw3da92rD",
        "outputId": "55b994da-bf16-4216-99e7-b34c56dbdfd0"
      },
      "execution_count": 100,
      "outputs": [
        {
          "output_type": "stream",
          "name": "stdout",
          "text": [
            "\u001b[1m942/942\u001b[0m \u001b[32m━━━━━━━━━━━━━━━━━━━━\u001b[0m\u001b[37m\u001b[0m \u001b[1m2s\u001b[0m 2ms/step\n"
          ]
        },
        {
          "output_type": "execute_result",
          "data": {
            "text/plain": [
              "array([[0.24921466, 0.21912366, 0.31053054, 0.15367457, 0.06745659],\n",
              "       [0.16612016, 0.19123901, 0.3795506 , 0.17431863, 0.08877155],\n",
              "       [0.05916987, 0.08629724, 0.3571633 , 0.02804473, 0.4693249 ],\n",
              "       ...,\n",
              "       [0.03059783, 0.05310084, 0.13089383, 0.01358012, 0.77182746],\n",
              "       [0.07942779, 0.07823309, 0.26741698, 0.02303109, 0.551891  ],\n",
              "       [0.02011889, 0.04006526, 0.70717293, 0.0219343 , 0.2107087 ]],\n",
              "      dtype=float32)"
            ]
          },
          "metadata": {},
          "execution_count": 100
        }
      ]
    },
    {
      "cell_type": "code",
      "source": [
        "# Convert predictions to classes\n",
        "model_5_preds = tf.argmax(model_5_pred_probs, axis=1)\n",
        "model_5_preds"
      ],
      "metadata": {
        "colab": {
          "base_uri": "https://localhost:8080/"
        },
        "id": "BDP8siSE97rl",
        "outputId": "5785ea63-696c-499f-edfc-53a41789656a"
      },
      "execution_count": 101,
      "outputs": [
        {
          "output_type": "execute_result",
          "data": {
            "text/plain": [
              "<tf.Tensor: shape=(30135,), dtype=int64, numpy=array([2, 2, 4, ..., 4, 4, 2])>"
            ]
          },
          "metadata": {},
          "execution_count": 101
        }
      ]
    },
    {
      "cell_type": "code",
      "source": [
        "# Calculate Conv1D char model results\n",
        "cnn_char = score_function(test_labels_encoded,model_5_preds)\n",
        "cnn_char"
      ],
      "metadata": {
        "colab": {
          "base_uri": "https://localhost:8080/"
        },
        "id": "hlbvNBRM-TCu",
        "outputId": "03f62837-3258-43ec-8113-81336c2cd56d"
      },
      "execution_count": 102,
      "outputs": [
        {
          "output_type": "execute_result",
          "data": {
            "text/plain": [
              "{'Accuracy_score': 0.5045296167247387,\n",
              " 'F1-Score': 0.4520187081684004,\n",
              " 'Recall_Score': 0.5045296167247387,\n",
              " 'Precision_Score': 0.45727637406606575}"
            ]
          },
          "metadata": {},
          "execution_count": 102
        }
      ]
    },
    {
      "cell_type": "markdown",
      "source": [
        "### Model 6: Combining pretrained token embeddings + character embeddings (hybrid embedding layer)\n",
        "\n",
        "To start replicating (or getting close to replicating) the model in Figure 1, we're going to go through the following steps:\n",
        "\n",
        "1. Create a token-level model (similar to `model_1`)\n",
        "2. Create a character-level model (similar to `model_5` with a slight modification to reflect the paper)\n",
        "3. Combine (using `layers.Concatenate`) the outputs of 1 and 2\n",
        "4. Build a series of output layers on top of 3 similar to Figure 1 and section 4.2 of [Neural Networks for Joint Sentence Classification in Medical Paper Abstracts](https://arxiv.org/pdf/1612.05251.pdf)\n",
        "5. Construct a model which takes token and character-level sequences as input and produces sequence label probabilities as output\n"
      ],
      "metadata": {
        "id": "HbK_TwAn7dSK"
      }
    },
    {
      "cell_type": "markdown",
      "source": [
        "![image.png](data:image/png;base64,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)"
      ],
      "metadata": {
        "id": "F9PedZqxa1si"
      }
    },
    {
      "cell_type": "code",
      "source": [
        "#1. Setup token inputs/model (Using USE)\n",
        "token_inputs = layers.Input(shape=(512,),dtype=tf.float32,name=\"token_input_USE\")\n",
        "# token_embeddings = text_vectorizer(token_inputs) # We have already defined our token embedding on model_1\n",
        "token_output = layers.Dense(128,activation='relu')(token_inputs)\n",
        "token_model = tf.keras.Model(inputs=token_inputs,outputs=token_output)\n",
        "\n",
        "#2. Setup char inputs/model\n",
        "char_inputs = layers.Input(shape=(1,),dtype=tf.string,name =\"char_input\")\n",
        "char_vector = char_vectorizer(char_inputs)\n",
        "char_embeddings=char_embedding(char_vector)\n",
        "\n",
        "char_bi_lstm = layers.Bidirectional(layers.LSTM(25))(char_embeddings)\n",
        "char_model = tf.keras.Model(inputs = char_inputs,\n",
        "                            outputs=char_bi_lstm)\n",
        "#3. Concate token and ch inputs (create hybrid token embedding)\n",
        "token_char_concat = layers.Concatenate(name= \"token_char_hybrid\")([token_model.output,char_model.output])\n",
        "\n",
        "#4. Create output layers - additin of dropout discussed in the paper\n",
        "combined_dropout = layers.Dropout(0.5)(token_char_concat)\n",
        "combined_dense = layers.Dense(200,activation=\"relu\")(combined_dropout)\n",
        "final_dropout = layers.Dropout(0.5)(combined_dense)\n",
        "output_layer = layers.Dense(num_classes,activation=\"softmax\")(final_dropout)\n",
        "\n",
        "model_6 = tf.keras.Model(inputs=[token_model.input,char_model.input],\n",
        "                         outputs = output_layer,\n",
        "                         name = \"model_6_token_and_char_embeddings\")\n",
        "\n",
        "\n",
        "# embedded_sentence"
      ],
      "metadata": {
        "id": "E9Rj1Kmd_cYK"
      },
      "execution_count": 168,
      "outputs": []
    },
    {
      "cell_type": "code",
      "source": [
        "# Compile token char  model\n",
        "model_6.compile(loss='categorical_crossentropy',\n",
        "                metrics = ['accuracy'],\n",
        "                optimizer =  tf.keras.optimizers.Adam())"
      ],
      "metadata": {
        "id": "hRgXC8sWt9r2"
      },
      "execution_count": 169,
      "outputs": []
    },
    {
      "cell_type": "code",
      "source": [
        "model_6.summary()"
      ],
      "metadata": {
        "colab": {
          "base_uri": "https://localhost:8080/",
          "height": 609
        },
        "id": "X1BFy2Ktbl3N",
        "outputId": "745aec91-48ad-4be5-dd55-8317d90c08cd"
      },
      "execution_count": 170,
      "outputs": [
        {
          "output_type": "display_data",
          "data": {
            "text/plain": [
              "\u001b[1mModel: \"model_6_token_and_char_embeddings\"\u001b[0m\n"
            ],
            "text/html": [
              "<pre style=\"white-space:pre;overflow-x:auto;line-height:normal;font-family:Menlo,'DejaVu Sans Mono',consolas,'Courier New',monospace\"><span style=\"font-weight: bold\">Model: \"model_6_token_and_char_embeddings\"</span>\n",
              "</pre>\n"
            ]
          },
          "metadata": {}
        },
        {
          "output_type": "display_data",
          "data": {
            "text/plain": [
              "┏━━━━━━━━━━━━━━━━━━━━━┳━━━━━━━━━━━━━━━━━━━┳━━━━━━━━━━━━┳━━━━━━━━━━━━━━━━━━━┓\n",
              "┃\u001b[1m \u001b[0m\u001b[1mLayer (type)       \u001b[0m\u001b[1m \u001b[0m┃\u001b[1m \u001b[0m\u001b[1mOutput Shape     \u001b[0m\u001b[1m \u001b[0m┃\u001b[1m \u001b[0m\u001b[1m   Param #\u001b[0m\u001b[1m \u001b[0m┃\u001b[1m \u001b[0m\u001b[1mConnected to     \u001b[0m\u001b[1m \u001b[0m┃\n",
              "┡━━━━━━━━━━━━━━━━━━━━━╇━━━━━━━━━━━━━━━━━━━╇━━━━━━━━━━━━╇━━━━━━━━━━━━━━━━━━━┩\n",
              "│ char_input          │ (\u001b[38;5;45mNone\u001b[0m, \u001b[38;5;34m1\u001b[0m)         │          \u001b[38;5;34m0\u001b[0m │ -                 │\n",
              "│ (\u001b[38;5;33mInputLayer\u001b[0m)        │                   │            │                   │\n",
              "├─────────────────────┼───────────────────┼────────────┼───────────────────┤\n",
              "│ char_vectorizer     │ (\u001b[38;5;45mNone\u001b[0m, \u001b[38;5;34m290\u001b[0m)       │          \u001b[38;5;34m0\u001b[0m │ char_input[\u001b[38;5;34m0\u001b[0m][\u001b[38;5;34m0\u001b[0m]  │\n",
              "│ (\u001b[38;5;33mTextVectorization\u001b[0m) │                   │            │                   │\n",
              "├─────────────────────┼───────────────────┼────────────┼───────────────────┤\n",
              "│ token_input_USE     │ (\u001b[38;5;45mNone\u001b[0m, \u001b[38;5;34m512\u001b[0m)       │          \u001b[38;5;34m0\u001b[0m │ -                 │\n",
              "│ (\u001b[38;5;33mInputLayer\u001b[0m)        │                   │            │                   │\n",
              "├─────────────────────┼───────────────────┼────────────┼───────────────────┤\n",
              "│ Character_embedding │ (\u001b[38;5;45mNone\u001b[0m, \u001b[38;5;34m290\u001b[0m, \u001b[38;5;34m25\u001b[0m)   │        \u001b[38;5;34m700\u001b[0m │ char_vectorizer[\u001b[38;5;34m…\u001b[0m │\n",
              "│ (\u001b[38;5;33mEmbedding\u001b[0m)         │                   │            │                   │\n",
              "├─────────────────────┼───────────────────┼────────────┼───────────────────┤\n",
              "│ dense_30 (\u001b[38;5;33mDense\u001b[0m)    │ (\u001b[38;5;45mNone\u001b[0m, \u001b[38;5;34m128\u001b[0m)       │     \u001b[38;5;34m65,664\u001b[0m │ token_input_USE[\u001b[38;5;34m…\u001b[0m │\n",
              "├─────────────────────┼───────────────────┼────────────┼───────────────────┤\n",
              "│ bidirectional_12    │ (\u001b[38;5;45mNone\u001b[0m, \u001b[38;5;34m50\u001b[0m)        │     \u001b[38;5;34m10,200\u001b[0m │ Character_embedd… │\n",
              "│ (\u001b[38;5;33mBidirectional\u001b[0m)     │                   │            │                   │\n",
              "├─────────────────────┼───────────────────┼────────────┼───────────────────┤\n",
              "│ token_char_hybrid   │ (\u001b[38;5;45mNone\u001b[0m, \u001b[38;5;34m178\u001b[0m)       │          \u001b[38;5;34m0\u001b[0m │ dense_30[\u001b[38;5;34m0\u001b[0m][\u001b[38;5;34m0\u001b[0m],   │\n",
              "│ (\u001b[38;5;33mConcatenate\u001b[0m)       │                   │            │ bidirectional_12… │\n",
              "├─────────────────────┼───────────────────┼────────────┼───────────────────┤\n",
              "│ dropout_12          │ (\u001b[38;5;45mNone\u001b[0m, \u001b[38;5;34m178\u001b[0m)       │          \u001b[38;5;34m0\u001b[0m │ token_char_hybri… │\n",
              "│ (\u001b[38;5;33mDropout\u001b[0m)           │                   │            │                   │\n",
              "├─────────────────────┼───────────────────┼────────────┼───────────────────┤\n",
              "│ dense_31 (\u001b[38;5;33mDense\u001b[0m)    │ (\u001b[38;5;45mNone\u001b[0m, \u001b[38;5;34m200\u001b[0m)       │     \u001b[38;5;34m35,800\u001b[0m │ dropout_12[\u001b[38;5;34m0\u001b[0m][\u001b[38;5;34m0\u001b[0m]  │\n",
              "├─────────────────────┼───────────────────┼────────────┼───────────────────┤\n",
              "│ dropout_13          │ (\u001b[38;5;45mNone\u001b[0m, \u001b[38;5;34m200\u001b[0m)       │          \u001b[38;5;34m0\u001b[0m │ dense_31[\u001b[38;5;34m0\u001b[0m][\u001b[38;5;34m0\u001b[0m]    │\n",
              "│ (\u001b[38;5;33mDropout\u001b[0m)           │                   │            │                   │\n",
              "├─────────────────────┼───────────────────┼────────────┼───────────────────┤\n",
              "│ dense_32 (\u001b[38;5;33mDense\u001b[0m)    │ (\u001b[38;5;45mNone\u001b[0m, \u001b[38;5;34m5\u001b[0m)         │      \u001b[38;5;34m1,005\u001b[0m │ dropout_13[\u001b[38;5;34m0\u001b[0m][\u001b[38;5;34m0\u001b[0m]  │\n",
              "└─────────────────────┴───────────────────┴────────────┴───────────────────┘\n"
            ],
            "text/html": [
              "<pre style=\"white-space:pre;overflow-x:auto;line-height:normal;font-family:Menlo,'DejaVu Sans Mono',consolas,'Courier New',monospace\">┏━━━━━━━━━━━━━━━━━━━━━┳━━━━━━━━━━━━━━━━━━━┳━━━━━━━━━━━━┳━━━━━━━━━━━━━━━━━━━┓\n",
              "┃<span style=\"font-weight: bold\"> Layer (type)        </span>┃<span style=\"font-weight: bold\"> Output Shape      </span>┃<span style=\"font-weight: bold\">    Param # </span>┃<span style=\"font-weight: bold\"> Connected to      </span>┃\n",
              "┡━━━━━━━━━━━━━━━━━━━━━╇━━━━━━━━━━━━━━━━━━━╇━━━━━━━━━━━━╇━━━━━━━━━━━━━━━━━━━┩\n",
              "│ char_input          │ (<span style=\"color: #00d7ff; text-decoration-color: #00d7ff\">None</span>, <span style=\"color: #00af00; text-decoration-color: #00af00\">1</span>)         │          <span style=\"color: #00af00; text-decoration-color: #00af00\">0</span> │ -                 │\n",
              "│ (<span style=\"color: #0087ff; text-decoration-color: #0087ff\">InputLayer</span>)        │                   │            │                   │\n",
              "├─────────────────────┼───────────────────┼────────────┼───────────────────┤\n",
              "│ char_vectorizer     │ (<span style=\"color: #00d7ff; text-decoration-color: #00d7ff\">None</span>, <span style=\"color: #00af00; text-decoration-color: #00af00\">290</span>)       │          <span style=\"color: #00af00; text-decoration-color: #00af00\">0</span> │ char_input[<span style=\"color: #00af00; text-decoration-color: #00af00\">0</span>][<span style=\"color: #00af00; text-decoration-color: #00af00\">0</span>]  │\n",
              "│ (<span style=\"color: #0087ff; text-decoration-color: #0087ff\">TextVectorization</span>) │                   │            │                   │\n",
              "├─────────────────────┼───────────────────┼────────────┼───────────────────┤\n",
              "│ token_input_USE     │ (<span style=\"color: #00d7ff; text-decoration-color: #00d7ff\">None</span>, <span style=\"color: #00af00; text-decoration-color: #00af00\">512</span>)       │          <span style=\"color: #00af00; text-decoration-color: #00af00\">0</span> │ -                 │\n",
              "│ (<span style=\"color: #0087ff; text-decoration-color: #0087ff\">InputLayer</span>)        │                   │            │                   │\n",
              "├─────────────────────┼───────────────────┼────────────┼───────────────────┤\n",
              "│ Character_embedding │ (<span style=\"color: #00d7ff; text-decoration-color: #00d7ff\">None</span>, <span style=\"color: #00af00; text-decoration-color: #00af00\">290</span>, <span style=\"color: #00af00; text-decoration-color: #00af00\">25</span>)   │        <span style=\"color: #00af00; text-decoration-color: #00af00\">700</span> │ char_vectorizer[<span style=\"color: #00af00; text-decoration-color: #00af00\">…</span> │\n",
              "│ (<span style=\"color: #0087ff; text-decoration-color: #0087ff\">Embedding</span>)         │                   │            │                   │\n",
              "├─────────────────────┼───────────────────┼────────────┼───────────────────┤\n",
              "│ dense_30 (<span style=\"color: #0087ff; text-decoration-color: #0087ff\">Dense</span>)    │ (<span style=\"color: #00d7ff; text-decoration-color: #00d7ff\">None</span>, <span style=\"color: #00af00; text-decoration-color: #00af00\">128</span>)       │     <span style=\"color: #00af00; text-decoration-color: #00af00\">65,664</span> │ token_input_USE[<span style=\"color: #00af00; text-decoration-color: #00af00\">…</span> │\n",
              "├─────────────────────┼───────────────────┼────────────┼───────────────────┤\n",
              "│ bidirectional_12    │ (<span style=\"color: #00d7ff; text-decoration-color: #00d7ff\">None</span>, <span style=\"color: #00af00; text-decoration-color: #00af00\">50</span>)        │     <span style=\"color: #00af00; text-decoration-color: #00af00\">10,200</span> │ Character_embedd… │\n",
              "│ (<span style=\"color: #0087ff; text-decoration-color: #0087ff\">Bidirectional</span>)     │                   │            │                   │\n",
              "├─────────────────────┼───────────────────┼────────────┼───────────────────┤\n",
              "│ token_char_hybrid   │ (<span style=\"color: #00d7ff; text-decoration-color: #00d7ff\">None</span>, <span style=\"color: #00af00; text-decoration-color: #00af00\">178</span>)       │          <span style=\"color: #00af00; text-decoration-color: #00af00\">0</span> │ dense_30[<span style=\"color: #00af00; text-decoration-color: #00af00\">0</span>][<span style=\"color: #00af00; text-decoration-color: #00af00\">0</span>],   │\n",
              "│ (<span style=\"color: #0087ff; text-decoration-color: #0087ff\">Concatenate</span>)       │                   │            │ bidirectional_12… │\n",
              "├─────────────────────┼───────────────────┼────────────┼───────────────────┤\n",
              "│ dropout_12          │ (<span style=\"color: #00d7ff; text-decoration-color: #00d7ff\">None</span>, <span style=\"color: #00af00; text-decoration-color: #00af00\">178</span>)       │          <span style=\"color: #00af00; text-decoration-color: #00af00\">0</span> │ token_char_hybri… │\n",
              "│ (<span style=\"color: #0087ff; text-decoration-color: #0087ff\">Dropout</span>)           │                   │            │                   │\n",
              "├─────────────────────┼───────────────────┼────────────┼───────────────────┤\n",
              "│ dense_31 (<span style=\"color: #0087ff; text-decoration-color: #0087ff\">Dense</span>)    │ (<span style=\"color: #00d7ff; text-decoration-color: #00d7ff\">None</span>, <span style=\"color: #00af00; text-decoration-color: #00af00\">200</span>)       │     <span style=\"color: #00af00; text-decoration-color: #00af00\">35,800</span> │ dropout_12[<span style=\"color: #00af00; text-decoration-color: #00af00\">0</span>][<span style=\"color: #00af00; text-decoration-color: #00af00\">0</span>]  │\n",
              "├─────────────────────┼───────────────────┼────────────┼───────────────────┤\n",
              "│ dropout_13          │ (<span style=\"color: #00d7ff; text-decoration-color: #00d7ff\">None</span>, <span style=\"color: #00af00; text-decoration-color: #00af00\">200</span>)       │          <span style=\"color: #00af00; text-decoration-color: #00af00\">0</span> │ dense_31[<span style=\"color: #00af00; text-decoration-color: #00af00\">0</span>][<span style=\"color: #00af00; text-decoration-color: #00af00\">0</span>]    │\n",
              "│ (<span style=\"color: #0087ff; text-decoration-color: #0087ff\">Dropout</span>)           │                   │            │                   │\n",
              "├─────────────────────┼───────────────────┼────────────┼───────────────────┤\n",
              "│ dense_32 (<span style=\"color: #0087ff; text-decoration-color: #0087ff\">Dense</span>)    │ (<span style=\"color: #00d7ff; text-decoration-color: #00d7ff\">None</span>, <span style=\"color: #00af00; text-decoration-color: #00af00\">5</span>)         │      <span style=\"color: #00af00; text-decoration-color: #00af00\">1,005</span> │ dropout_13[<span style=\"color: #00af00; text-decoration-color: #00af00\">0</span>][<span style=\"color: #00af00; text-decoration-color: #00af00\">0</span>]  │\n",
              "└─────────────────────┴───────────────────┴────────────┴───────────────────┘\n",
              "</pre>\n"
            ]
          },
          "metadata": {}
        },
        {
          "output_type": "display_data",
          "data": {
            "text/plain": [
              "\u001b[1m Total params: \u001b[0m\u001b[38;5;34m113,369\u001b[0m (442.85 KB)\n"
            ],
            "text/html": [
              "<pre style=\"white-space:pre;overflow-x:auto;line-height:normal;font-family:Menlo,'DejaVu Sans Mono',consolas,'Courier New',monospace\"><span style=\"font-weight: bold\"> Total params: </span><span style=\"color: #00af00; text-decoration-color: #00af00\">113,369</span> (442.85 KB)\n",
              "</pre>\n"
            ]
          },
          "metadata": {}
        },
        {
          "output_type": "display_data",
          "data": {
            "text/plain": [
              "\u001b[1m Trainable params: \u001b[0m\u001b[38;5;34m113,369\u001b[0m (442.85 KB)\n"
            ],
            "text/html": [
              "<pre style=\"white-space:pre;overflow-x:auto;line-height:normal;font-family:Menlo,'DejaVu Sans Mono',consolas,'Courier New',monospace\"><span style=\"font-weight: bold\"> Trainable params: </span><span style=\"color: #00af00; text-decoration-color: #00af00\">113,369</span> (442.85 KB)\n",
              "</pre>\n"
            ]
          },
          "metadata": {}
        },
        {
          "output_type": "display_data",
          "data": {
            "text/plain": [
              "\u001b[1m Non-trainable params: \u001b[0m\u001b[38;5;34m0\u001b[0m (0.00 B)\n"
            ],
            "text/html": [
              "<pre style=\"white-space:pre;overflow-x:auto;line-height:normal;font-family:Menlo,'DejaVu Sans Mono',consolas,'Courier New',monospace\"><span style=\"font-weight: bold\"> Non-trainable params: </span><span style=\"color: #00af00; text-decoration-color: #00af00\">0</span> (0.00 B)\n",
              "</pre>\n"
            ]
          },
          "metadata": {}
        }
      ]
    },
    {
      "cell_type": "code",
      "source": [
        "# Plot hybrid token and character model\n",
        "from tensorflow.keras.utils import plot_model\n",
        "plot_model(model_6,show_shapes=True, show_layer_names=True)"
      ],
      "metadata": {
        "colab": {
          "base_uri": "https://localhost:8080/",
          "height": 960
        },
        "id": "I_Qs5ZIYlnUI",
        "outputId": "420d9803-f26c-41e1-b012-0809ec70ddf1"
      },
      "execution_count": 171,
      "outputs": [
        {
          "output_type": "execute_result",
          "data": {
            "image/png": "[encoded data removed]",
            "text/plain": [
              "<IPython.core.display.Image object>"
            ]
          },
          "metadata": {},
          "execution_count": 171
        }
      ]
    },
    {
      "cell_type": "markdown",
      "source": [
        "And again, to keep our experiments fast, we'll fit our token-character-hybrid model on 10% of training and validate on 10% of validation batches. However, the difference with this model is that it requires two inputs, token-level sequences and character-level sequences.\n",
        "\n",
        "We can do this by create a `tf.data.Dataset `with a tuple as it's first input, for example:\n",
        "\n",
        "* `((token_data, char_data), (label))`"
      ],
      "metadata": {
        "id": "LyxCfAntupYA"
      }
    },
    {
      "cell_type": "code",
      "source": [
        "# Combine char and tokens into a dataset\n",
        "emb_chr_train =embedded_sentence(train_chars)\n",
        "\n",
        "train_char_token_data = tf.data.Dataset.from_tensor_slices((emb_chr_train,train_sentences)) # make data\n",
        "train_char_label_data = tf.data.Dataset.from_tensor_slices(train_labels_one_hot)\n",
        "train_char_token_dataset = tf.data.Dataset.zip((train_char_token_data,train_char_label_data))\n",
        "\n",
        "# Prefetch and batch train data\n",
        "train_char_token_dataset = train_char_token_dataset.batch(32).prefetch(tf.data.AUTOTUNE)\n",
        "\n",
        "# Repeat the same steps validation data\n",
        "emb_chr_val = embedded_sentence(val_chars)\n",
        "# emb_chr_val = np.expand_dims(emb_chr_val,axis=1) # add an external dimension to fit model dimension\n",
        "val_char_token_data = tf.data.Dataset.from_tensor_slices((emb_chr_val,val_sentences))\n",
        "val_char_token_labels = tf.data.Dataset.from_tensor_slices(val_labels_one_hot)\n",
        "val_char_token_dataset = tf.data.Dataset.zip((val_char_token_data,val_char_token_labels))\n",
        "val_char_token_dataset = val_char_token_dataset.batch(32).prefetch(tf.data.AUTOTUNE)\n"
      ],
      "metadata": {
        "id": "l_43WT9GuSYV"
      },
      "execution_count": null,
      "outputs": []
    },
    {
      "cell_type": "code",
      "source": [
        "train_char_token_dataset.element_spec,val_char_token_dataset.element_spec"
      ],
      "metadata": {
        "colab": {
          "base_uri": "https://localhost:8080/"
        },
        "id": "1D_nphzMvIyY",
        "outputId": "9ccfb055-e4e1-4eb4-b56f-8b27ba8aed09"
      },
      "execution_count": 158,
      "outputs": [
        {
          "output_type": "execute_result",
          "data": {
            "text/plain": [
              "(((TensorSpec(shape=(None, 512), dtype=tf.float32, name=None),\n",
              "   TensorSpec(shape=(None,), dtype=tf.string, name=None)),\n",
              "  TensorSpec(shape=(None, 5), dtype=tf.float64, name=None)),\n",
              " ((TensorSpec(shape=(None, 512), dtype=tf.float32, name=None),\n",
              "   TensorSpec(shape=(None,), dtype=tf.string, name=None)),\n",
              "  TensorSpec(shape=(None, 5), dtype=tf.float64, name=None)))"
            ]
          },
          "metadata": {},
          "execution_count": 158
        }
      ]
    },
    {
      "cell_type": "markdown",
      "source": [
        "### Fitting a model on token and character-level sequences"
      ],
      "metadata": {
        "id": "hVFHEd6yxQBa"
      }
    },
    {
      "cell_type": "code",
      "source": [
        "# Fit the model on tokens and char\n",
        "model_6_history = model_6.fit(train_char_token_dataset,\n",
        "                              # steps_per_epoch =int(0.3*len(train_char_token_dataset)),\n",
        "                              epochs =3,\n",
        "                              validation_data = val_char_token_dataset,\n",
        "                              validation_steps = int(0.5*len(val_char_token_dataset))\n",
        "                              )"
      ],
      "metadata": {
        "colab": {
          "base_uri": "https://localhost:8080/"
        },
        "id": "AquzflSrxu0p",
        "outputId": "fb72c3c1-8aec-4223-961f-74ef95764d6c"
      },
      "execution_count": 173,
      "outputs": [
        {
          "output_type": "stream",
          "name": "stdout",
          "text": [
            "Epoch 1/3\n",
            "\u001b[1m5627/5627\u001b[0m \u001b[32m━━━━━━━━━━━━━━━━━━━━\u001b[0m\u001b[37m\u001b[0m \u001b[1m123s\u001b[0m 22ms/step - accuracy: 0.5263 - loss: 1.1387 - val_accuracy: 0.5844 - val_loss: 1.0332\n",
            "Epoch 2/3\n",
            "\u001b[1m5627/5627\u001b[0m \u001b[32m━━━━━━━━━━━━━━━━━━━━\u001b[0m\u001b[37m\u001b[0m \u001b[1m123s\u001b[0m 22ms/step - accuracy: 0.5666 - loss: 1.0610 - val_accuracy: 0.6074 - val_loss: 0.9870\n",
            "Epoch 3/3\n",
            "\u001b[1m5627/5627\u001b[0m \u001b[32m━━━━━━━━━━━━━━━━━━━━\u001b[0m\u001b[37m\u001b[0m \u001b[1m124s\u001b[0m 22ms/step - accuracy: 0.5802 - loss: 1.0361 - val_accuracy: 0.6191 - val_loss: 0.9563\n"
          ]
        }
      ]
    }
  ]
}